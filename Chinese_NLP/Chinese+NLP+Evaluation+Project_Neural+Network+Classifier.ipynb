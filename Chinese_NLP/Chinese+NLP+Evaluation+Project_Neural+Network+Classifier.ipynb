{
 "cells": [
  {
   "cell_type": "markdown",
   "metadata": {},
   "source": [
    "# Chinese NLP Evaluation Project_Neural Network Classifier"
   ]
  },
  {
   "cell_type": "markdown",
   "metadata": {},
   "source": [
    "This is a Chinese NLP evaluation project finished by Yiting Luo."
   ]
  },
  {
   "cell_type": "markdown",
   "metadata": {},
   "source": [
    "## Data Set Description"
   ]
  },
  {
   "cell_type": "markdown",
   "metadata": {},
   "source": [
    "Training data is from: ChnSentiCorp: https://pan.baidu.com/s/1hsF1Zbm. Data includes negative and positive hotel evaluation.\n",
    "\n",
    "Testing data is split from training data set."
   ]
  },
  {
   "cell_type": "markdown",
   "metadata": {},
   "source": [
    "## Data Importing and Pre-processing"
   ]
  },
  {
   "cell_type": "code",
   "execution_count": 1,
   "metadata": {},
   "outputs": [
    {
     "name": "stdout",
     "output_type": "stream",
     "text": [
      "/Users/luoyiting/Desktop/nlpdatachallenge\n"
     ]
    }
   ],
   "source": [
    "# Change working directory\n",
    "import os\n",
    "os.chdir('/Users/luoyiting/Desktop/nlpdatachallenge')\n",
    "print (os.getcwd())"
   ]
  },
  {
   "cell_type": "code",
   "execution_count": 2,
   "metadata": {},
   "outputs": [
    {
     "name": "stderr",
     "output_type": "stream",
     "text": [
      "/Users/luoyiting/anaconda/lib/python3.5/site-packages/h5py/__init__.py:34: FutureWarning: Conversion of the second argument of issubdtype from `float` to `np.floating` is deprecated. In future, it will be treated as `np.float64 == np.dtype(float).type`.\n",
      "  from ._conv import register_converters as _register_converters\n",
      "Using TensorFlow backend.\n",
      "/Users/luoyiting/anaconda/lib/python3.5/importlib/_bootstrap.py:222: RuntimeWarning: compiletime version 3.6 of module 'tensorflow.python.framework.fast_tensor_util' does not match runtime version 3.5\n",
      "  return f(*args, **kwds)\n"
     ]
    }
   ],
   "source": [
    "# Import packages\n",
    "\n",
    "from os import listdir\n",
    "from os.path import isfile, join\n",
    "import jieba\n",
    "import codecs\n",
    "from langconv import * # convert Traditional Chinese characters to Simplified Chinese characters\n",
    "import pickle\n",
    "import random\n",
    "import pandas as pd\n",
    "import numpy as np\n",
    "\n",
    "from keras.models import Sequential\n",
    "from keras.layers.embeddings import Embedding\n",
    "from keras.layers.recurrent import GRU\n",
    "from keras.preprocessing.text import Tokenizer\n",
    "from keras.layers.core import Dense\n",
    "from keras.utils import to_categorical\n",
    "from keras.preprocessing.sequence import pad_sequences\n",
    "from keras.callbacks import TensorBoard\n",
    "from sklearn.model_selection import train_test_split\n",
    "import scipy.stats as stats\n",
    "import pylab as pl"
   ]
  },
  {
   "cell_type": "code",
   "execution_count": 3,
   "metadata": {
    "collapsed": true
   },
   "outputs": [],
   "source": [
    "# import data from original folder\n",
    "dataBaseDirPos = \"ChnSentiCorp情感分析酒店评论/正面/\"\n",
    "dataBaseDirNeg = \"ChnSentiCorp情感分析酒店评论/负面/\"\n",
    "positiveFiles = [dataBaseDirPos + f for f in listdir(dataBaseDirPos) if isfile(join(dataBaseDirPos, f))]\n",
    "negativeFiles = [dataBaseDirNeg + f for f in listdir(dataBaseDirNeg) if isfile(join(dataBaseDirNeg, f))]"
   ]
  },
  {
   "cell_type": "code",
   "execution_count": 4,
   "metadata": {},
   "outputs": [
    {
     "name": "stdout",
     "output_type": "stream",
     "text": [
      "2001\n",
      "2001\n"
     ]
    }
   ],
   "source": [
    "# Check if our data is balanced\n",
    "print(len(positiveFiles))\n",
    "print(len(negativeFiles))"
   ]
  },
  {
   "cell_type": "code",
   "execution_count": 5,
   "metadata": {},
   "outputs": [],
   "source": [
    "# Merge positive and negative comments and generate a data document\n",
    "documents = []\n",
    "for filename in positiveFiles:\n",
    "    text = \"\"\n",
    "    with codecs.open(filename, \"rb\") as doc_file:\n",
    "        for line in doc_file:\n",
    "            try:\n",
    "                line = line.decode(\"utf-8\")\n",
    "            except:\n",
    "                continue\n",
    "            text+=Converter('zh-hans').convert(line)# Convert from traditional to simplified Chinese\n",
    "\n",
    "            text = text.replace(\"\\n\", \"\")\n",
    "            text = text.replace(\"\\r\", \"\")\n",
    "    documents.append((text, \"pos\"))\n",
    "\n",
    "for filename in negativeFiles:\n",
    "    text = \"\"\n",
    "    with codecs.open(filename, \"rb\") as doc_file:\n",
    "        for line in doc_file:\n",
    "            try:\n",
    "                line = line.decode(\"utf-8\")\n",
    "            except:\n",
    "                continue\n",
    "            text+=Converter('zh-hans').convert(line)# Convert from traditional to simplified Chinese\n",
    "\n",
    "            text = text.replace(\"\\n\", \"\")\n",
    "            text = text.replace(\"\\r\", \"\")\n",
    "    documents.append((text, \"neg\"))"
   ]
  },
  {
   "cell_type": "code",
   "execution_count": 6,
   "metadata": {},
   "outputs": [],
   "source": [
    "# Shuffle dataset: documents\n",
    "random.shuffle(documents)"
   ]
  },
  {
   "cell_type": "markdown",
   "metadata": {},
   "source": [
    "## Prepare text and target"
   ]
  },
  {
   "cell_type": "code",
   "execution_count": 7,
   "metadata": {},
   "outputs": [
    {
     "name": "stderr",
     "output_type": "stream",
     "text": [
      "Building prefix dict from the default dictionary ...\n",
      "Loading model from cache /var/folders/lp/xhvxtxys4f3b6nwg_3dcfkmw0000gn/T/jieba.cache\n",
      "Loading model cost 1.330 seconds.\n",
      "Prefix dict has been built succesfully.\n"
     ]
    }
   ],
   "source": [
    "# Tokenize and remove stop words\n",
    "totalX = []\n",
    "totalY = [str(doc[1]) for doc in documents]  #label: pos/neg\n",
    "stopwords = [ line.rstrip() for line in codecs.open('chinese_stop_words.txt',\"r\", encoding=\"utf-8\") ]\n",
    "for doc in documents:\n",
    "    seg_list = jieba.cut(doc[0], cut_all=False)\n",
    "    seg_list = list(seg_list)\n",
    "    final =[]\n",
    "    for seg in seg_list:\n",
    "        if seg not in stopwords:\n",
    "            final.append(seg)\n",
    "    totalX.append(final)"
   ]
  },
  {
   "cell_type": "code",
   "execution_count": 8,
   "metadata": {},
   "outputs": [
    {
     "name": "stdout",
     "output_type": "stream",
     "text": [
      "Number of text: 4002\n",
      "Number of label: 4002\n"
     ]
    }
   ],
   "source": [
    "# Check if our text and target are balanced\n",
    "print(\"Number of text:\", len(totalX))\n",
    "print(\"Number of label:\", len(totalY))"
   ]
  },
  {
   "cell_type": "code",
   "execution_count": 9,
   "metadata": {},
   "outputs": [
    {
     "name": "stdout",
     "output_type": "stream",
     "text": [
      "Max length is:  514\n"
     ]
    }
   ],
   "source": [
    "h = sorted([len(sentence) for sentence in totalX])\n",
    "maxLength = h[int(len(h))-1]\n",
    "print(\"Max length is: \",maxLength)"
   ]
  },
  {
   "cell_type": "code",
   "execution_count": 10,
   "metadata": {},
   "outputs": [
    {
     "data": {
      "image/png": "[encoded data removed]",
      "text/plain": [
       "<matplotlib.figure.Figure at 0x11de98f28>"
      ]
     },
     "metadata": {},
     "output_type": "display_data"
    }
   ],
   "source": [
    "# Draw a plot to see distribution of text_length\n",
    "fit = stats.norm.pdf(h, np.mean(h), np.std(h))  #fit text_length with a normal function\n",
    "pl.plot(h,fit,'-o')\n",
    "pl.hist(h,normed=True)      #draw histogram of text_length\n",
    "pl.show()"
   ]
  },
  {
   "cell_type": "markdown",
   "metadata": {},
   "source": [
    "## Words to Number Tokens, padding"
   ]
  },
  {
   "cell_type": "code",
   "execution_count": null,
   "metadata": {
    "collapsed": true
   },
   "outputs": [],
   "source": [
    "totalX = [\" \".join(str(wordslist)) for wordslist in totalX]  # Keras Tokenizer expect the words tokens to be seperated by space \n",
    "input_tokenizer = Tokenizer(30000) # Initial vocab size\n",
    "input_tokenizer.fit_on_texts(totalX)\n",
    "vocab_size = len(input_tokenizer.word_index) + 1\n",
    "print(\"input vocab_size:\",vocab_size)\n",
    "totalX = np.array(pad_sequences(input_tokenizer.texts_to_sequences(totalX), maxlen=maxLength))"
   ]
  },
  {
   "cell_type": "markdown",
   "metadata": {},
   "source": [
    "## Convert Output Label to 0s and 1s"
   ]
  },
  {
   "cell_type": "code",
   "execution_count": 21,
   "metadata": {},
   "outputs": [
    {
     "name": "stdout",
     "output_type": "stream",
     "text": [
      "output vocab_size: 3\n"
     ]
    }
   ],
   "source": [
    "target_tokenizer = Tokenizer(3)\n",
    "target_tokenizer.fit_on_texts(totalY)\n",
    "print(\"output vocab_size:\",len(target_tokenizer.word_index) + 1)\n",
    "totalY = np.array(target_tokenizer.texts_to_sequences(totalY)) -1\n",
    "totalY = totalY.reshape(totalY.shape[0])"
   ]
  },
  {
   "cell_type": "markdown",
   "metadata": {},
   "source": [
    "## Turn output 0s and 1s to categories(one-hot vectors)"
   ]
  },
  {
   "cell_type": "code",
   "execution_count": 27,
   "metadata": {
    "collapsed": true
   },
   "outputs": [],
   "source": [
    "totalY = to_categorical(totalY, num_classes=2)"
   ]
  },
  {
   "cell_type": "code",
   "execution_count": 36,
   "metadata": {},
   "outputs": [],
   "source": [
    "output_dimen = totalY.shape[1]"
   ]
  },
  {
   "cell_type": "markdown",
   "metadata": {},
   "source": [
    "## Save meta data for later predition"
   ]
  },
  {
   "cell_type": "markdown",
   "metadata": {},
   "source": [
    "maxLength: the input sequence length\n",
    "\n",
    "vocab_size: Input vocab size\n",
    "\n",
    "output_dimen: which is 2 in this example (pos or neg)\n",
    "\n",
    "sentiment_tag: either [\"neg\",\"pos\"] or [\"pos\",\"neg\"] matching the target tokenizer"
   ]
  },
  {
   "cell_type": "code",
   "execution_count": 37,
   "metadata": {
    "collapsed": true
   },
   "outputs": [],
   "source": [
    "target_reverse_word_index = {v: k for k, v in list(target_tokenizer.word_index.items())}\n",
    "sentiment_tag = [target_reverse_word_index[1],target_reverse_word_index[2]] \n",
    "metaData = {\"maxLength\":maxLength,\"vocab_size\":vocab_size,\"output_dimen\":output_dimen,\"sentiment_tag\":sentiment_tag}"
   ]
  },
  {
   "cell_type": "markdown",
   "metadata": {},
   "source": [
    "## Build a Neural Network Classifier Model, Train and Save it"
   ]
  },
  {
   "cell_type": "code",
   "execution_count": 39,
   "metadata": {},
   "outputs": [
    {
     "name": "stdout",
     "output_type": "stream",
     "text": [
      "_________________________________________________________________\n",
      "Layer (type)                 Output Shape              Param #   \n",
      "=================================================================\n",
      "embedding_2 (Embedding)      (None, 514, 256)          764160    \n",
      "_________________________________________________________________\n",
      "gru_3 (GRU)                  (None, 514, 256)          393984    \n",
      "_________________________________________________________________\n",
      "gru_4 (GRU)                  (None, 256)               393984    \n",
      "_________________________________________________________________\n",
      "dense_2 (Dense)              (None, 2)                 514       \n",
      "=================================================================\n",
      "Total params: 1,552,642\n",
      "Trainable params: 1,552,642\n",
      "Non-trainable params: 0\n",
      "_________________________________________________________________\n",
      "Train on 3601 samples, validate on 401 samples\n",
      "Epoch 1/20\n",
      "3601/3601 [==============================] - 530s 147ms/step - loss: 0.7013 - acc: 0.5099 - val_loss: 0.6956 - val_acc: 0.4963\n",
      "Epoch 2/20\n",
      "3601/3601 [==============================] - 522s 145ms/step - loss: 0.6908 - acc: 0.5437 - val_loss: 0.6832 - val_acc: 0.5860\n",
      "Epoch 3/20\n",
      "3601/3601 [==============================] - 482s 134ms/step - loss: 0.6594 - acc: 0.6026 - val_loss: 0.6500 - val_acc: 0.6209\n",
      "Epoch 4/20\n",
      "3601/3601 [==============================] - 497s 138ms/step - loss: 0.6025 - acc: 0.6865 - val_loss: 0.6027 - val_acc: 0.6733\n",
      "Epoch 5/20\n",
      "3601/3601 [==============================] - 484s 134ms/step - loss: 0.5682 - acc: 0.7148 - val_loss: 0.5748 - val_acc: 0.7132\n",
      "Epoch 6/20\n",
      "3601/3601 [==============================] - 489s 136ms/step - loss: 0.5275 - acc: 0.7448 - val_loss: 0.5631 - val_acc: 0.7207\n",
      "Epoch 7/20\n",
      "3601/3601 [==============================] - 494s 137ms/step - loss: 0.4975 - acc: 0.7623 - val_loss: 0.5350 - val_acc: 0.7556\n",
      "Epoch 8/20\n",
      "3601/3601 [==============================] - 488s 136ms/step - loss: 0.4718 - acc: 0.7762 - val_loss: 0.5208 - val_acc: 0.7606\n",
      "Epoch 9/20\n",
      "3601/3601 [==============================] - 486s 135ms/step - loss: 0.4561 - acc: 0.7970 - val_loss: 0.4853 - val_acc: 0.7880\n",
      "Epoch 10/20\n",
      "3601/3601 [==============================] - 497s 138ms/step - loss: 0.4523 - acc: 0.7998 - val_loss: 0.5298 - val_acc: 0.7257\n",
      "Epoch 11/20\n",
      "3601/3601 [==============================] - 492s 137ms/step - loss: 0.4440 - acc: 0.8051 - val_loss: 0.4975 - val_acc: 0.7930\n",
      "Epoch 12/20\n",
      "3601/3601 [==============================] - 485s 135ms/step - loss: 0.4113 - acc: 0.8162 - val_loss: 0.4901 - val_acc: 0.7830\n",
      "Epoch 13/20\n",
      "3601/3601 [==============================] - 485s 135ms/step - loss: 0.3799 - acc: 0.8398 - val_loss: 0.4740 - val_acc: 0.8105\n",
      "Epoch 14/20\n",
      "3601/3601 [==============================] - 485s 135ms/step - loss: 0.3713 - acc: 0.8437 - val_loss: 0.4287 - val_acc: 0.8080\n",
      "Epoch 15/20\n",
      "3601/3601 [==============================] - 484s 134ms/step - loss: 0.3368 - acc: 0.8570 - val_loss: 0.4211 - val_acc: 0.8354\n",
      "Epoch 16/20\n",
      "3601/3601 [==============================] - 478s 133ms/step - loss: 0.3176 - acc: 0.8709 - val_loss: 0.3820 - val_acc: 0.8579\n",
      "Epoch 17/20\n",
      "3601/3601 [==============================] - 480s 133ms/step - loss: 0.3221 - acc: 0.8678 - val_loss: 0.4370 - val_acc: 0.8155\n",
      "Epoch 18/20\n",
      "3601/3601 [==============================] - 481s 134ms/step - loss: 0.3833 - acc: 0.8356 - val_loss: 0.4090 - val_acc: 0.8279\n",
      "Epoch 19/20\n",
      "3601/3601 [==============================] - 479s 133ms/step - loss: 0.3081 - acc: 0.8770 - val_loss: 0.4319 - val_acc: 0.8329\n",
      "Epoch 20/20\n",
      "3601/3601 [==============================] - 478s 133ms/step - loss: 0.2828 - acc: 0.8861 - val_loss: 0.3887 - val_acc: 0.8504\n",
      "Saved model!\n"
     ]
    }
   ],
   "source": [
    "embedding_dim = 256\n",
    "\n",
    "model = Sequential()\n",
    "model.add(Embedding(vocab_size, embedding_dim,input_length = maxLength))\n",
    "# Each input would have a size of (maxLength x 256) and each of these 256 sized vectors are fed into the GRU layer one at a time.\n",
    "# All the intermediate outputs are collected and then passed on to the second GRU layer.\n",
    "model.add(GRU(256, dropout=0.9, return_sequences=True))\n",
    "# Using the intermediate outputs, we pass them to another GRU layer and collect the final output only this time\n",
    "model.add(GRU(256, dropout=0.9))\n",
    "# The output is then sent to a fully connected layer that would give us our final output_dim classes\n",
    "model.add(Dense(output_dimen, activation='softmax'))\n",
    "# We use the adam optimizer instead of standard SGD since it converges much faster\n",
    "model.compile(loss='categorical_crossentropy', optimizer='adam', metrics=['accuracy'])\n",
    "model.summary()\n",
    "model.fit(totalX, totalY, validation_split=0.1, batch_size=32, epochs=20, verbose=1)\n",
    "model.save('sentiment_chinese_model.HDF5')\n",
    "\n",
    "print(\"Saved model!\")"
   ]
  },
  {
   "cell_type": "markdown",
   "metadata": {},
   "source": [
    "From the training procedure above, we can see training accuracy keeps going up to 88.61%, while validation accuracy fluctuate around 85%."
   ]
  },
  {
   "cell_type": "markdown",
   "metadata": {},
   "source": [
    "So accuracy of a Keras Neural network classifier is around 85%."
   ]
  },
  {
   "cell_type": "code",
   "execution_count": null,
   "metadata": {
    "collapsed": true
   },
   "outputs": [],
   "source": []
  }
 ],
 "metadata": {
  "kernelspec": {
   "display_name": "Python [conda root]",
   "language": "python",
   "name": "conda-root-py"
  },
  "language_info": {
   "codemirror_mode": {
    "name": "ipython",
    "version": 3
   },
   "file_extension": ".py",
   "mimetype": "text/x-python",
   "name": "python",
   "nbconvert_exporter": "python",
   "pygments_lexer": "ipython3",
   "version": "3.5.3"
  }
 },
 "nbformat": 4,
 "nbformat_minor": 2
}
