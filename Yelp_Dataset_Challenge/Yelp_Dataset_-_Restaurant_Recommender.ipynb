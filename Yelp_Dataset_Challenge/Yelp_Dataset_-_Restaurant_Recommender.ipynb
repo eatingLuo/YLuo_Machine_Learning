{
 "cells": [
  {
   "cell_type": "markdown",
   "metadata": {},
   "source": [
    "# Section 4: Yelp Data Challenge - Restaurant Recommender\n",
    "\n",
    "Yiting Luo | Data Science Applied Research - 4\n",
    "\n",
    "May 2018"
   ]
  },
  {
   "cell_type": "code",
   "execution_count": 1,
   "metadata": {},
   "outputs": [
    {
     "name": "stderr",
     "output_type": "stream",
     "text": [
      "/Users/luoyiting/anaconda/envs/gl-env/lib/python2.7/site-packages/matplotlib/font_manager.py:273: UserWarning: Matplotlib is building the font cache using fc-list. This may take a moment.\n",
      "  warnings.warn('Matplotlib is building the font cache using fc-list. This may take a moment.')\n"
     ]
    }
   ],
   "source": [
    "import pandas as pd\n",
    "import numpy as np\n",
    "import matplotlib.pyplot as plt\n",
    "% matplotlib inline\n",
    "plt.style.use(\"ggplot\")"
   ]
  },
  {
   "cell_type": "code",
   "execution_count": 2,
   "metadata": {
    "collapsed": true
   },
   "outputs": [],
   "source": [
    "df = pd.read_csv('dataset/last_2_years_restaurant_reviews.csv')"
   ]
  },
  {
   "cell_type": "code",
   "execution_count": 3,
   "metadata": {},
   "outputs": [
    {
     "data": {
      "text/html": [
       "<div>\n",
       "<table border=\"1\" class=\"dataframe\">\n",
       "  <thead>\n",
       "    <tr style=\"text-align: right;\">\n",
       "      <th></th>\n",
       "      <th>business_id</th>\n",
       "      <th>name</th>\n",
       "      <th>categories</th>\n",
       "      <th>avg_stars</th>\n",
       "      <th>cool</th>\n",
       "      <th>date</th>\n",
       "      <th>funny</th>\n",
       "      <th>review_id</th>\n",
       "      <th>stars</th>\n",
       "      <th>text</th>\n",
       "      <th>useful</th>\n",
       "      <th>user_id</th>\n",
       "    </tr>\n",
       "  </thead>\n",
       "  <tbody>\n",
       "    <tr>\n",
       "      <th>0</th>\n",
       "      <td>--9e1ONYQuAa-CB_Rrw7Tw</td>\n",
       "      <td>Delmonico Steakhouse</td>\n",
       "      <td>['Cajun/Creole', 'Steakhouses', 'Restaurants']</td>\n",
       "      <td>4.0</td>\n",
       "      <td>0</td>\n",
       "      <td>2016-03-31</td>\n",
       "      <td>0</td>\n",
       "      <td>6SgvNWJltnZhW7duJgZ42w</td>\n",
       "      <td>5</td>\n",
       "      <td>This is mine and my fiancé's favorite steakhou...</td>\n",
       "      <td>0</td>\n",
       "      <td>oFyOUOeGTRZhFPF9uTqrTQ</td>\n",
       "    </tr>\n",
       "    <tr>\n",
       "      <th>1</th>\n",
       "      <td>--9e1ONYQuAa-CB_Rrw7Tw</td>\n",
       "      <td>Delmonico Steakhouse</td>\n",
       "      <td>['Cajun/Creole', 'Steakhouses', 'Restaurants']</td>\n",
       "      <td>4.0</td>\n",
       "      <td>0</td>\n",
       "      <td>2015-06-29</td>\n",
       "      <td>0</td>\n",
       "      <td>iwx6s6yQxc7yjS7NFANZig</td>\n",
       "      <td>4</td>\n",
       "      <td>Nice atmosphere and wonderful service. I had t...</td>\n",
       "      <td>0</td>\n",
       "      <td>2aeNFntqY2QDZLADNo8iQQ</td>\n",
       "    </tr>\n",
       "    <tr>\n",
       "      <th>2</th>\n",
       "      <td>--9e1ONYQuAa-CB_Rrw7Tw</td>\n",
       "      <td>Delmonico Steakhouse</td>\n",
       "      <td>['Cajun/Creole', 'Steakhouses', 'Restaurants']</td>\n",
       "      <td>4.0</td>\n",
       "      <td>0</td>\n",
       "      <td>2015-03-16</td>\n",
       "      <td>0</td>\n",
       "      <td>UVUMu_bELdA56Ryfbur-DA</td>\n",
       "      <td>5</td>\n",
       "      <td>Every year a group of us (we had 6 this year) ...</td>\n",
       "      <td>1</td>\n",
       "      <td>gmPP4YFrgYsYQqPYokMgFA</td>\n",
       "    </tr>\n",
       "    <tr>\n",
       "      <th>3</th>\n",
       "      <td>--9e1ONYQuAa-CB_Rrw7Tw</td>\n",
       "      <td>Delmonico Steakhouse</td>\n",
       "      <td>['Cajun/Creole', 'Steakhouses', 'Restaurants']</td>\n",
       "      <td>4.0</td>\n",
       "      <td>0</td>\n",
       "      <td>2016-02-10</td>\n",
       "      <td>0</td>\n",
       "      <td>UxFpgng8dPMWOj99653k5Q</td>\n",
       "      <td>5</td>\n",
       "      <td>Truly Fantastic!  Best Steak ever. Service was...</td>\n",
       "      <td>0</td>\n",
       "      <td>aVOGlN9fZ-BXcbtj6dbf0g</td>\n",
       "    </tr>\n",
       "    <tr>\n",
       "      <th>4</th>\n",
       "      <td>--9e1ONYQuAa-CB_Rrw7Tw</td>\n",
       "      <td>Delmonico Steakhouse</td>\n",
       "      <td>['Cajun/Creole', 'Steakhouses', 'Restaurants']</td>\n",
       "      <td>4.0</td>\n",
       "      <td>0</td>\n",
       "      <td>2017-02-14</td>\n",
       "      <td>0</td>\n",
       "      <td>Xp3ppynEvVu1KxDHQ3ae8w</td>\n",
       "      <td>5</td>\n",
       "      <td>Delmonico Steakhouse is a steakhouse owned by ...</td>\n",
       "      <td>0</td>\n",
       "      <td>KC8H7qTZVPIEnanw9fG43g</td>\n",
       "    </tr>\n",
       "  </tbody>\n",
       "</table>\n",
       "</div>"
      ],
      "text/plain": [
       "              business_id                  name  \\\n",
       "0  --9e1ONYQuAa-CB_Rrw7Tw  Delmonico Steakhouse   \n",
       "1  --9e1ONYQuAa-CB_Rrw7Tw  Delmonico Steakhouse   \n",
       "2  --9e1ONYQuAa-CB_Rrw7Tw  Delmonico Steakhouse   \n",
       "3  --9e1ONYQuAa-CB_Rrw7Tw  Delmonico Steakhouse   \n",
       "4  --9e1ONYQuAa-CB_Rrw7Tw  Delmonico Steakhouse   \n",
       "\n",
       "                                       categories  avg_stars  cool  \\\n",
       "0  ['Cajun/Creole', 'Steakhouses', 'Restaurants']        4.0     0   \n",
       "1  ['Cajun/Creole', 'Steakhouses', 'Restaurants']        4.0     0   \n",
       "2  ['Cajun/Creole', 'Steakhouses', 'Restaurants']        4.0     0   \n",
       "3  ['Cajun/Creole', 'Steakhouses', 'Restaurants']        4.0     0   \n",
       "4  ['Cajun/Creole', 'Steakhouses', 'Restaurants']        4.0     0   \n",
       "\n",
       "         date  funny               review_id  stars  \\\n",
       "0  2016-03-31      0  6SgvNWJltnZhW7duJgZ42w      5   \n",
       "1  2015-06-29      0  iwx6s6yQxc7yjS7NFANZig      4   \n",
       "2  2015-03-16      0  UVUMu_bELdA56Ryfbur-DA      5   \n",
       "3  2016-02-10      0  UxFpgng8dPMWOj99653k5Q      5   \n",
       "4  2017-02-14      0  Xp3ppynEvVu1KxDHQ3ae8w      5   \n",
       "\n",
       "                                                text  useful  \\\n",
       "0  This is mine and my fiancé's favorite steakhou...       0   \n",
       "1  Nice atmosphere and wonderful service. I had t...       0   \n",
       "2  Every year a group of us (we had 6 this year) ...       1   \n",
       "3  Truly Fantastic!  Best Steak ever. Service was...       0   \n",
       "4  Delmonico Steakhouse is a steakhouse owned by ...       0   \n",
       "\n",
       "                  user_id  \n",
       "0  oFyOUOeGTRZhFPF9uTqrTQ  \n",
       "1  2aeNFntqY2QDZLADNo8iQQ  \n",
       "2  gmPP4YFrgYsYQqPYokMgFA  \n",
       "3  aVOGlN9fZ-BXcbtj6dbf0g  \n",
       "4  KC8H7qTZVPIEnanw9fG43g  "
      ]
     },
     "execution_count": 3,
     "metadata": {},
     "output_type": "execute_result"
    }
   ],
   "source": [
    "df.head()"
   ]
  },
  {
   "cell_type": "markdown",
   "metadata": {},
   "source": [
    "## 1. Clean data and get rating data "
   ]
  },
  {
   "cell_type": "markdown",
   "metadata": {},
   "source": [
    "#### Select relevant columns in the original dataframe"
   ]
  },
  {
   "cell_type": "code",
   "execution_count": 4,
   "metadata": {
    "collapsed": true
   },
   "outputs": [],
   "source": [
    "# Get business_id, user_id, stars for recommender\n",
    "\n",
    "df_stars = df[['business_id', 'user_id', 'stars']]"
   ]
  },
  {
   "cell_type": "code",
   "execution_count": 5,
   "metadata": {},
   "outputs": [
    {
     "data": {
      "text/plain": [
       "5    239295\n",
       "4    110642\n",
       "1     65552\n",
       "3     57420\n",
       "2     42843\n",
       "Name: stars, dtype: int64"
      ]
     },
     "execution_count": 5,
     "metadata": {},
     "output_type": "execute_result"
    }
   ],
   "source": [
    "df_stars['stars'].value_counts()"
   ]
  },
  {
   "cell_type": "code",
   "execution_count": 6,
   "metadata": {},
   "outputs": [
    {
     "data": {
      "text/plain": [
       "4832"
      ]
     },
     "execution_count": 6,
     "metadata": {},
     "output_type": "execute_result"
    }
   ],
   "source": [
    "df_stars['business_id'].nunique() # number of unique business_id"
   ]
  },
  {
   "cell_type": "code",
   "execution_count": 7,
   "metadata": {},
   "outputs": [
    {
     "data": {
      "text/plain": [
       "227241"
      ]
     },
     "execution_count": 7,
     "metadata": {},
     "output_type": "execute_result"
    }
   ],
   "source": [
    "df_stars['user_id'].nunique()"
   ]
  },
  {
   "cell_type": "code",
   "execution_count": 8,
   "metadata": {},
   "outputs": [
    {
     "data": {
      "text/plain": [
       "bLbSNkLggFnqwNNzzq-Ijw    748\n",
       "JaqcCU3nxReTW2cBLHounA    330\n",
       "PKEzKWv_FktMm2mGPjwd0Q    276\n",
       "B1829_hxXSEpDPEDJtYeIw    244\n",
       "U4INQZOPSUaj8hMjLlZ3KA    232\n",
       "Name: user_id, dtype: int64"
      ]
     },
     "execution_count": 8,
     "metadata": {},
     "output_type": "execute_result"
    }
   ],
   "source": [
    "df_user_counts = df_stars['user_id'].value_counts()\n",
    "df_user_counts.head()"
   ]
  },
  {
   "cell_type": "code",
   "execution_count": 9,
   "metadata": {},
   "outputs": [
    {
     "data": {
      "image/png": "[encoded data removed]",
      "text/plain": [
       "<matplotlib.figure.Figure at 0x109174a90>"
      ]
     },
     "metadata": {},
     "output_type": "display_data"
    }
   ],
   "source": [
    "# display log histogram\n",
    "df_user_counts.apply(np.log).hist()\n",
    "plt.show()"
   ]
  },
  {
   "cell_type": "markdown",
   "metadata": {},
   "source": [
    "#### There are many users that haven't given many reviews, exclude these users from the item-item similarity recommender"
   ]
  },
  {
   "cell_type": "code",
   "execution_count": 10,
   "metadata": {},
   "outputs": [
    {
     "data": {
      "text/plain": [
       "145721"
      ]
     },
     "execution_count": 10,
     "metadata": {},
     "output_type": "execute_result"
    }
   ],
   "source": [
    "# how many users only comments once\n",
    "df_user_counts[df_user_counts == 1].sum()"
   ]
  },
  {
   "cell_type": "code",
   "execution_count": 11,
   "metadata": {
    "collapsed": true
   },
   "outputs": [],
   "source": [
    "# user comment over 5 times\n",
    "df_users = df_user_counts[df_user_counts >5]"
   ]
  },
  {
   "cell_type": "code",
   "execution_count": 12,
   "metadata": {},
   "outputs": [
    {
     "data": {
      "text/plain": [
       "14675"
      ]
     },
     "execution_count": 12,
     "metadata": {},
     "output_type": "execute_result"
    }
   ],
   "source": [
    "# count users comment over 5 times as active user\n",
    "df_users.count()"
   ]
  },
  {
   "cell_type": "code",
   "execution_count": 13,
   "metadata": {},
   "outputs": [
    {
     "data": {
      "text/plain": [
       "187598"
      ]
     },
     "execution_count": 13,
     "metadata": {},
     "output_type": "execute_result"
    }
   ],
   "source": [
    "# sum of all comments\n",
    "df_users.sum()"
   ]
  },
  {
   "cell_type": "code",
   "execution_count": 14,
   "metadata": {},
   "outputs": [
    {
     "data": {
      "text/plain": [
       "Index([u'bLbSNkLggFnqwNNzzq-Ijw', u'JaqcCU3nxReTW2cBLHounA',\n",
       "       u'PKEzKWv_FktMm2mGPjwd0Q', u'B1829_hxXSEpDPEDJtYeIw',\n",
       "       u'U4INQZOPSUaj8hMjLlZ3KA', u'3nIuSCZk5f_2WWYMLN7h3w',\n",
       "       u'qPVtjjp8sNQ32p9860SR9Q', u'OXSJCjKtvZPf-YPDCXcWZg',\n",
       "       u'JYcCYNWs8Ul6ewG5kCYW4Q', u'fVILhIglx6RNOXQba5t4kQ',\n",
       "       ...\n",
       "       u'dqdTYDRYyo1CPfkQzQmSRw', u'1FdoUP8a1Q54XPduwUouYA',\n",
       "       u'z044R1luJTuVtzUGUA9d-A', u'FQsbJx12jvFYxzKy6RdPSw',\n",
       "       u'XC6xHcptE6RB4f7gu692-A', u'0GTanD35lGadNgiDp_a8cQ',\n",
       "       u'ezIORV7xsOnbfyGAEaQCag', u'WUE6G4OdTkIdrhqK0blrOg',\n",
       "       u'u53sKuzUuiV1xH1QzKmb6w', u'ItSmZzoGfoJ_MOdKI4qkBQ'],\n",
       "      dtype='object', length=14675)"
      ]
     },
     "execution_count": 14,
     "metadata": {},
     "output_type": "execute_result"
    }
   ],
   "source": [
    "# display active user id\n",
    "df_users.index"
   ]
  },
  {
   "cell_type": "code",
   "execution_count": 15,
   "metadata": {},
   "outputs": [
    {
     "name": "stdout",
     "output_type": "stream",
     "text": [
      "              business_id                 user_id  stars\n",
      "0  --9e1ONYQuAa-CB_Rrw7Tw  oFyOUOeGTRZhFPF9uTqrTQ      5\n",
      "1  --9e1ONYQuAa-CB_Rrw7Tw  2aeNFntqY2QDZLADNo8iQQ      4\n",
      "2  --9e1ONYQuAa-CB_Rrw7Tw  gmPP4YFrgYsYQqPYokMgFA      5\n",
      "3  --9e1ONYQuAa-CB_Rrw7Tw  aVOGlN9fZ-BXcbtj6dbf0g      5\n",
      "4  --9e1ONYQuAa-CB_Rrw7Tw  KC8H7qTZVPIEnanw9fG43g      5\n",
      "                  user_id             business_id  stars\n",
      "0  bLbSNkLggFnqwNNzzq-Ijw  -BS4aZAQm9u41YnB9MUASA      4\n",
      "1  bLbSNkLggFnqwNNzzq-Ijw  -C8sSrFqaCxp51pyo-fQLQ      4\n",
      "2  bLbSNkLggFnqwNNzzq-Ijw  -CQokjildrY7UZezXCdEBw      5\n",
      "3  bLbSNkLggFnqwNNzzq-Ijw  -FcZY7a7qgxTUlTvwuyJnQ      3\n",
      "4  bLbSNkLggFnqwNNzzq-Ijw  -IWsoxH7mLJTTpU5MmWY4w      4\n"
     ]
    }
   ],
   "source": [
    "# reader dataframe\n",
    "df_stars_cleaned = df_stars.set_index('user_id').ix[df_users.index].reset_index()\n",
    "\n",
    "print(df_stars.head())\n",
    "print(df_stars_cleaned.head())"
   ]
  },
  {
   "cell_type": "markdown",
   "metadata": {},
   "source": [
    "#### Create utility matrix from records"
   ]
  },
  {
   "cell_type": "code",
   "execution_count": 16,
   "metadata": {
    "collapsed": true
   },
   "outputs": [],
   "source": [
    "df_utility = pd.pivot_table(data = df_stars_cleaned,\n",
    "                           values ='stars', # fill with stars\n",
    "                           index = 'user_id', # rows\n",
    "                           columns = 'business_id', #columns\n",
    "                           fill_value = 0 # fill missings\n",
    "                           )"
   ]
  },
  {
   "cell_type": "code",
   "execution_count": 17,
   "metadata": {},
   "outputs": [
    {
     "data": {
      "text/html": [
       "<div>\n",
       "<table border=\"1\" class=\"dataframe\">\n",
       "  <thead>\n",
       "    <tr style=\"text-align: right;\">\n",
       "      <th>business_id</th>\n",
       "      <th>--9e1ONYQuAa-CB_Rrw7Tw</th>\n",
       "      <th>-1m9o3vGRA8IBPNvNqKLmA</th>\n",
       "      <th>-1vfRrlnNnNJ5boOVghMPA</th>\n",
       "      <th>-3zffZUHoY8bQjGfPSoBKQ</th>\n",
       "      <th>-8R_-EkGpUhBk55K9Dd4mg</th>\n",
       "      <th>-9YyInW1wapzdNZrhQJ9dg</th>\n",
       "      <th>-AD5PiuJHgdUcAK-Vxao2A</th>\n",
       "      <th>-ADtl9bLp8wNqYX1k3KuxA</th>\n",
       "      <th>-BS4aZAQm9u41YnB9MUASA</th>\n",
       "      <th>-Bf8BQ3yMk8U2f45r2DRKw</th>\n",
       "      <th>...</th>\n",
       "      <th>zmltWmTpoBt5sCU-5Kzj-Q</th>\n",
       "      <th>znWHLW1pt19HzW1VY6KfCA</th>\n",
       "      <th>zp-K5s3pGTWuuaVBWo6WZA</th>\n",
       "      <th>zpoZ6WyQUYff18-z4ZU1mA</th>\n",
       "      <th>zrQ1zKWC-W2PCvwjBururQ</th>\n",
       "      <th>zsQk990PubOHjr1YcLkQFw</th>\n",
       "      <th>zt9RLUIU32fZYOBh2L0NNQ</th>\n",
       "      <th>zttcrQP4MxNS5X5itzStXg</th>\n",
       "      <th>zuwba6QEBIDZT0tJZmNhdQ</th>\n",
       "      <th>zwNC-Ow4eIMan2__bS9-rg</th>\n",
       "    </tr>\n",
       "    <tr>\n",
       "      <th>user_id</th>\n",
       "      <th></th>\n",
       "      <th></th>\n",
       "      <th></th>\n",
       "      <th></th>\n",
       "      <th></th>\n",
       "      <th></th>\n",
       "      <th></th>\n",
       "      <th></th>\n",
       "      <th></th>\n",
       "      <th></th>\n",
       "      <th></th>\n",
       "      <th></th>\n",
       "      <th></th>\n",
       "      <th></th>\n",
       "      <th></th>\n",
       "      <th></th>\n",
       "      <th></th>\n",
       "      <th></th>\n",
       "      <th></th>\n",
       "      <th></th>\n",
       "      <th></th>\n",
       "    </tr>\n",
       "  </thead>\n",
       "  <tbody>\n",
       "    <tr>\n",
       "      <th>--LUapetRSkZpFZ2d-MXLQ</th>\n",
       "      <td>0</td>\n",
       "      <td>0</td>\n",
       "      <td>0</td>\n",
       "      <td>0</td>\n",
       "      <td>0</td>\n",
       "      <td>0</td>\n",
       "      <td>0</td>\n",
       "      <td>0</td>\n",
       "      <td>0</td>\n",
       "      <td>0</td>\n",
       "      <td>...</td>\n",
       "      <td>0</td>\n",
       "      <td>0</td>\n",
       "      <td>0</td>\n",
       "      <td>0</td>\n",
       "      <td>0</td>\n",
       "      <td>0</td>\n",
       "      <td>0</td>\n",
       "      <td>0</td>\n",
       "      <td>0</td>\n",
       "      <td>0</td>\n",
       "    </tr>\n",
       "    <tr>\n",
       "      <th>--RlSfc-QmcHFGHyX6aVjA</th>\n",
       "      <td>0</td>\n",
       "      <td>0</td>\n",
       "      <td>0</td>\n",
       "      <td>0</td>\n",
       "      <td>0</td>\n",
       "      <td>0</td>\n",
       "      <td>0</td>\n",
       "      <td>0</td>\n",
       "      <td>0</td>\n",
       "      <td>0</td>\n",
       "      <td>...</td>\n",
       "      <td>0</td>\n",
       "      <td>0</td>\n",
       "      <td>0</td>\n",
       "      <td>0</td>\n",
       "      <td>0</td>\n",
       "      <td>0</td>\n",
       "      <td>0</td>\n",
       "      <td>0</td>\n",
       "      <td>0</td>\n",
       "      <td>0</td>\n",
       "    </tr>\n",
       "    <tr>\n",
       "      <th>--ZNfWKj1VyVElRx6-g1fg</th>\n",
       "      <td>0</td>\n",
       "      <td>0</td>\n",
       "      <td>0</td>\n",
       "      <td>0</td>\n",
       "      <td>0</td>\n",
       "      <td>0</td>\n",
       "      <td>0</td>\n",
       "      <td>0</td>\n",
       "      <td>0</td>\n",
       "      <td>0</td>\n",
       "      <td>...</td>\n",
       "      <td>0</td>\n",
       "      <td>0</td>\n",
       "      <td>0</td>\n",
       "      <td>0</td>\n",
       "      <td>0</td>\n",
       "      <td>3</td>\n",
       "      <td>0</td>\n",
       "      <td>0</td>\n",
       "      <td>0</td>\n",
       "      <td>0</td>\n",
       "    </tr>\n",
       "    <tr>\n",
       "      <th>-00kdEIhCt-ODaV4BS-EAg</th>\n",
       "      <td>0</td>\n",
       "      <td>0</td>\n",
       "      <td>0</td>\n",
       "      <td>0</td>\n",
       "      <td>0</td>\n",
       "      <td>0</td>\n",
       "      <td>0</td>\n",
       "      <td>0</td>\n",
       "      <td>0</td>\n",
       "      <td>0</td>\n",
       "      <td>...</td>\n",
       "      <td>0</td>\n",
       "      <td>0</td>\n",
       "      <td>0</td>\n",
       "      <td>0</td>\n",
       "      <td>0</td>\n",
       "      <td>0</td>\n",
       "      <td>0</td>\n",
       "      <td>0</td>\n",
       "      <td>0</td>\n",
       "      <td>0</td>\n",
       "    </tr>\n",
       "    <tr>\n",
       "      <th>-05XqtNjcBq19vh2CVJN8g</th>\n",
       "      <td>0</td>\n",
       "      <td>0</td>\n",
       "      <td>0</td>\n",
       "      <td>0</td>\n",
       "      <td>0</td>\n",
       "      <td>0</td>\n",
       "      <td>0</td>\n",
       "      <td>0</td>\n",
       "      <td>0</td>\n",
       "      <td>0</td>\n",
       "      <td>...</td>\n",
       "      <td>0</td>\n",
       "      <td>0</td>\n",
       "      <td>0</td>\n",
       "      <td>0</td>\n",
       "      <td>0</td>\n",
       "      <td>0</td>\n",
       "      <td>0</td>\n",
       "      <td>0</td>\n",
       "      <td>0</td>\n",
       "      <td>0</td>\n",
       "    </tr>\n",
       "  </tbody>\n",
       "</table>\n",
       "<p>5 rows × 4558 columns</p>\n",
       "</div>"
      ],
      "text/plain": [
       "business_id             --9e1ONYQuAa-CB_Rrw7Tw  -1m9o3vGRA8IBPNvNqKLmA  \\\n",
       "user_id                                                                  \n",
       "--LUapetRSkZpFZ2d-MXLQ                       0                       0   \n",
       "--RlSfc-QmcHFGHyX6aVjA                       0                       0   \n",
       "--ZNfWKj1VyVElRx6-g1fg                       0                       0   \n",
       "-00kdEIhCt-ODaV4BS-EAg                       0                       0   \n",
       "-05XqtNjcBq19vh2CVJN8g                       0                       0   \n",
       "\n",
       "business_id             -1vfRrlnNnNJ5boOVghMPA  -3zffZUHoY8bQjGfPSoBKQ  \\\n",
       "user_id                                                                  \n",
       "--LUapetRSkZpFZ2d-MXLQ                       0                       0   \n",
       "--RlSfc-QmcHFGHyX6aVjA                       0                       0   \n",
       "--ZNfWKj1VyVElRx6-g1fg                       0                       0   \n",
       "-00kdEIhCt-ODaV4BS-EAg                       0                       0   \n",
       "-05XqtNjcBq19vh2CVJN8g                       0                       0   \n",
       "\n",
       "business_id             -8R_-EkGpUhBk55K9Dd4mg  -9YyInW1wapzdNZrhQJ9dg  \\\n",
       "user_id                                                                  \n",
       "--LUapetRSkZpFZ2d-MXLQ                       0                       0   \n",
       "--RlSfc-QmcHFGHyX6aVjA                       0                       0   \n",
       "--ZNfWKj1VyVElRx6-g1fg                       0                       0   \n",
       "-00kdEIhCt-ODaV4BS-EAg                       0                       0   \n",
       "-05XqtNjcBq19vh2CVJN8g                       0                       0   \n",
       "\n",
       "business_id             -AD5PiuJHgdUcAK-Vxao2A  -ADtl9bLp8wNqYX1k3KuxA  \\\n",
       "user_id                                                                  \n",
       "--LUapetRSkZpFZ2d-MXLQ                       0                       0   \n",
       "--RlSfc-QmcHFGHyX6aVjA                       0                       0   \n",
       "--ZNfWKj1VyVElRx6-g1fg                       0                       0   \n",
       "-00kdEIhCt-ODaV4BS-EAg                       0                       0   \n",
       "-05XqtNjcBq19vh2CVJN8g                       0                       0   \n",
       "\n",
       "business_id             -BS4aZAQm9u41YnB9MUASA  -Bf8BQ3yMk8U2f45r2DRKw  \\\n",
       "user_id                                                                  \n",
       "--LUapetRSkZpFZ2d-MXLQ                       0                       0   \n",
       "--RlSfc-QmcHFGHyX6aVjA                       0                       0   \n",
       "--ZNfWKj1VyVElRx6-g1fg                       0                       0   \n",
       "-00kdEIhCt-ODaV4BS-EAg                       0                       0   \n",
       "-05XqtNjcBq19vh2CVJN8g                       0                       0   \n",
       "\n",
       "business_id                      ...            zmltWmTpoBt5sCU-5Kzj-Q  \\\n",
       "user_id                          ...                                     \n",
       "--LUapetRSkZpFZ2d-MXLQ           ...                                 0   \n",
       "--RlSfc-QmcHFGHyX6aVjA           ...                                 0   \n",
       "--ZNfWKj1VyVElRx6-g1fg           ...                                 0   \n",
       "-00kdEIhCt-ODaV4BS-EAg           ...                                 0   \n",
       "-05XqtNjcBq19vh2CVJN8g           ...                                 0   \n",
       "\n",
       "business_id             znWHLW1pt19HzW1VY6KfCA  zp-K5s3pGTWuuaVBWo6WZA  \\\n",
       "user_id                                                                  \n",
       "--LUapetRSkZpFZ2d-MXLQ                       0                       0   \n",
       "--RlSfc-QmcHFGHyX6aVjA                       0                       0   \n",
       "--ZNfWKj1VyVElRx6-g1fg                       0                       0   \n",
       "-00kdEIhCt-ODaV4BS-EAg                       0                       0   \n",
       "-05XqtNjcBq19vh2CVJN8g                       0                       0   \n",
       "\n",
       "business_id             zpoZ6WyQUYff18-z4ZU1mA  zrQ1zKWC-W2PCvwjBururQ  \\\n",
       "user_id                                                                  \n",
       "--LUapetRSkZpFZ2d-MXLQ                       0                       0   \n",
       "--RlSfc-QmcHFGHyX6aVjA                       0                       0   \n",
       "--ZNfWKj1VyVElRx6-g1fg                       0                       0   \n",
       "-00kdEIhCt-ODaV4BS-EAg                       0                       0   \n",
       "-05XqtNjcBq19vh2CVJN8g                       0                       0   \n",
       "\n",
       "business_id             zsQk990PubOHjr1YcLkQFw  zt9RLUIU32fZYOBh2L0NNQ  \\\n",
       "user_id                                                                  \n",
       "--LUapetRSkZpFZ2d-MXLQ                       0                       0   \n",
       "--RlSfc-QmcHFGHyX6aVjA                       0                       0   \n",
       "--ZNfWKj1VyVElRx6-g1fg                       3                       0   \n",
       "-00kdEIhCt-ODaV4BS-EAg                       0                       0   \n",
       "-05XqtNjcBq19vh2CVJN8g                       0                       0   \n",
       "\n",
       "business_id             zttcrQP4MxNS5X5itzStXg  zuwba6QEBIDZT0tJZmNhdQ  \\\n",
       "user_id                                                                  \n",
       "--LUapetRSkZpFZ2d-MXLQ                       0                       0   \n",
       "--RlSfc-QmcHFGHyX6aVjA                       0                       0   \n",
       "--ZNfWKj1VyVElRx6-g1fg                       0                       0   \n",
       "-00kdEIhCt-ODaV4BS-EAg                       0                       0   \n",
       "-05XqtNjcBq19vh2CVJN8g                       0                       0   \n",
       "\n",
       "business_id             zwNC-Ow4eIMan2__bS9-rg  \n",
       "user_id                                         \n",
       "--LUapetRSkZpFZ2d-MXLQ                       0  \n",
       "--RlSfc-QmcHFGHyX6aVjA                       0  \n",
       "--ZNfWKj1VyVElRx6-g1fg                       0  \n",
       "-00kdEIhCt-ODaV4BS-EAg                       0  \n",
       "-05XqtNjcBq19vh2CVJN8g                       0  \n",
       "\n",
       "[5 rows x 4558 columns]"
      ]
     },
     "execution_count": 17,
     "metadata": {},
     "output_type": "execute_result"
    }
   ],
   "source": [
    "df_utility.head()"
   ]
  },
  {
   "cell_type": "code",
   "execution_count": 18,
   "metadata": {},
   "outputs": [
    {
     "data": {
      "text/plain": [
       "(14675,)"
      ]
     },
     "execution_count": 18,
     "metadata": {},
     "output_type": "execute_result"
    }
   ],
   "source": [
    "# get the list of user id by checking out the index of the utility matrix\n",
    "user_id_list = df_utility.index\n",
    "user_id_list.shape"
   ]
  },
  {
   "cell_type": "code",
   "execution_count": 19,
   "metadata": {},
   "outputs": [
    {
     "data": {
      "text/plain": [
       "(4558,)"
      ]
     },
     "execution_count": 19,
     "metadata": {},
     "output_type": "execute_result"
    }
   ],
   "source": [
    "# get the list of item id by checking out the columns of the utility matrix\n",
    "item_id_list = df_utility.columns\n",
    "item_id_list.shape"
   ]
  },
  {
   "cell_type": "markdown",
   "metadata": {},
   "source": [
    "## 2. Item-Item similarity recommender"
   ]
  },
  {
   "cell_type": "code",
   "execution_count": 20,
   "metadata": {
    "collapsed": true
   },
   "outputs": [],
   "source": [
    "import graphlab"
   ]
  },
  {
   "cell_type": "code",
   "execution_count": 23,
   "metadata": {},
   "outputs": [
    {
     "name": "stderr",
     "output_type": "stream",
     "text": [
      "[INFO] graphlab.cython.cy_server: GraphLab Create v2.1 started. Logging: /tmp/graphlab_server_1525723753.log\n"
     ]
    },
    {
     "name": "stdout",
     "output_type": "stream",
     "text": [
      "This non-commercial license of GraphLab Create for academic use is assigned to luoyiting68@hotmail.com and will expire on May 08, 2019.\n"
     ]
    },
    {
     "data": {
      "text/html": [
       "<div style=\"max-height:1000px;max-width:1500px;overflow:auto;\"><table frame=\"box\" rules=\"cols\">\n",
       "    <tr>\n",
       "        <th style=\"padding-left: 1em; padding-right: 1em; text-align: center\">business_id</th>\n",
       "        <th style=\"padding-left: 1em; padding-right: 1em; text-align: center\">user_id</th>\n",
       "        <th style=\"padding-left: 1em; padding-right: 1em; text-align: center\">stars</th>\n",
       "    </tr>\n",
       "    <tr>\n",
       "        <td style=\"padding-left: 1em; padding-right: 1em; text-align: center; vertical-align: top\">--9e1ONYQuAa-CB_Rrw7Tw</td>\n",
       "        <td style=\"padding-left: 1em; padding-right: 1em; text-align: center; vertical-align: top\">oFyOUOeGTRZhFPF9uTqrTQ</td>\n",
       "        <td style=\"padding-left: 1em; padding-right: 1em; text-align: center; vertical-align: top\">5</td>\n",
       "    </tr>\n",
       "    <tr>\n",
       "        <td style=\"padding-left: 1em; padding-right: 1em; text-align: center; vertical-align: top\">--9e1ONYQuAa-CB_Rrw7Tw</td>\n",
       "        <td style=\"padding-left: 1em; padding-right: 1em; text-align: center; vertical-align: top\">2aeNFntqY2QDZLADNo8iQQ</td>\n",
       "        <td style=\"padding-left: 1em; padding-right: 1em; text-align: center; vertical-align: top\">4</td>\n",
       "    </tr>\n",
       "    <tr>\n",
       "        <td style=\"padding-left: 1em; padding-right: 1em; text-align: center; vertical-align: top\">--9e1ONYQuAa-CB_Rrw7Tw</td>\n",
       "        <td style=\"padding-left: 1em; padding-right: 1em; text-align: center; vertical-align: top\">gmPP4YFrgYsYQqPYokMgFA</td>\n",
       "        <td style=\"padding-left: 1em; padding-right: 1em; text-align: center; vertical-align: top\">5</td>\n",
       "    </tr>\n",
       "    <tr>\n",
       "        <td style=\"padding-left: 1em; padding-right: 1em; text-align: center; vertical-align: top\">--9e1ONYQuAa-CB_Rrw7Tw</td>\n",
       "        <td style=\"padding-left: 1em; padding-right: 1em; text-align: center; vertical-align: top\">aVOGlN9fZ-BXcbtj6dbf0g</td>\n",
       "        <td style=\"padding-left: 1em; padding-right: 1em; text-align: center; vertical-align: top\">5</td>\n",
       "    </tr>\n",
       "    <tr>\n",
       "        <td style=\"padding-left: 1em; padding-right: 1em; text-align: center; vertical-align: top\">--9e1ONYQuAa-CB_Rrw7Tw</td>\n",
       "        <td style=\"padding-left: 1em; padding-right: 1em; text-align: center; vertical-align: top\">KC8H7qTZVPIEnanw9fG43g</td>\n",
       "        <td style=\"padding-left: 1em; padding-right: 1em; text-align: center; vertical-align: top\">5</td>\n",
       "    </tr>\n",
       "    <tr>\n",
       "        <td style=\"padding-left: 1em; padding-right: 1em; text-align: center; vertical-align: top\">--9e1ONYQuAa-CB_Rrw7Tw</td>\n",
       "        <td style=\"padding-left: 1em; padding-right: 1em; text-align: center; vertical-align: top\">3RTesI_MAwct13LWm4rhLw</td>\n",
       "        <td style=\"padding-left: 1em; padding-right: 1em; text-align: center; vertical-align: top\">4</td>\n",
       "    </tr>\n",
       "    <tr>\n",
       "        <td style=\"padding-left: 1em; padding-right: 1em; text-align: center; vertical-align: top\">--9e1ONYQuAa-CB_Rrw7Tw</td>\n",
       "        <td style=\"padding-left: 1em; padding-right: 1em; text-align: center; vertical-align: top\">EAOt1UQhJD0GG3l_jv7rWA</td>\n",
       "        <td style=\"padding-left: 1em; padding-right: 1em; text-align: center; vertical-align: top\">5</td>\n",
       "    </tr>\n",
       "    <tr>\n",
       "        <td style=\"padding-left: 1em; padding-right: 1em; text-align: center; vertical-align: top\">--9e1ONYQuAa-CB_Rrw7Tw</td>\n",
       "        <td style=\"padding-left: 1em; padding-right: 1em; text-align: center; vertical-align: top\">C6kw0Rny7jZAGjTj0MWA3Q</td>\n",
       "        <td style=\"padding-left: 1em; padding-right: 1em; text-align: center; vertical-align: top\">5</td>\n",
       "    </tr>\n",
       "    <tr>\n",
       "        <td style=\"padding-left: 1em; padding-right: 1em; text-align: center; vertical-align: top\">--9e1ONYQuAa-CB_Rrw7Tw</td>\n",
       "        <td style=\"padding-left: 1em; padding-right: 1em; text-align: center; vertical-align: top\">tTifjrXlRrUme-4c0UW9Bw</td>\n",
       "        <td style=\"padding-left: 1em; padding-right: 1em; text-align: center; vertical-align: top\">5</td>\n",
       "    </tr>\n",
       "    <tr>\n",
       "        <td style=\"padding-left: 1em; padding-right: 1em; text-align: center; vertical-align: top\">--9e1ONYQuAa-CB_Rrw7Tw</td>\n",
       "        <td style=\"padding-left: 1em; padding-right: 1em; text-align: center; vertical-align: top\">OtKA03ALQQ1CBhtaJod_Jw</td>\n",
       "        <td style=\"padding-left: 1em; padding-right: 1em; text-align: center; vertical-align: top\">2</td>\n",
       "    </tr>\n",
       "</table>\n",
       "[515752 rows x 3 columns]<br/>Note: Only the head of the SFrame is printed.<br/>You can use print_rows(num_rows=m, num_columns=n) to print more rows and columns.\n",
       "</div>"
      ],
      "text/plain": [
       "Columns:\n",
       "\tbusiness_id\tstr\n",
       "\tuser_id\tstr\n",
       "\tstars\tint\n",
       "\n",
       "Rows: 515752\n",
       "\n",
       "Data:\n",
       "+------------------------+------------------------+-------+\n",
       "|      business_id       |        user_id         | stars |\n",
       "+------------------------+------------------------+-------+\n",
       "| --9e1ONYQuAa-CB_Rrw7Tw | oFyOUOeGTRZhFPF9uTqrTQ |   5   |\n",
       "| --9e1ONYQuAa-CB_Rrw7Tw | 2aeNFntqY2QDZLADNo8iQQ |   4   |\n",
       "| --9e1ONYQuAa-CB_Rrw7Tw | gmPP4YFrgYsYQqPYokMgFA |   5   |\n",
       "| --9e1ONYQuAa-CB_Rrw7Tw | aVOGlN9fZ-BXcbtj6dbf0g |   5   |\n",
       "| --9e1ONYQuAa-CB_Rrw7Tw | KC8H7qTZVPIEnanw9fG43g |   5   |\n",
       "| --9e1ONYQuAa-CB_Rrw7Tw | 3RTesI_MAwct13LWm4rhLw |   4   |\n",
       "| --9e1ONYQuAa-CB_Rrw7Tw | EAOt1UQhJD0GG3l_jv7rWA |   5   |\n",
       "| --9e1ONYQuAa-CB_Rrw7Tw | C6kw0Rny7jZAGjTj0MWA3Q |   5   |\n",
       "| --9e1ONYQuAa-CB_Rrw7Tw | tTifjrXlRrUme-4c0UW9Bw |   5   |\n",
       "| --9e1ONYQuAa-CB_Rrw7Tw | OtKA03ALQQ1CBhtaJod_Jw |   2   |\n",
       "+------------------------+------------------------+-------+\n",
       "[515752 rows x 3 columns]\n",
       "Note: Only the head of the SFrame is printed.\n",
       "You can use print_rows(num_rows=m, num_columns=n) to print more rows and columns."
      ]
     },
     "execution_count": 23,
     "metadata": {},
     "output_type": "execute_result"
    }
   ],
   "source": [
    "sf_stars = graphlab.SFrame(df_stars)\n",
    "sf_stars"
   ]
  },
  {
   "cell_type": "code",
   "execution_count": 24,
   "metadata": {},
   "outputs": [
    {
     "data": {
      "text/html": [
       "<pre>Recsys training: model = item_similarity</pre>"
      ],
      "text/plain": [
       "Recsys training: model = item_similarity"
      ]
     },
     "metadata": {},
     "output_type": "display_data"
    },
    {
     "data": {
      "text/html": [
       "<pre>Preparing data set.</pre>"
      ],
      "text/plain": [
       "Preparing data set."
      ]
     },
     "metadata": {},
     "output_type": "display_data"
    },
    {
     "data": {
      "text/html": [
       "<pre>    Data has 515752 observations with 227241 users and 4832 items.</pre>"
      ],
      "text/plain": [
       "    Data has 515752 observations with 227241 users and 4832 items."
      ]
     },
     "metadata": {},
     "output_type": "display_data"
    },
    {
     "data": {
      "text/html": [
       "<pre>    Data prepared in: 0.931662s</pre>"
      ],
      "text/plain": [
       "    Data prepared in: 0.931662s"
      ]
     },
     "metadata": {},
     "output_type": "display_data"
    },
    {
     "data": {
      "text/html": [
       "<pre>Training model from provided data.</pre>"
      ],
      "text/plain": [
       "Training model from provided data."
      ]
     },
     "metadata": {},
     "output_type": "display_data"
    },
    {
     "data": {
      "text/html": [
       "<pre>Gathering per-item and per-user statistics.</pre>"
      ],
      "text/plain": [
       "Gathering per-item and per-user statistics."
      ]
     },
     "metadata": {},
     "output_type": "display_data"
    },
    {
     "data": {
      "text/html": [
       "<pre>+--------------------------------+------------+</pre>"
      ],
      "text/plain": [
       "+--------------------------------+------------+"
      ]
     },
     "metadata": {},
     "output_type": "display_data"
    },
    {
     "data": {
      "text/html": [
       "<pre>| Elapsed Time (Item Statistics) | % Complete |</pre>"
      ],
      "text/plain": [
       "| Elapsed Time (Item Statistics) | % Complete |"
      ]
     },
     "metadata": {},
     "output_type": "display_data"
    },
    {
     "data": {
      "text/html": [
       "<pre>+--------------------------------+------------+</pre>"
      ],
      "text/plain": [
       "+--------------------------------+------------+"
      ]
     },
     "metadata": {},
     "output_type": "display_data"
    },
    {
     "data": {
      "text/html": [
       "<pre>| 7.459ms                        | 3.5        |</pre>"
      ],
      "text/plain": [
       "| 7.459ms                        | 3.5        |"
      ]
     },
     "metadata": {},
     "output_type": "display_data"
    },
    {
     "data": {
      "text/html": [
       "<pre>| 86.608ms                       | 100        |</pre>"
      ],
      "text/plain": [
       "| 86.608ms                       | 100        |"
      ]
     },
     "metadata": {},
     "output_type": "display_data"
    },
    {
     "data": {
      "text/html": [
       "<pre>+--------------------------------+------------+</pre>"
      ],
      "text/plain": [
       "+--------------------------------+------------+"
      ]
     },
     "metadata": {},
     "output_type": "display_data"
    },
    {
     "data": {
      "text/html": [
       "<pre>Setting up lookup tables.</pre>"
      ],
      "text/plain": [
       "Setting up lookup tables."
      ]
     },
     "metadata": {},
     "output_type": "display_data"
    },
    {
     "data": {
      "text/html": [
       "<pre>Processing data in one pass using dense lookup tables.</pre>"
      ],
      "text/plain": [
       "Processing data in one pass using dense lookup tables."
      ]
     },
     "metadata": {},
     "output_type": "display_data"
    },
    {
     "data": {
      "text/html": [
       "<pre>+-------------------------------------+------------------+-----------------+</pre>"
      ],
      "text/plain": [
       "+-------------------------------------+------------------+-----------------+"
      ]
     },
     "metadata": {},
     "output_type": "display_data"
    },
    {
     "data": {
      "text/html": [
       "<pre>| Elapsed Time (Constructing Lookups) | Total % Complete | Items Processed |</pre>"
      ],
      "text/plain": [
       "| Elapsed Time (Constructing Lookups) | Total % Complete | Items Processed |"
      ]
     },
     "metadata": {},
     "output_type": "display_data"
    },
    {
     "data": {
      "text/html": [
       "<pre>+-------------------------------------+------------------+-----------------+</pre>"
      ],
      "text/plain": [
       "+-------------------------------------+------------------+-----------------+"
      ]
     },
     "metadata": {},
     "output_type": "display_data"
    },
    {
     "data": {
      "text/html": [
       "<pre>| 174.748ms                           | 0                | 0               |</pre>"
      ],
      "text/plain": [
       "| 174.748ms                           | 0                | 0               |"
      ]
     },
     "metadata": {},
     "output_type": "display_data"
    },
    {
     "data": {
      "text/html": [
       "<pre>| 638.675ms                           | 100              | 4832            |</pre>"
      ],
      "text/plain": [
       "| 638.675ms                           | 100              | 4832            |"
      ]
     },
     "metadata": {},
     "output_type": "display_data"
    },
    {
     "data": {
      "text/html": [
       "<pre>+-------------------------------------+------------------+-----------------+</pre>"
      ],
      "text/plain": [
       "+-------------------------------------+------------------+-----------------+"
      ]
     },
     "metadata": {},
     "output_type": "display_data"
    },
    {
     "data": {
      "text/html": [
       "<pre>Finalizing lookup tables.</pre>"
      ],
      "text/plain": [
       "Finalizing lookup tables."
      ]
     },
     "metadata": {},
     "output_type": "display_data"
    },
    {
     "data": {
      "text/html": [
       "<pre>Generating candidate set for working with new users.</pre>"
      ],
      "text/plain": [
       "Generating candidate set for working with new users."
      ]
     },
     "metadata": {},
     "output_type": "display_data"
    },
    {
     "data": {
      "text/html": [
       "<pre>Finished training in 1.72294s</pre>"
      ],
      "text/plain": [
       "Finished training in 1.72294s"
      ]
     },
     "metadata": {},
     "output_type": "display_data"
    }
   ],
   "source": [
    "# item item recommender\n",
    "item_item_rec = graphlab.recommender.item_similarity_recommender.create(sf_stars, \n",
    "                                                                        user_id = 'user_id',\n",
    "                                                                       item_id = 'business_id',\n",
    "                                                                       target = 'stars')"
   ]
  },
  {
   "cell_type": "code",
   "execution_count": 25,
   "metadata": {
    "collapsed": true
   },
   "outputs": [],
   "source": [
    "item_item_rec_result = item_item_rec.recommend(k = 3, verbose = False)"
   ]
  },
  {
   "cell_type": "code",
   "execution_count": 26,
   "metadata": {},
   "outputs": [
    {
     "data": {
      "text/html": [
       "<div style=\"max-height:1000px;max-width:1500px;overflow:auto;\"><table frame=\"box\" rules=\"cols\">\n",
       "    <tr>\n",
       "        <th style=\"padding-left: 1em; padding-right: 1em; text-align: center\">user_id</th>\n",
       "        <th style=\"padding-left: 1em; padding-right: 1em; text-align: center\">business_id</th>\n",
       "        <th style=\"padding-left: 1em; padding-right: 1em; text-align: center\">score</th>\n",
       "        <th style=\"padding-left: 1em; padding-right: 1em; text-align: center\">rank</th>\n",
       "    </tr>\n",
       "    <tr>\n",
       "        <td style=\"padding-left: 1em; padding-right: 1em; text-align: center; vertical-align: top\">oFyOUOeGTRZhFPF9uTqrTQ</td>\n",
       "        <td style=\"padding-left: 1em; padding-right: 1em; text-align: center; vertical-align: top\">BhueLLvA0k9G1Lr0WeZX9w</td>\n",
       "        <td style=\"padding-left: 1em; padding-right: 1em; text-align: center; vertical-align: top\">0.0054555649453</td>\n",
       "        <td style=\"padding-left: 1em; padding-right: 1em; text-align: center; vertical-align: top\">1</td>\n",
       "    </tr>\n",
       "    <tr>\n",
       "        <td style=\"padding-left: 1em; padding-right: 1em; text-align: center; vertical-align: top\">oFyOUOeGTRZhFPF9uTqrTQ</td>\n",
       "        <td style=\"padding-left: 1em; padding-right: 1em; text-align: center; vertical-align: top\">4mb32UmQULqg7IMck28vog</td>\n",
       "        <td style=\"padding-left: 1em; padding-right: 1em; text-align: center; vertical-align: top\">0.00528274064368</td>\n",
       "        <td style=\"padding-left: 1em; padding-right: 1em; text-align: center; vertical-align: top\">2</td>\n",
       "    </tr>\n",
       "    <tr>\n",
       "        <td style=\"padding-left: 1em; padding-right: 1em; text-align: center; vertical-align: top\">oFyOUOeGTRZhFPF9uTqrTQ</td>\n",
       "        <td style=\"padding-left: 1em; padding-right: 1em; text-align: center; vertical-align: top\">6fz0hnNIVpLF5v2NqJfA9w</td>\n",
       "        <td style=\"padding-left: 1em; padding-right: 1em; text-align: center; vertical-align: top\">0.0052772303845</td>\n",
       "        <td style=\"padding-left: 1em; padding-right: 1em; text-align: center; vertical-align: top\">3</td>\n",
       "    </tr>\n",
       "    <tr>\n",
       "        <td style=\"padding-left: 1em; padding-right: 1em; text-align: center; vertical-align: top\">2aeNFntqY2QDZLADNo8iQQ</td>\n",
       "        <td style=\"padding-left: 1em; padding-right: 1em; text-align: center; vertical-align: top\">rcaPajgKOJC2vo_l3xa42A</td>\n",
       "        <td style=\"padding-left: 1em; padding-right: 1em; text-align: center; vertical-align: top\">0.0165879130363</td>\n",
       "        <td style=\"padding-left: 1em; padding-right: 1em; text-align: center; vertical-align: top\">1</td>\n",
       "    </tr>\n",
       "    <tr>\n",
       "        <td style=\"padding-left: 1em; padding-right: 1em; text-align: center; vertical-align: top\">2aeNFntqY2QDZLADNo8iQQ</td>\n",
       "        <td style=\"padding-left: 1em; padding-right: 1em; text-align: center; vertical-align: top\">faPVqws-x-5k2CQKDNtHxw</td>\n",
       "        <td style=\"padding-left: 1em; padding-right: 1em; text-align: center; vertical-align: top\">0.016526311636</td>\n",
       "        <td style=\"padding-left: 1em; padding-right: 1em; text-align: center; vertical-align: top\">2</td>\n",
       "    </tr>\n",
       "    <tr>\n",
       "        <td style=\"padding-left: 1em; padding-right: 1em; text-align: center; vertical-align: top\">2aeNFntqY2QDZLADNo8iQQ</td>\n",
       "        <td style=\"padding-left: 1em; padding-right: 1em; text-align: center; vertical-align: top\">KXITXbKuE60WSUDs7NZVLQ</td>\n",
       "        <td style=\"padding-left: 1em; padding-right: 1em; text-align: center; vertical-align: top\">0.0158300697803</td>\n",
       "        <td style=\"padding-left: 1em; padding-right: 1em; text-align: center; vertical-align: top\">3</td>\n",
       "    </tr>\n",
       "    <tr>\n",
       "        <td style=\"padding-left: 1em; padding-right: 1em; text-align: center; vertical-align: top\">gmPP4YFrgYsYQqPYokMgFA</td>\n",
       "        <td style=\"padding-left: 1em; padding-right: 1em; text-align: center; vertical-align: top\">rcaPajgKOJC2vo_l3xa42A</td>\n",
       "        <td style=\"padding-left: 1em; padding-right: 1em; text-align: center; vertical-align: top\">0.0144976079464</td>\n",
       "        <td style=\"padding-left: 1em; padding-right: 1em; text-align: center; vertical-align: top\">1</td>\n",
       "    </tr>\n",
       "    <tr>\n",
       "        <td style=\"padding-left: 1em; padding-right: 1em; text-align: center; vertical-align: top\">gmPP4YFrgYsYQqPYokMgFA</td>\n",
       "        <td style=\"padding-left: 1em; padding-right: 1em; text-align: center; vertical-align: top\">faPVqws-x-5k2CQKDNtHxw</td>\n",
       "        <td style=\"padding-left: 1em; padding-right: 1em; text-align: center; vertical-align: top\">0.0140542984009</td>\n",
       "        <td style=\"padding-left: 1em; padding-right: 1em; text-align: center; vertical-align: top\">2</td>\n",
       "    </tr>\n",
       "    <tr>\n",
       "        <td style=\"padding-left: 1em; padding-right: 1em; text-align: center; vertical-align: top\">gmPP4YFrgYsYQqPYokMgFA</td>\n",
       "        <td style=\"padding-left: 1em; padding-right: 1em; text-align: center; vertical-align: top\">XZbuPXdyA0ZtTu3AzqtQhg</td>\n",
       "        <td style=\"padding-left: 1em; padding-right: 1em; text-align: center; vertical-align: top\">0.0136348605156</td>\n",
       "        <td style=\"padding-left: 1em; padding-right: 1em; text-align: center; vertical-align: top\">3</td>\n",
       "    </tr>\n",
       "    <tr>\n",
       "        <td style=\"padding-left: 1em; padding-right: 1em; text-align: center; vertical-align: top\">aVOGlN9fZ-BXcbtj6dbf0g</td>\n",
       "        <td style=\"padding-left: 1em; padding-right: 1em; text-align: center; vertical-align: top\">Fi-2ruy5x600SX4avnrFuA</td>\n",
       "        <td style=\"padding-left: 1em; padding-right: 1em; text-align: center; vertical-align: top\">0.0113100707531</td>\n",
       "        <td style=\"padding-left: 1em; padding-right: 1em; text-align: center; vertical-align: top\">1</td>\n",
       "    </tr>\n",
       "</table>\n",
       "[681723 rows x 4 columns]<br/>Note: Only the head of the SFrame is printed.<br/>You can use print_rows(num_rows=m, num_columns=n) to print more rows and columns.\n",
       "</div>"
      ],
      "text/plain": [
       "Columns:\n",
       "\tuser_id\tstr\n",
       "\tbusiness_id\tstr\n",
       "\tscore\tfloat\n",
       "\trank\tint\n",
       "\n",
       "Rows: 681723\n",
       "\n",
       "Data:\n",
       "+------------------------+------------------------+------------------+------+\n",
       "|        user_id         |      business_id       |      score       | rank |\n",
       "+------------------------+------------------------+------------------+------+\n",
       "| oFyOUOeGTRZhFPF9uTqrTQ | BhueLLvA0k9G1Lr0WeZX9w | 0.0054555649453  |  1   |\n",
       "| oFyOUOeGTRZhFPF9uTqrTQ | 4mb32UmQULqg7IMck28vog | 0.00528274064368 |  2   |\n",
       "| oFyOUOeGTRZhFPF9uTqrTQ | 6fz0hnNIVpLF5v2NqJfA9w | 0.0052772303845  |  3   |\n",
       "| 2aeNFntqY2QDZLADNo8iQQ | rcaPajgKOJC2vo_l3xa42A | 0.0165879130363  |  1   |\n",
       "| 2aeNFntqY2QDZLADNo8iQQ | faPVqws-x-5k2CQKDNtHxw |  0.016526311636  |  2   |\n",
       "| 2aeNFntqY2QDZLADNo8iQQ | KXITXbKuE60WSUDs7NZVLQ | 0.0158300697803  |  3   |\n",
       "| gmPP4YFrgYsYQqPYokMgFA | rcaPajgKOJC2vo_l3xa42A | 0.0144976079464  |  1   |\n",
       "| gmPP4YFrgYsYQqPYokMgFA | faPVqws-x-5k2CQKDNtHxw | 0.0140542984009  |  2   |\n",
       "| gmPP4YFrgYsYQqPYokMgFA | XZbuPXdyA0ZtTu3AzqtQhg | 0.0136348605156  |  3   |\n",
       "| aVOGlN9fZ-BXcbtj6dbf0g | Fi-2ruy5x600SX4avnrFuA | 0.0113100707531  |  1   |\n",
       "+------------------------+------------------------+------------------+------+\n",
       "[681723 rows x 4 columns]\n",
       "Note: Only the head of the SFrame is printed.\n",
       "You can use print_rows(num_rows=m, num_columns=n) to print more rows and columns."
      ]
     },
     "execution_count": 26,
     "metadata": {},
     "output_type": "execute_result"
    }
   ],
   "source": [
    "item_item_rec_result"
   ]
  },
  {
   "cell_type": "markdown",
   "metadata": {},
   "source": [
    "## 3. Content-based recommender"
   ]
  },
  {
   "cell_type": "code",
   "execution_count": 28,
   "metadata": {},
   "outputs": [
    {
     "data": {
      "text/html": [
       "<div>\n",
       "<table border=\"1\" class=\"dataframe\">\n",
       "  <thead>\n",
       "    <tr style=\"text-align: right;\">\n",
       "      <th></th>\n",
       "      <th>avg_stars</th>\n",
       "      <th>cool</th>\n",
       "      <th>funny</th>\n",
       "      <th>stars</th>\n",
       "      <th>useful</th>\n",
       "    </tr>\n",
       "    <tr>\n",
       "      <th>business_id</th>\n",
       "      <th></th>\n",
       "      <th></th>\n",
       "      <th></th>\n",
       "      <th></th>\n",
       "      <th></th>\n",
       "    </tr>\n",
       "  </thead>\n",
       "  <tbody>\n",
       "    <tr>\n",
       "      <th>--9e1ONYQuAa-CB_Rrw7Tw</th>\n",
       "      <td>4.0</td>\n",
       "      <td>0.706263</td>\n",
       "      <td>0.578834</td>\n",
       "      <td>4.159827</td>\n",
       "      <td>1.010799</td>\n",
       "    </tr>\n",
       "    <tr>\n",
       "      <th>-1m9o3vGRA8IBPNvNqKLmA</th>\n",
       "      <td>4.5</td>\n",
       "      <td>1.000000</td>\n",
       "      <td>0.631579</td>\n",
       "      <td>4.736842</td>\n",
       "      <td>1.315789</td>\n",
       "    </tr>\n",
       "    <tr>\n",
       "      <th>-1vfRrlnNnNJ5boOVghMPA</th>\n",
       "      <td>3.0</td>\n",
       "      <td>0.428571</td>\n",
       "      <td>0.642857</td>\n",
       "      <td>3.000000</td>\n",
       "      <td>0.428571</td>\n",
       "    </tr>\n",
       "    <tr>\n",
       "      <th>-3zffZUHoY8bQjGfPSoBKQ</th>\n",
       "      <td>4.0</td>\n",
       "      <td>0.534483</td>\n",
       "      <td>0.454023</td>\n",
       "      <td>3.867816</td>\n",
       "      <td>1.091954</td>\n",
       "    </tr>\n",
       "    <tr>\n",
       "      <th>-8R_-EkGpUhBk55K9Dd4mg</th>\n",
       "      <td>3.5</td>\n",
       "      <td>0.761905</td>\n",
       "      <td>0.650794</td>\n",
       "      <td>3.841270</td>\n",
       "      <td>0.968254</td>\n",
       "    </tr>\n",
       "  </tbody>\n",
       "</table>\n",
       "</div>"
      ],
      "text/plain": [
       "                        avg_stars      cool     funny     stars    useful\n",
       "business_id                                                              \n",
       "--9e1ONYQuAa-CB_Rrw7Tw        4.0  0.706263  0.578834  4.159827  1.010799\n",
       "-1m9o3vGRA8IBPNvNqKLmA        4.5  1.000000  0.631579  4.736842  1.315789\n",
       "-1vfRrlnNnNJ5boOVghMPA        3.0  0.428571  0.642857  3.000000  0.428571\n",
       "-3zffZUHoY8bQjGfPSoBKQ        4.0  0.534483  0.454023  3.867816  1.091954\n",
       "-8R_-EkGpUhBk55K9Dd4mg        3.5  0.761905  0.650794  3.841270  0.968254"
      ]
     },
     "execution_count": 28,
     "metadata": {},
     "output_type": "execute_result"
    }
   ],
   "source": [
    "# group by business_id, then average numerical features\n",
    "\n",
    "df_average = df.groupby(['business_id']).mean()\n",
    "df_average.head()"
   ]
  },
  {
   "cell_type": "code",
   "execution_count": 29,
   "metadata": {},
   "outputs": [
    {
     "data": {
      "text/plain": [
       "business_id\n",
       "--9e1ONYQuAa-CB_Rrw7Tw     [['Cajun/Creole', 'Steakhouses', 'Restaurants']]\n",
       "-1m9o3vGRA8IBPNvNqKLmA    [['African', 'Restaurants', 'Nightlife', 'Bars...\n",
       "-1vfRrlnNnNJ5boOVghMPA            [['Sushi Bars', 'Korean', 'Restaurants']]\n",
       "-3zffZUHoY8bQjGfPSoBKQ    [['Seafood', 'Bars', 'Nightlife', 'American (N...\n",
       "-8R_-EkGpUhBk55K9Dd4mg                            [['Thai', 'Restaurants']]\n",
       "Name: categories, dtype: object"
      ]
     },
     "execution_count": 29,
     "metadata": {},
     "output_type": "execute_result"
    }
   ],
   "source": [
    "# group by business_id, extract categories data\n",
    "\n",
    "categories_series = df.groupby(['business_id']).categories.apply(np.unique)\n",
    "categories_series.head()"
   ]
  },
  {
   "cell_type": "code",
   "execution_count": 30,
   "metadata": {
    "collapsed": true
   },
   "outputs": [],
   "source": [
    "# convert categories data to string remove '[]'\n",
    "\n",
    "categories_series = categories_series.str.join('').apply(lambda x: x[1:-1])"
   ]
  },
  {
   "cell_type": "code",
   "execution_count": 31,
   "metadata": {},
   "outputs": [
    {
     "data": {
      "text/html": [
       "<div>\n",
       "<table border=\"1\" class=\"dataframe\">\n",
       "  <thead>\n",
       "    <tr style=\"text-align: right;\">\n",
       "      <th></th>\n",
       "      <th>acai</th>\n",
       "      <th>active</th>\n",
       "      <th>activities</th>\n",
       "      <th>acupuncture</th>\n",
       "      <th>adoption</th>\n",
       "      <th>adult</th>\n",
       "      <th>afghan</th>\n",
       "      <th>african</th>\n",
       "      <th>air</th>\n",
       "      <th>aircraft</th>\n",
       "      <th>...</th>\n",
       "      <th>window</th>\n",
       "      <th>windshield</th>\n",
       "      <th>wine</th>\n",
       "      <th>wineries</th>\n",
       "      <th>wings</th>\n",
       "      <th>women</th>\n",
       "      <th>wraps</th>\n",
       "      <th>yoga</th>\n",
       "      <th>yogurt</th>\n",
       "      <th>yourself</th>\n",
       "    </tr>\n",
       "    <tr>\n",
       "      <th>business_id</th>\n",
       "      <th></th>\n",
       "      <th></th>\n",
       "      <th></th>\n",
       "      <th></th>\n",
       "      <th></th>\n",
       "      <th></th>\n",
       "      <th></th>\n",
       "      <th></th>\n",
       "      <th></th>\n",
       "      <th></th>\n",
       "      <th></th>\n",
       "      <th></th>\n",
       "      <th></th>\n",
       "      <th></th>\n",
       "      <th></th>\n",
       "      <th></th>\n",
       "      <th></th>\n",
       "      <th></th>\n",
       "      <th></th>\n",
       "      <th></th>\n",
       "      <th></th>\n",
       "    </tr>\n",
       "  </thead>\n",
       "  <tbody>\n",
       "    <tr>\n",
       "      <th>--9e1ONYQuAa-CB_Rrw7Tw</th>\n",
       "      <td>0</td>\n",
       "      <td>0</td>\n",
       "      <td>0</td>\n",
       "      <td>0</td>\n",
       "      <td>0</td>\n",
       "      <td>0</td>\n",
       "      <td>0</td>\n",
       "      <td>0</td>\n",
       "      <td>0</td>\n",
       "      <td>0</td>\n",
       "      <td>...</td>\n",
       "      <td>0</td>\n",
       "      <td>0</td>\n",
       "      <td>0</td>\n",
       "      <td>0</td>\n",
       "      <td>0</td>\n",
       "      <td>0</td>\n",
       "      <td>0</td>\n",
       "      <td>0</td>\n",
       "      <td>0</td>\n",
       "      <td>0</td>\n",
       "    </tr>\n",
       "    <tr>\n",
       "      <th>-1m9o3vGRA8IBPNvNqKLmA</th>\n",
       "      <td>0</td>\n",
       "      <td>0</td>\n",
       "      <td>0</td>\n",
       "      <td>0</td>\n",
       "      <td>0</td>\n",
       "      <td>0</td>\n",
       "      <td>0</td>\n",
       "      <td>1</td>\n",
       "      <td>0</td>\n",
       "      <td>0</td>\n",
       "      <td>...</td>\n",
       "      <td>0</td>\n",
       "      <td>0</td>\n",
       "      <td>0</td>\n",
       "      <td>0</td>\n",
       "      <td>0</td>\n",
       "      <td>0</td>\n",
       "      <td>0</td>\n",
       "      <td>0</td>\n",
       "      <td>0</td>\n",
       "      <td>0</td>\n",
       "    </tr>\n",
       "    <tr>\n",
       "      <th>-1vfRrlnNnNJ5boOVghMPA</th>\n",
       "      <td>0</td>\n",
       "      <td>0</td>\n",
       "      <td>0</td>\n",
       "      <td>0</td>\n",
       "      <td>0</td>\n",
       "      <td>0</td>\n",
       "      <td>0</td>\n",
       "      <td>0</td>\n",
       "      <td>0</td>\n",
       "      <td>0</td>\n",
       "      <td>...</td>\n",
       "      <td>0</td>\n",
       "      <td>0</td>\n",
       "      <td>0</td>\n",
       "      <td>0</td>\n",
       "      <td>0</td>\n",
       "      <td>0</td>\n",
       "      <td>0</td>\n",
       "      <td>0</td>\n",
       "      <td>0</td>\n",
       "      <td>0</td>\n",
       "    </tr>\n",
       "    <tr>\n",
       "      <th>-3zffZUHoY8bQjGfPSoBKQ</th>\n",
       "      <td>0</td>\n",
       "      <td>0</td>\n",
       "      <td>0</td>\n",
       "      <td>0</td>\n",
       "      <td>0</td>\n",
       "      <td>0</td>\n",
       "      <td>0</td>\n",
       "      <td>0</td>\n",
       "      <td>0</td>\n",
       "      <td>0</td>\n",
       "      <td>...</td>\n",
       "      <td>0</td>\n",
       "      <td>0</td>\n",
       "      <td>0</td>\n",
       "      <td>0</td>\n",
       "      <td>0</td>\n",
       "      <td>0</td>\n",
       "      <td>0</td>\n",
       "      <td>0</td>\n",
       "      <td>0</td>\n",
       "      <td>0</td>\n",
       "    </tr>\n",
       "    <tr>\n",
       "      <th>-8R_-EkGpUhBk55K9Dd4mg</th>\n",
       "      <td>0</td>\n",
       "      <td>0</td>\n",
       "      <td>0</td>\n",
       "      <td>0</td>\n",
       "      <td>0</td>\n",
       "      <td>0</td>\n",
       "      <td>0</td>\n",
       "      <td>0</td>\n",
       "      <td>0</td>\n",
       "      <td>0</td>\n",
       "      <td>...</td>\n",
       "      <td>0</td>\n",
       "      <td>0</td>\n",
       "      <td>0</td>\n",
       "      <td>0</td>\n",
       "      <td>0</td>\n",
       "      <td>0</td>\n",
       "      <td>0</td>\n",
       "      <td>0</td>\n",
       "      <td>0</td>\n",
       "      <td>0</td>\n",
       "    </tr>\n",
       "  </tbody>\n",
       "</table>\n",
       "<p>5 rows × 469 columns</p>\n",
       "</div>"
      ],
      "text/plain": [
       "                        acai  active  activities  acupuncture  adoption  \\\n",
       "business_id                                                               \n",
       "--9e1ONYQuAa-CB_Rrw7Tw     0       0           0            0         0   \n",
       "-1m9o3vGRA8IBPNvNqKLmA     0       0           0            0         0   \n",
       "-1vfRrlnNnNJ5boOVghMPA     0       0           0            0         0   \n",
       "-3zffZUHoY8bQjGfPSoBKQ     0       0           0            0         0   \n",
       "-8R_-EkGpUhBk55K9Dd4mg     0       0           0            0         0   \n",
       "\n",
       "                        adult  afghan  african  air  aircraft    ...     \\\n",
       "business_id                                                      ...      \n",
       "--9e1ONYQuAa-CB_Rrw7Tw      0       0        0    0         0    ...      \n",
       "-1m9o3vGRA8IBPNvNqKLmA      0       0        1    0         0    ...      \n",
       "-1vfRrlnNnNJ5boOVghMPA      0       0        0    0         0    ...      \n",
       "-3zffZUHoY8bQjGfPSoBKQ      0       0        0    0         0    ...      \n",
       "-8R_-EkGpUhBk55K9Dd4mg      0       0        0    0         0    ...      \n",
       "\n",
       "                        window  windshield  wine  wineries  wings  women  \\\n",
       "business_id                                                                \n",
       "--9e1ONYQuAa-CB_Rrw7Tw       0           0     0         0      0      0   \n",
       "-1m9o3vGRA8IBPNvNqKLmA       0           0     0         0      0      0   \n",
       "-1vfRrlnNnNJ5boOVghMPA       0           0     0         0      0      0   \n",
       "-3zffZUHoY8bQjGfPSoBKQ       0           0     0         0      0      0   \n",
       "-8R_-EkGpUhBk55K9Dd4mg       0           0     0         0      0      0   \n",
       "\n",
       "                        wraps  yoga  yogurt  yourself  \n",
       "business_id                                            \n",
       "--9e1ONYQuAa-CB_Rrw7Tw      0     0       0         0  \n",
       "-1m9o3vGRA8IBPNvNqKLmA      0     0       0         0  \n",
       "-1vfRrlnNnNJ5boOVghMPA      0     0       0         0  \n",
       "-3zffZUHoY8bQjGfPSoBKQ      0     0       0         0  \n",
       "-8R_-EkGpUhBk55K9Dd4mg      0     0       0         0  \n",
       "\n",
       "[5 rows x 469 columns]"
      ]
     },
     "execution_count": 31,
     "metadata": {},
     "output_type": "execute_result"
    }
   ],
   "source": [
    "# business_id, categories table\n",
    "# a sparse matrix\n",
    "from sklearn.feature_extraction.text import CountVectorizer\n",
    "\n",
    "vectorizer = CountVectorizer()\n",
    "\n",
    "# get a ndarray with no index or column names\n",
    "categories_mat = vectorizer.fit_transform(categories_series).toarray()\n",
    "categories = vectorizer.get_feature_names()\n",
    "\n",
    "#transform it to pandas df with column and index names\n",
    "df_categories = pd.DataFrame(categories_mat,\n",
    "                             columns=categories, \n",
    "                             index=categories_series.index)\n",
    "df_categories.head()"
   ]
  },
  {
   "cell_type": "code",
   "execution_count": 32,
   "metadata": {},
   "outputs": [
    {
     "name": "stdout",
     "output_type": "stream",
     "text": [
      "0.978568848534\n"
     ]
    },
    {
     "data": {
      "text/html": [
       "<div>\n",
       "<table border=\"1\" class=\"dataframe\">\n",
       "  <thead>\n",
       "    <tr style=\"text-align: right;\">\n",
       "      <th></th>\n",
       "      <th>0</th>\n",
       "      <th>1</th>\n",
       "      <th>2</th>\n",
       "      <th>3</th>\n",
       "      <th>4</th>\n",
       "      <th>5</th>\n",
       "      <th>6</th>\n",
       "      <th>7</th>\n",
       "      <th>8</th>\n",
       "      <th>9</th>\n",
       "      <th>...</th>\n",
       "      <th>140</th>\n",
       "      <th>141</th>\n",
       "      <th>142</th>\n",
       "      <th>143</th>\n",
       "      <th>144</th>\n",
       "      <th>145</th>\n",
       "      <th>146</th>\n",
       "      <th>147</th>\n",
       "      <th>148</th>\n",
       "      <th>149</th>\n",
       "    </tr>\n",
       "    <tr>\n",
       "      <th>business_id</th>\n",
       "      <th></th>\n",
       "      <th></th>\n",
       "      <th></th>\n",
       "      <th></th>\n",
       "      <th></th>\n",
       "      <th></th>\n",
       "      <th></th>\n",
       "      <th></th>\n",
       "      <th></th>\n",
       "      <th></th>\n",
       "      <th></th>\n",
       "      <th></th>\n",
       "      <th></th>\n",
       "      <th></th>\n",
       "      <th></th>\n",
       "      <th></th>\n",
       "      <th></th>\n",
       "      <th></th>\n",
       "      <th></th>\n",
       "      <th></th>\n",
       "      <th></th>\n",
       "    </tr>\n",
       "  </thead>\n",
       "  <tbody>\n",
       "    <tr>\n",
       "      <th>--9e1ONYQuAa-CB_Rrw7Tw</th>\n",
       "      <td>0.729615</td>\n",
       "      <td>0.048135</td>\n",
       "      <td>-0.449471</td>\n",
       "      <td>-0.432830</td>\n",
       "      <td>0.022885</td>\n",
       "      <td>0.025200</td>\n",
       "      <td>-0.039898</td>\n",
       "      <td>0.102605</td>\n",
       "      <td>-0.032402</td>\n",
       "      <td>0.011706</td>\n",
       "      <td>...</td>\n",
       "      <td>0.006637</td>\n",
       "      <td>0.007949</td>\n",
       "      <td>0.007346</td>\n",
       "      <td>0.012538</td>\n",
       "      <td>0.004413</td>\n",
       "      <td>-0.010007</td>\n",
       "      <td>0.002728</td>\n",
       "      <td>0.001197</td>\n",
       "      <td>-0.001293</td>\n",
       "      <td>0.005149</td>\n",
       "    </tr>\n",
       "    <tr>\n",
       "      <th>-1m9o3vGRA8IBPNvNqKLmA</th>\n",
       "      <td>1.831809</td>\n",
       "      <td>2.004849</td>\n",
       "      <td>0.609203</td>\n",
       "      <td>0.020579</td>\n",
       "      <td>-0.122700</td>\n",
       "      <td>-0.175145</td>\n",
       "      <td>-0.134979</td>\n",
       "      <td>0.163103</td>\n",
       "      <td>0.125498</td>\n",
       "      <td>0.455544</td>\n",
       "      <td>...</td>\n",
       "      <td>-0.051330</td>\n",
       "      <td>0.033400</td>\n",
       "      <td>0.034054</td>\n",
       "      <td>-0.055641</td>\n",
       "      <td>-0.058839</td>\n",
       "      <td>0.075682</td>\n",
       "      <td>0.019001</td>\n",
       "      <td>-0.025338</td>\n",
       "      <td>0.064974</td>\n",
       "      <td>0.054436</td>\n",
       "    </tr>\n",
       "    <tr>\n",
       "      <th>-1vfRrlnNnNJ5boOVghMPA</th>\n",
       "      <td>1.019308</td>\n",
       "      <td>0.614910</td>\n",
       "      <td>0.163117</td>\n",
       "      <td>-0.705667</td>\n",
       "      <td>-0.085955</td>\n",
       "      <td>0.128802</td>\n",
       "      <td>-0.061715</td>\n",
       "      <td>0.102017</td>\n",
       "      <td>-0.243518</td>\n",
       "      <td>0.017059</td>\n",
       "      <td>...</td>\n",
       "      <td>0.003058</td>\n",
       "      <td>-0.009049</td>\n",
       "      <td>-0.006594</td>\n",
       "      <td>-0.007373</td>\n",
       "      <td>-0.006259</td>\n",
       "      <td>0.006767</td>\n",
       "      <td>0.002197</td>\n",
       "      <td>-0.000847</td>\n",
       "      <td>0.000545</td>\n",
       "      <td>-0.004172</td>\n",
       "    </tr>\n",
       "    <tr>\n",
       "      <th>-3zffZUHoY8bQjGfPSoBKQ</th>\n",
       "      <td>1.496075</td>\n",
       "      <td>1.358226</td>\n",
       "      <td>0.002296</td>\n",
       "      <td>0.196015</td>\n",
       "      <td>-0.049401</td>\n",
       "      <td>-0.190597</td>\n",
       "      <td>-0.146616</td>\n",
       "      <td>0.268089</td>\n",
       "      <td>0.145952</td>\n",
       "      <td>0.445564</td>\n",
       "      <td>...</td>\n",
       "      <td>-0.002457</td>\n",
       "      <td>-0.007027</td>\n",
       "      <td>-0.011435</td>\n",
       "      <td>-0.015463</td>\n",
       "      <td>-0.011692</td>\n",
       "      <td>-0.005671</td>\n",
       "      <td>-0.002791</td>\n",
       "      <td>-0.005562</td>\n",
       "      <td>-0.001172</td>\n",
       "      <td>0.008745</td>\n",
       "    </tr>\n",
       "    <tr>\n",
       "      <th>-8R_-EkGpUhBk55K9Dd4mg</th>\n",
       "      <td>0.706684</td>\n",
       "      <td>0.010360</td>\n",
       "      <td>-0.445351</td>\n",
       "      <td>-0.452623</td>\n",
       "      <td>0.015391</td>\n",
       "      <td>0.054762</td>\n",
       "      <td>-0.038082</td>\n",
       "      <td>0.113284</td>\n",
       "      <td>-0.048356</td>\n",
       "      <td>0.015583</td>\n",
       "      <td>...</td>\n",
       "      <td>0.000442</td>\n",
       "      <td>-0.002289</td>\n",
       "      <td>-0.002723</td>\n",
       "      <td>0.001286</td>\n",
       "      <td>-0.003358</td>\n",
       "      <td>0.006847</td>\n",
       "      <td>0.000040</td>\n",
       "      <td>0.003044</td>\n",
       "      <td>-0.002073</td>\n",
       "      <td>-0.000813</td>\n",
       "    </tr>\n",
       "  </tbody>\n",
       "</table>\n",
       "<p>5 rows × 150 columns</p>\n",
       "</div>"
      ],
      "text/plain": [
       "                             0         1         2         3         4    \\\n",
       "business_id                                                                \n",
       "--9e1ONYQuAa-CB_Rrw7Tw  0.729615  0.048135 -0.449471 -0.432830  0.022885   \n",
       "-1m9o3vGRA8IBPNvNqKLmA  1.831809  2.004849  0.609203  0.020579 -0.122700   \n",
       "-1vfRrlnNnNJ5boOVghMPA  1.019308  0.614910  0.163117 -0.705667 -0.085955   \n",
       "-3zffZUHoY8bQjGfPSoBKQ  1.496075  1.358226  0.002296  0.196015 -0.049401   \n",
       "-8R_-EkGpUhBk55K9Dd4mg  0.706684  0.010360 -0.445351 -0.452623  0.015391   \n",
       "\n",
       "                             5         6         7         8         9    \\\n",
       "business_id                                                                \n",
       "--9e1ONYQuAa-CB_Rrw7Tw  0.025200 -0.039898  0.102605 -0.032402  0.011706   \n",
       "-1m9o3vGRA8IBPNvNqKLmA -0.175145 -0.134979  0.163103  0.125498  0.455544   \n",
       "-1vfRrlnNnNJ5boOVghMPA  0.128802 -0.061715  0.102017 -0.243518  0.017059   \n",
       "-3zffZUHoY8bQjGfPSoBKQ -0.190597 -0.146616  0.268089  0.145952  0.445564   \n",
       "-8R_-EkGpUhBk55K9Dd4mg  0.054762 -0.038082  0.113284 -0.048356  0.015583   \n",
       "\n",
       "                          ...          140       141       142       143  \\\n",
       "business_id               ...                                              \n",
       "--9e1ONYQuAa-CB_Rrw7Tw    ...     0.006637  0.007949  0.007346  0.012538   \n",
       "-1m9o3vGRA8IBPNvNqKLmA    ...    -0.051330  0.033400  0.034054 -0.055641   \n",
       "-1vfRrlnNnNJ5boOVghMPA    ...     0.003058 -0.009049 -0.006594 -0.007373   \n",
       "-3zffZUHoY8bQjGfPSoBKQ    ...    -0.002457 -0.007027 -0.011435 -0.015463   \n",
       "-8R_-EkGpUhBk55K9Dd4mg    ...     0.000442 -0.002289 -0.002723  0.001286   \n",
       "\n",
       "                             144       145       146       147       148  \\\n",
       "business_id                                                                \n",
       "--9e1ONYQuAa-CB_Rrw7Tw  0.004413 -0.010007  0.002728  0.001197 -0.001293   \n",
       "-1m9o3vGRA8IBPNvNqKLmA -0.058839  0.075682  0.019001 -0.025338  0.064974   \n",
       "-1vfRrlnNnNJ5boOVghMPA -0.006259  0.006767  0.002197 -0.000847  0.000545   \n",
       "-3zffZUHoY8bQjGfPSoBKQ -0.011692 -0.005671 -0.002791 -0.005562 -0.001172   \n",
       "-8R_-EkGpUhBk55K9Dd4mg -0.003358  0.006847  0.000040  0.003044 -0.002073   \n",
       "\n",
       "                             149  \n",
       "business_id                       \n",
       "--9e1ONYQuAa-CB_Rrw7Tw  0.005149  \n",
       "-1m9o3vGRA8IBPNvNqKLmA  0.054436  \n",
       "-1vfRrlnNnNJ5boOVghMPA -0.004172  \n",
       "-3zffZUHoY8bQjGfPSoBKQ  0.008745  \n",
       "-8R_-EkGpUhBk55K9Dd4mg -0.000813  \n",
       "\n",
       "[5 rows x 150 columns]"
      ]
     },
     "execution_count": 32,
     "metadata": {},
     "output_type": "execute_result"
    }
   ],
   "source": [
    "# use svd to reduce dimension\n",
    "# only retain 150 components\n",
    "from sklearn.decomposition import TruncatedSVD\n",
    "svd = TruncatedSVD(n_components=150,\n",
    "                   random_state=42)\n",
    "\n",
    "svd.fit(categories_mat)\n",
    "categories_svd = svd.transform(categories_mat)\n",
    "df_categories_svd = pd.DataFrame(categories_svd,\n",
    "                                 index=categories_series.index)\n",
    "\n",
    "print(svd.explained_variance_ratio_.sum()) # total variance explained\n",
    "df_categories_svd.head()"
   ]
  },
  {
   "cell_type": "code",
   "execution_count": 33,
   "metadata": {},
   "outputs": [
    {
     "name": "stdout",
     "output_type": "stream",
     "text": [
      "df_average :  (4832, 5)\n",
      "df_categories :  (4832, 469)\n",
      "df_categories_svd :  (4832, 150)\n"
     ]
    }
   ],
   "source": [
    "# display feature matrix dimension\n",
    "\n",
    "print 'df_average : ', df_average.shape   # to be joined \n",
    "print 'df_categories : ', df_categories.shape\n",
    "print 'df_categories_svd : ', df_categories_svd.shape  # to be joined"
   ]
  },
  {
   "cell_type": "code",
   "execution_count": 34,
   "metadata": {
    "collapsed": true
   },
   "outputs": [],
   "source": [
    "# join two to generate feature data for each business_id\n",
    "df_business = df_average.join(df_categories_svd)"
   ]
  },
  {
   "cell_type": "code",
   "execution_count": 35,
   "metadata": {},
   "outputs": [
    {
     "data": {
      "text/plain": [
       "((4832, 155),\n",
       "                         avg_stars      cool     funny     stars    useful  \\\n",
       " business_id                                                                 \n",
       " --9e1ONYQuAa-CB_Rrw7Tw        4.0  0.706263  0.578834  4.159827  1.010799   \n",
       " -1m9o3vGRA8IBPNvNqKLmA        4.5  1.000000  0.631579  4.736842  1.315789   \n",
       " -1vfRrlnNnNJ5boOVghMPA        3.0  0.428571  0.642857  3.000000  0.428571   \n",
       " -3zffZUHoY8bQjGfPSoBKQ        4.0  0.534483  0.454023  3.867816  1.091954   \n",
       " -8R_-EkGpUhBk55K9Dd4mg        3.5  0.761905  0.650794  3.841270  0.968254   \n",
       " \n",
       "                                0         1         2         3         4  \\\n",
       " business_id                                                                \n",
       " --9e1ONYQuAa-CB_Rrw7Tw  0.729615  0.048135 -0.449471 -0.432830  0.022885   \n",
       " -1m9o3vGRA8IBPNvNqKLmA  1.831809  2.004849  0.609203  0.020579 -0.122700   \n",
       " -1vfRrlnNnNJ5boOVghMPA  1.019308  0.614910  0.163117 -0.705667 -0.085955   \n",
       " -3zffZUHoY8bQjGfPSoBKQ  1.496075  1.358226  0.002296  0.196015 -0.049401   \n",
       " -8R_-EkGpUhBk55K9Dd4mg  0.706684  0.010360 -0.445351 -0.452623  0.015391   \n",
       " \n",
       "                           ...          140       141       142       143  \\\n",
       " business_id               ...                                              \n",
       " --9e1ONYQuAa-CB_Rrw7Tw    ...     0.006637  0.007949  0.007346  0.012538   \n",
       " -1m9o3vGRA8IBPNvNqKLmA    ...    -0.051330  0.033400  0.034054 -0.055641   \n",
       " -1vfRrlnNnNJ5boOVghMPA    ...     0.003058 -0.009049 -0.006594 -0.007373   \n",
       " -3zffZUHoY8bQjGfPSoBKQ    ...    -0.002457 -0.007027 -0.011435 -0.015463   \n",
       " -8R_-EkGpUhBk55K9Dd4mg    ...     0.000442 -0.002289 -0.002723  0.001286   \n",
       " \n",
       "                              144       145       146       147       148  \\\n",
       " business_id                                                                \n",
       " --9e1ONYQuAa-CB_Rrw7Tw  0.004413 -0.010007  0.002728  0.001197 -0.001293   \n",
       " -1m9o3vGRA8IBPNvNqKLmA -0.058839  0.075682  0.019001 -0.025338  0.064974   \n",
       " -1vfRrlnNnNJ5boOVghMPA -0.006259  0.006767  0.002197 -0.000847  0.000545   \n",
       " -3zffZUHoY8bQjGfPSoBKQ -0.011692 -0.005671 -0.002791 -0.005562 -0.001172   \n",
       " -8R_-EkGpUhBk55K9Dd4mg -0.003358  0.006847  0.000040  0.003044 -0.002073   \n",
       " \n",
       "                              149  \n",
       " business_id                       \n",
       " --9e1ONYQuAa-CB_Rrw7Tw  0.005149  \n",
       " -1m9o3vGRA8IBPNvNqKLmA  0.054436  \n",
       " -1vfRrlnNnNJ5boOVghMPA -0.004172  \n",
       " -3zffZUHoY8bQjGfPSoBKQ  0.008745  \n",
       " -8R_-EkGpUhBk55K9Dd4mg -0.000813  \n",
       " \n",
       " [5 rows x 155 columns])"
      ]
     },
     "execution_count": 35,
     "metadata": {},
     "output_type": "execute_result"
    }
   ],
   "source": [
    "df_business.shape, df_business.head()"
   ]
  },
  {
   "cell_type": "code",
   "execution_count": 36,
   "metadata": {
    "collapsed": true
   },
   "outputs": [],
   "source": [
    "# prepare data\n",
    "\n",
    "item_data = graphlab.SFrame(df_business.reset_index())"
   ]
  },
  {
   "cell_type": "code",
   "execution_count": 37,
   "metadata": {},
   "outputs": [
    {
     "name": "stdout",
     "output_type": "stream",
     "text": [
      "WARNING: The ItemContentRecommender model is still in beta.\n",
      "WARNING: This feature transformer is still in beta, and some interpretation rules may change in the future.\n",
      "('Applying transform:\\n', Class             : AutoVectorizer\n",
      "\n",
      "Model Fields\n",
      "------------\n",
      "Features          : ['avg_stars', 'cool', 'funny', 'stars', 'useful', '0', '1', '2', '3', '4', '5', '6', '7', '8', '9', '10', '11', '12', '13', '14', '15', '16', '17', '18', '19', '20', '21', '22', '23', '24', '25', '26', '27', '28', '29', '30', '31', '32', '33', '34', '35', '36', '37', '38', '39', '40', '41', '42', '43', '44', '45', '46', '47', '48', '49', '50', '51', '52', '53', '54', '55', '56', '57', '58', '59', '60', '61', '62', '63', '64', '65', '66', '67', '68', '69', '70', '71', '72', '73', '74', '75', '76', '77', '78', '79', '80', '81', '82', '83', '84', '85', '86', '87', '88', '89', '90', '91', '92', '93', '94', '95', '96', '97', '98', '99', '100', '101', '102', '103', '104', '105', '106', '107', '108', '109', '110', '111', '112', '113', '114', '115', '116', '117', '118', '119', '120', '121', '122', '123', '124', '125', '126', '127', '128', '129', '130', '131', '132', '133', '134', '135', '136', '137', '138', '139', '140', '141', '142', '143', '144', '145', '146', '147', '148', '149']\n",
      "Excluded Features : ['business_id']\n",
      "\n",
      "Column     Type   Interpretation  Transforms  Output Type\n",
      "---------  -----  --------------  ----------  -----------\n",
      "avg_stars  float  numerical       None        float      \n",
      "cool       float  numerical       None        float      \n",
      "funny      float  numerical       None        float      \n",
      "stars      float  numerical       None        float      \n",
      "useful     float  numerical       None        float      \n",
      "0          float  numerical       None        float      \n",
      "1          float  numerical       None        float      \n",
      "2          float  numerical       None        float      \n",
      "3          float  numerical       None        float      \n",
      "4          float  numerical       None        float      \n",
      "5          float  numerical       None        float      \n",
      "6          float  numerical       None        float      \n",
      "7          float  numerical       None        float      \n",
      "8          float  numerical       None        float      \n",
      "9          float  numerical       None        float      \n",
      "10         float  numerical       None        float      \n",
      "11         float  numerical       None        float      \n",
      "12         float  numerical       None        float      \n",
      "13         float  numerical       None        float      \n",
      "14         float  numerical       None        float      \n",
      "15         float  numerical       None        float      \n",
      "16         float  numerical       None        float      \n",
      "17         float  numerical       None        float      \n",
      "18         float  numerical       None        float      \n",
      "19         float  numerical       None        float      \n",
      "20         float  numerical       None        float      \n",
      "21         float  numerical       None        float      \n",
      "22         float  numerical       None        float      \n",
      "23         float  numerical       None        float      \n",
      "24         float  numerical       None        float      \n",
      "25         float  numerical       None        float      \n",
      "26         float  numerical       None        float      \n",
      "27         float  numerical       None        float      \n",
      "28         float  numerical       None        float      \n",
      "29         float  numerical       None        float      \n",
      "30         float  numerical       None        float      \n",
      "31         float  numerical       None        float      \n",
      "32         float  numerical       None        float      \n",
      "33         float  numerical       None        float      \n",
      "34         float  numerical       None        float      \n",
      "35         float  numerical       None        float      \n",
      "36         float  numerical       None        float      \n",
      "37         float  numerical       None        float      \n",
      "38         float  numerical       None        float      \n",
      "39         float  numerical       None        float      \n",
      "40         float  numerical       None        float      \n",
      "41         float  numerical       None        float      \n",
      "42         float  numerical       None        float      \n",
      "43         float  numerical       None        float      \n",
      "44         float  numerical       None        float      \n",
      "45         float  numerical       None        float      \n",
      "46         float  numerical       None        float      \n",
      "47         float  numerical       None        float      \n",
      "48         float  numerical       None        float      \n",
      "49         float  numerical       None        float      \n",
      "50         float  numerical       None        float      \n",
      "51         float  numerical       None        float      \n",
      "52         float  numerical       None        float      \n",
      "53         float  numerical       None        float      \n",
      "54         float  numerical       None        float      \n",
      "55         float  numerical       None        float      \n",
      "56         float  numerical       None        float      \n",
      "57         float  numerical       None        float      \n",
      "58         float  numerical       None        float      \n",
      "59         float  numerical       None        float      \n",
      "60         float  numerical       None        float      \n",
      "61         float  numerical       None        float      \n",
      "62         float  numerical       None        float      \n",
      "63         float  numerical       None        float      \n",
      "64         float  numerical       None        float      \n",
      "65         float  numerical       None        float      \n",
      "66         float  numerical       None        float      \n",
      "67         float  numerical       None        float      \n",
      "68         float  numerical       None        float      \n",
      "69         float  numerical       None        float      \n",
      "70         float  numerical       None        float      \n",
      "71         float  numerical       None        float      \n",
      "72         float  numerical       None        float      \n",
      "73         float  numerical       None        float      \n",
      "74         float  numerical       None        float      \n",
      "75         float  numerical       None        float      \n",
      "76         float  numerical       None        float      \n",
      "77         float  numerical       None        float      \n",
      "78         float  numerical       None        float      \n",
      "79         float  numerical       None        float      \n",
      "80         float  numerical       None        float      \n",
      "81         float  numerical       None        float      \n",
      "82         float  numerical       None        float      \n",
      "83         float  numerical       None        float      \n",
      "84         float  numerical       None        float      \n",
      "85         float  numerical       None        float      \n",
      "86         float  numerical       None        float      \n",
      "87         float  numerical       None        float      \n",
      "88         float  numerical       None        float      \n",
      "89         float  numerical       None        float      \n",
      "90         float  numerical       None        float      \n",
      "91         float  numerical       None        float      \n",
      "92         float  numerical       None        float      \n",
      "93         float  numerical       None        float      \n",
      "94         float  numerical       None        float      \n",
      "95         float  numerical       None        float      \n",
      "96         float  numerical       None        float      \n",
      "97         float  numerical       None        float      \n",
      "98         float  numerical       None        float      \n",
      "99         float  numerical       None        float      \n",
      "100        float  numerical       None        float      \n",
      "101        float  numerical       None        float      \n",
      "102        float  numerical       None        float      \n",
      "103        float  numerical       None        float      \n",
      "104        float  numerical       None        float      \n",
      "105        float  numerical       None        float      \n",
      "106        float  numerical       None        float      \n",
      "107        float  numerical       None        float      \n",
      "108        float  numerical       None        float      \n",
      "109        float  numerical       None        float      \n",
      "110        float  numerical       None        float      \n",
      "111        float  numerical       None        float      \n",
      "112        float  numerical       None        float      \n",
      "113        float  numerical       None        float      \n",
      "114        float  numerical       None        float      \n",
      "115        float  numerical       None        float      \n",
      "116        float  numerical       None        float      \n",
      "117        float  numerical       None        float      \n",
      "118        float  numerical       None        float      \n",
      "119        float  numerical       None        float      \n",
      "120        float  numerical       None        float      \n",
      "121        float  numerical       None        float      \n",
      "122        float  numerical       None        float      \n",
      "123        float  numerical       None        float      \n",
      "124        float  numerical       None        float      \n",
      "125        float  numerical       None        float      \n",
      "126        float  numerical       None        float      \n",
      "127        float  numerical       None        float      \n",
      "128        float  numerical       None        float      \n",
      "129        float  numerical       None        float      \n",
      "130        float  numerical       None        float      \n",
      "131        float  numerical       None        float      \n",
      "132        float  numerical       None        float      \n",
      "133        float  numerical       None        float      \n",
      "134        float  numerical       None        float      \n",
      "135        float  numerical       None        float      \n",
      "136        float  numerical       None        float      \n",
      "137        float  numerical       None        float      \n",
      "138        float  numerical       None        float      \n",
      "139        float  numerical       None        float      \n",
      "140        float  numerical       None        float      \n",
      "141        float  numerical       None        float      \n",
      "142        float  numerical       None        float      \n",
      "143        float  numerical       None        float      \n",
      "144        float  numerical       None        float      \n",
      "145        float  numerical       None        float      \n",
      "146        float  numerical       None        float      \n",
      "147        float  numerical       None        float      \n",
      "148        float  numerical       None        float      \n",
      "149        float  numerical       None        float      \n",
      "\n",
      ")\n"
     ]
    },
    {
     "data": {
      "text/html": [
       "<pre>Recsys training: model = item_content_recommender</pre>"
      ],
      "text/plain": [
       "Recsys training: model = item_content_recommender"
      ]
     },
     "metadata": {},
     "output_type": "display_data"
    },
    {
     "name": "stdout",
     "output_type": "stream",
     "text": [
      "Defaulting to brute force instead of ball tree because there are multiple distance components.\n"
     ]
    },
    {
     "data": {
      "text/html": [
       "<pre>Starting brute force nearest neighbors model training.</pre>"
      ],
      "text/plain": [
       "Starting brute force nearest neighbors model training."
      ]
     },
     "metadata": {},
     "output_type": "display_data"
    },
    {
     "data": {
      "text/html": [
       "<pre>Starting pairwise querying.</pre>"
      ],
      "text/plain": [
       "Starting pairwise querying."
      ]
     },
     "metadata": {},
     "output_type": "display_data"
    },
    {
     "data": {
      "text/html": [
       "<pre>+--------------+---------+-------------+--------------+</pre>"
      ],
      "text/plain": [
       "+--------------+---------+-------------+--------------+"
      ]
     },
     "metadata": {},
     "output_type": "display_data"
    },
    {
     "data": {
      "text/html": [
       "<pre>| Query points | # Pairs | % Complete. | Elapsed Time |</pre>"
      ],
      "text/plain": [
       "| Query points | # Pairs | % Complete. | Elapsed Time |"
      ]
     },
     "metadata": {},
     "output_type": "display_data"
    },
    {
     "data": {
      "text/html": [
       "<pre>+--------------+---------+-------------+--------------+</pre>"
      ],
      "text/plain": [
       "+--------------+---------+-------------+--------------+"
      ]
     },
     "metadata": {},
     "output_type": "display_data"
    },
    {
     "data": {
      "text/html": [
       "<pre>| 1            | 4832    | 0.0206954   | 227.573ms    |</pre>"
      ],
      "text/plain": [
       "| 1            | 4832    | 0.0206954   | 227.573ms    |"
      ]
     },
     "metadata": {},
     "output_type": "display_data"
    },
    {
     "data": {
      "text/html": [
       "<pre>| 39           | 188448  | 0.807119    | 1.25s        |</pre>"
      ],
      "text/plain": [
       "| 39           | 188448  | 0.807119    | 1.25s        |"
      ]
     },
     "metadata": {},
     "output_type": "display_data"
    },
    {
     "data": {
      "text/html": [
       "<pre>| 80           | 386560  | 1.65563     | 2.25s        |</pre>"
      ],
      "text/plain": [
       "| 80           | 386560  | 1.65563     | 2.25s        |"
      ]
     },
     "metadata": {},
     "output_type": "display_data"
    },
    {
     "data": {
      "text/html": [
       "<pre>| 126          | 608832  | 2.60762     | 3.23s        |</pre>"
      ],
      "text/plain": [
       "| 126          | 608832  | 2.60762     | 3.23s        |"
      ]
     },
     "metadata": {},
     "output_type": "display_data"
    },
    {
     "data": {
      "text/html": [
       "<pre>| 164          | 792448  | 3.39404     | 4.28s        |</pre>"
      ],
      "text/plain": [
       "| 164          | 792448  | 3.39404     | 4.28s        |"
      ]
     },
     "metadata": {},
     "output_type": "display_data"
    },
    {
     "data": {
      "text/html": [
       "<pre>| 193          | 932576  | 3.99421     | 5.23s        |</pre>"
      ],
      "text/plain": [
       "| 193          | 932576  | 3.99421     | 5.23s        |"
      ]
     },
     "metadata": {},
     "output_type": "display_data"
    },
    {
     "data": {
      "text/html": [
       "<pre>| 240          | 1159680 | 4.96689     | 6.27s        |</pre>"
      ],
      "text/plain": [
       "| 240          | 1159680 | 4.96689     | 6.27s        |"
      ]
     },
     "metadata": {},
     "output_type": "display_data"
    },
    {
     "data": {
      "text/html": [
       "<pre>| 294          | 1420608 | 6.08444     | 7.24s        |</pre>"
      ],
      "text/plain": [
       "| 294          | 1420608 | 6.08444     | 7.24s        |"
      ]
     },
     "metadata": {},
     "output_type": "display_data"
    },
    {
     "data": {
      "text/html": [
       "<pre>| 348          | 1681536 | 7.20199     | 8.24s        |</pre>"
      ],
      "text/plain": [
       "| 348          | 1681536 | 7.20199     | 8.24s        |"
      ]
     },
     "metadata": {},
     "output_type": "display_data"
    },
    {
     "data": {
      "text/html": [
       "<pre>| 405          | 1956960 | 8.38162     | 9.27s        |</pre>"
      ],
      "text/plain": [
       "| 405          | 1956960 | 8.38162     | 9.27s        |"
      ]
     },
     "metadata": {},
     "output_type": "display_data"
    },
    {
     "data": {
      "text/html": [
       "<pre>| 458          | 2213056 | 9.47848     | 10.24s       |</pre>"
      ],
      "text/plain": [
       "| 458          | 2213056 | 9.47848     | 10.24s       |"
      ]
     },
     "metadata": {},
     "output_type": "display_data"
    },
    {
     "data": {
      "text/html": [
       "<pre>| 527          | 2546464 | 10.9065     | 11.25s       |</pre>"
      ],
      "text/plain": [
       "| 527          | 2546464 | 10.9065     | 11.25s       |"
      ]
     },
     "metadata": {},
     "output_type": "display_data"
    },
    {
     "data": {
      "text/html": [
       "<pre>| 594          | 2870208 | 12.293      | 12.24s       |</pre>"
      ],
      "text/plain": [
       "| 594          | 2870208 | 12.293      | 12.24s       |"
      ]
     },
     "metadata": {},
     "output_type": "display_data"
    },
    {
     "data": {
      "text/html": [
       "<pre>| 663          | 3203616 | 13.721      | 13.27s       |</pre>"
      ],
      "text/plain": [
       "| 663          | 3203616 | 13.721      | 13.27s       |"
      ]
     },
     "metadata": {},
     "output_type": "display_data"
    },
    {
     "data": {
      "text/html": [
       "<pre>| 716          | 3459712 | 14.8179     | 14.24s       |</pre>"
      ],
      "text/plain": [
       "| 716          | 3459712 | 14.8179     | 14.24s       |"
      ]
     },
     "metadata": {},
     "output_type": "display_data"
    },
    {
     "data": {
      "text/html": [
       "<pre>| 748          | 3614336 | 15.4801     | 15.27s       |</pre>"
      ],
      "text/plain": [
       "| 748          | 3614336 | 15.4801     | 15.27s       |"
      ]
     },
     "metadata": {},
     "output_type": "display_data"
    },
    {
     "data": {
      "text/html": [
       "<pre>| 790          | 3817280 | 16.3493     | 16.24s       |</pre>"
      ],
      "text/plain": [
       "| 790          | 3817280 | 16.3493     | 16.24s       |"
      ]
     },
     "metadata": {},
     "output_type": "display_data"
    },
    {
     "data": {
      "text/html": [
       "<pre>| 835          | 4034720 | 17.2806     | 17.23s       |</pre>"
      ],
      "text/plain": [
       "| 835          | 4034720 | 17.2806     | 17.23s       |"
      ]
     },
     "metadata": {},
     "output_type": "display_data"
    },
    {
     "data": {
      "text/html": [
       "<pre>| 890          | 4300480 | 18.4189     | 18.24s       |</pre>"
      ],
      "text/plain": [
       "| 890          | 4300480 | 18.4189     | 18.24s       |"
      ]
     },
     "metadata": {},
     "output_type": "display_data"
    },
    {
     "data": {
      "text/html": [
       "<pre>| 954          | 4609728 | 19.7434     | 19.26s       |</pre>"
      ],
      "text/plain": [
       "| 954          | 4609728 | 19.7434     | 19.26s       |"
      ]
     },
     "metadata": {},
     "output_type": "display_data"
    },
    {
     "data": {
      "text/html": [
       "<pre>| 1024         | 4947968 | 21.1921     | 20.23s       |</pre>"
      ],
      "text/plain": [
       "| 1024         | 4947968 | 21.1921     | 20.23s       |"
      ]
     },
     "metadata": {},
     "output_type": "display_data"
    },
    {
     "data": {
      "text/html": [
       "<pre>| 1059         | 5117088 | 21.9164     | 21.23s       |</pre>"
      ],
      "text/plain": [
       "| 1059         | 5117088 | 21.9164     | 21.23s       |"
      ]
     },
     "metadata": {},
     "output_type": "display_data"
    },
    {
     "data": {
      "text/html": [
       "<pre>| 1095         | 5291040 | 22.6614     | 22.26s       |</pre>"
      ],
      "text/plain": [
       "| 1095         | 5291040 | 22.6614     | 22.26s       |"
      ]
     },
     "metadata": {},
     "output_type": "display_data"
    },
    {
     "data": {
      "text/html": [
       "<pre>| 1126         | 5440832 | 23.303      | 23.26s       |</pre>"
      ],
      "text/plain": [
       "| 1126         | 5440832 | 23.303      | 23.26s       |"
      ]
     },
     "metadata": {},
     "output_type": "display_data"
    },
    {
     "data": {
      "text/html": [
       "<pre>| 1157         | 5590624 | 23.9445     | 24.27s       |</pre>"
      ],
      "text/plain": [
       "| 1157         | 5590624 | 23.9445     | 24.27s       |"
      ]
     },
     "metadata": {},
     "output_type": "display_data"
    },
    {
     "data": {
      "text/html": [
       "<pre>| 1193         | 5764576 | 24.6896     | 25.24s       |</pre>"
      ],
      "text/plain": [
       "| 1193         | 5764576 | 24.6896     | 25.24s       |"
      ]
     },
     "metadata": {},
     "output_type": "display_data"
    },
    {
     "data": {
      "text/html": [
       "<pre>| 1233         | 5957856 | 25.5174     | 26.24s       |</pre>"
      ],
      "text/plain": [
       "| 1233         | 5957856 | 25.5174     | 26.24s       |"
      ]
     },
     "metadata": {},
     "output_type": "display_data"
    },
    {
     "data": {
      "text/html": [
       "<pre>| 1291         | 6238112 | 26.7177     | 27.23s       |</pre>"
      ],
      "text/plain": [
       "| 1291         | 6238112 | 26.7177     | 27.23s       |"
      ]
     },
     "metadata": {},
     "output_type": "display_data"
    },
    {
     "data": {
      "text/html": [
       "<pre>| 1361         | 6576352 | 28.1664     | 28.25s       |</pre>"
      ],
      "text/plain": [
       "| 1361         | 6576352 | 28.1664     | 28.25s       |"
      ]
     },
     "metadata": {},
     "output_type": "display_data"
    },
    {
     "data": {
      "text/html": [
       "<pre>| 1416         | 6842112 | 29.3046     | 29.33s       |</pre>"
      ],
      "text/plain": [
       "| 1416         | 6842112 | 29.3046     | 29.33s       |"
      ]
     },
     "metadata": {},
     "output_type": "display_data"
    },
    {
     "data": {
      "text/html": [
       "<pre>| 1451         | 7011232 | 30.029      | 30.30s       |</pre>"
      ],
      "text/plain": [
       "| 1451         | 7011232 | 30.029      | 30.30s       |"
      ]
     },
     "metadata": {},
     "output_type": "display_data"
    },
    {
     "data": {
      "text/html": [
       "<pre>| 1492         | 7209344 | 30.8775     | 31.27s       |</pre>"
      ],
      "text/plain": [
       "| 1492         | 7209344 | 30.8775     | 31.27s       |"
      ]
     },
     "metadata": {},
     "output_type": "display_data"
    },
    {
     "data": {
      "text/html": [
       "<pre>| 1537         | 7426784 | 31.8088     | 32.25s       |</pre>"
      ],
      "text/plain": [
       "| 1537         | 7426784 | 31.8088     | 32.25s       |"
      ]
     },
     "metadata": {},
     "output_type": "display_data"
    },
    {
     "data": {
      "text/html": [
       "<pre>| 1576         | 7615232 | 32.6159     | 33.27s       |</pre>"
      ],
      "text/plain": [
       "| 1576         | 7615232 | 32.6159     | 33.27s       |"
      ]
     },
     "metadata": {},
     "output_type": "display_data"
    },
    {
     "data": {
      "text/html": [
       "<pre>| 1615         | 7803680 | 33.423      | 34.23s       |</pre>"
      ],
      "text/plain": [
       "| 1615         | 7803680 | 33.423      | 34.23s       |"
      ]
     },
     "metadata": {},
     "output_type": "display_data"
    },
    {
     "data": {
      "text/html": [
       "<pre>| 1677         | 8103264 | 34.7061     | 35.25s       |</pre>"
      ],
      "text/plain": [
       "| 1677         | 8103264 | 34.7061     | 35.25s       |"
      ]
     },
     "metadata": {},
     "output_type": "display_data"
    },
    {
     "data": {
      "text/html": [
       "<pre>| 1741         | 8412512 | 36.0306     | 36.23s       |</pre>"
      ],
      "text/plain": [
       "| 1741         | 8412512 | 36.0306     | 36.23s       |"
      ]
     },
     "metadata": {},
     "output_type": "display_data"
    },
    {
     "data": {
      "text/html": [
       "<pre>| 1807         | 8731424 | 37.3965     | 37.24s       |</pre>"
      ],
      "text/plain": [
       "| 1807         | 8731424 | 37.3965     | 37.24s       |"
      ]
     },
     "metadata": {},
     "output_type": "display_data"
    },
    {
     "data": {
      "text/html": [
       "<pre>| 1858         | 8977856 | 38.452      | 38.26s       |</pre>"
      ],
      "text/plain": [
       "| 1858         | 8977856 | 38.452      | 38.26s       |"
      ]
     },
     "metadata": {},
     "output_type": "display_data"
    },
    {
     "data": {
      "text/html": [
       "<pre>| 1905         | 9204960 | 39.4247     | 39.24s       |</pre>"
      ],
      "text/plain": [
       "| 1905         | 9204960 | 39.4247     | 39.24s       |"
      ]
     },
     "metadata": {},
     "output_type": "display_data"
    },
    {
     "data": {
      "text/html": [
       "<pre>| 1962         | 9480384 | 40.6043     | 40.26s       |</pre>"
      ],
      "text/plain": [
       "| 1962         | 9480384 | 40.6043     | 40.26s       |"
      ]
     },
     "metadata": {},
     "output_type": "display_data"
    },
    {
     "data": {
      "text/html": [
       "<pre>| 2008         | 9702656 | 41.5563     | 41.23s       |</pre>"
      ],
      "text/plain": [
       "| 2008         | 9702656 | 41.5563     | 41.23s       |"
      ]
     },
     "metadata": {},
     "output_type": "display_data"
    },
    {
     "data": {
      "text/html": [
       "<pre>| 2077         | 1e+07   | 42.9843     | 42.27s       |</pre>"
      ],
      "text/plain": [
       "| 2077         | 1e+07   | 42.9843     | 42.27s       |"
      ]
     },
     "metadata": {},
     "output_type": "display_data"
    },
    {
     "data": {
      "text/html": [
       "<pre>| 2136         | 1e+07   | 44.2053     | 43.25s       |</pre>"
      ],
      "text/plain": [
       "| 2136         | 1e+07   | 44.2053     | 43.25s       |"
      ]
     },
     "metadata": {},
     "output_type": "display_data"
    },
    {
     "data": {
      "text/html": [
       "<pre>| 2196         | 1.1e+07 | 45.447      | 44.25s       |</pre>"
      ],
      "text/plain": [
       "| 2196         | 1.1e+07 | 45.447      | 44.25s       |"
      ]
     },
     "metadata": {},
     "output_type": "display_data"
    },
    {
     "data": {
      "text/html": [
       "<pre>| 2261         | 1.1e+07 | 46.7922     | 45.23s       |</pre>"
      ],
      "text/plain": [
       "| 2261         | 1.1e+07 | 46.7922     | 45.23s       |"
      ]
     },
     "metadata": {},
     "output_type": "display_data"
    },
    {
     "data": {
      "text/html": [
       "<pre>| 2324         | 1.1e+07 | 48.096      | 46.23s       |</pre>"
      ],
      "text/plain": [
       "| 2324         | 1.1e+07 | 48.096      | 46.23s       |"
      ]
     },
     "metadata": {},
     "output_type": "display_data"
    },
    {
     "data": {
      "text/html": [
       "<pre>| 2396         | 1.2e+07 | 49.5861     | 47.26s       |</pre>"
      ],
      "text/plain": [
       "| 2396         | 1.2e+07 | 49.5861     | 47.26s       |"
      ]
     },
     "metadata": {},
     "output_type": "display_data"
    },
    {
     "data": {
      "text/html": [
       "<pre>| 2466         | 1.2e+07 | 51.0348     | 48.23s       |</pre>"
      ],
      "text/plain": [
       "| 2466         | 1.2e+07 | 51.0348     | 48.23s       |"
      ]
     },
     "metadata": {},
     "output_type": "display_data"
    },
    {
     "data": {
      "text/html": [
       "<pre>| 2542         | 1.2e+07 | 52.6076     | 49.24s       |</pre>"
      ],
      "text/plain": [
       "| 2542         | 1.2e+07 | 52.6076     | 49.24s       |"
      ]
     },
     "metadata": {},
     "output_type": "display_data"
    },
    {
     "data": {
      "text/html": [
       "<pre>| 2612         | 1.3e+07 | 54.0563     | 50.25s       |</pre>"
      ],
      "text/plain": [
       "| 2612         | 1.3e+07 | 54.0563     | 50.25s       |"
      ]
     },
     "metadata": {},
     "output_type": "display_data"
    },
    {
     "data": {
      "text/html": [
       "<pre>| 2682         | 1.3e+07 | 55.505      | 51.23s       |</pre>"
      ],
      "text/plain": [
       "| 2682         | 1.3e+07 | 55.505      | 51.23s       |"
      ]
     },
     "metadata": {},
     "output_type": "display_data"
    },
    {
     "data": {
      "text/html": [
       "<pre>| 2746         | 1.3e+07 | 56.8295     | 52.25s       |</pre>"
      ],
      "text/plain": [
       "| 2746         | 1.3e+07 | 56.8295     | 52.25s       |"
      ]
     },
     "metadata": {},
     "output_type": "display_data"
    },
    {
     "data": {
      "text/html": [
       "<pre>| 2812         | 1.4e+07 | 58.1954     | 53.26s       |</pre>"
      ],
      "text/plain": [
       "| 2812         | 1.4e+07 | 58.1954     | 53.26s       |"
      ]
     },
     "metadata": {},
     "output_type": "display_data"
    },
    {
     "data": {
      "text/html": [
       "<pre>| 2878         | 1.4e+07 | 59.5613     | 54.29s       |</pre>"
      ],
      "text/plain": [
       "| 2878         | 1.4e+07 | 59.5613     | 54.29s       |"
      ]
     },
     "metadata": {},
     "output_type": "display_data"
    },
    {
     "data": {
      "text/html": [
       "<pre>| 2942         | 1.4e+07 | 60.8858     | 55.23s       |</pre>"
      ],
      "text/plain": [
       "| 2942         | 1.4e+07 | 60.8858     | 55.23s       |"
      ]
     },
     "metadata": {},
     "output_type": "display_data"
    },
    {
     "data": {
      "text/html": [
       "<pre>| 3015         | 1.5e+07 | 62.3965     | 56.27s       |</pre>"
      ],
      "text/plain": [
       "| 3015         | 1.5e+07 | 62.3965     | 56.27s       |"
      ]
     },
     "metadata": {},
     "output_type": "display_data"
    },
    {
     "data": {
      "text/html": [
       "<pre>| 3089         | 1.5e+07 | 63.928      | 57.28s       |</pre>"
      ],
      "text/plain": [
       "| 3089         | 1.5e+07 | 63.928      | 57.28s       |"
      ]
     },
     "metadata": {},
     "output_type": "display_data"
    },
    {
     "data": {
      "text/html": [
       "<pre>| 3154         | 1.5e+07 | 65.2732     | 58.23s       |</pre>"
      ],
      "text/plain": [
       "| 3154         | 1.5e+07 | 65.2732     | 58.23s       |"
      ]
     },
     "metadata": {},
     "output_type": "display_data"
    },
    {
     "data": {
      "text/html": [
       "<pre>| 3206         | 1.5e+07 | 66.3493     | 59.25s       |</pre>"
      ],
      "text/plain": [
       "| 3206         | 1.5e+07 | 66.3493     | 59.25s       |"
      ]
     },
     "metadata": {},
     "output_type": "display_data"
    },
    {
     "data": {
      "text/html": [
       "<pre>| 3271         | 1.6e+07 | 67.6945     | 1m 0s        |</pre>"
      ],
      "text/plain": [
       "| 3271         | 1.6e+07 | 67.6945     | 1m 0s        |"
      ]
     },
     "metadata": {},
     "output_type": "display_data"
    },
    {
     "data": {
      "text/html": [
       "<pre>| 3343         | 1.6e+07 | 69.1846     | 1m 1s        |</pre>"
      ],
      "text/plain": [
       "| 3343         | 1.6e+07 | 69.1846     | 1m 1s        |"
      ]
     },
     "metadata": {},
     "output_type": "display_data"
    },
    {
     "data": {
      "text/html": [
       "<pre>| 3418         | 1.7e+07 | 70.7368     | 1m 2s        |</pre>"
      ],
      "text/plain": [
       "| 3418         | 1.7e+07 | 70.7368     | 1m 2s        |"
      ]
     },
     "metadata": {},
     "output_type": "display_data"
    },
    {
     "data": {
      "text/html": [
       "<pre>| 3494         | 1.7e+07 | 72.3096     | 1m 3s        |</pre>"
      ],
      "text/plain": [
       "| 3494         | 1.7e+07 | 72.3096     | 1m 3s        |"
      ]
     },
     "metadata": {},
     "output_type": "display_data"
    },
    {
     "data": {
      "text/html": [
       "<pre>| 3536         | 1.7e+07 | 73.1788     | 1m 4s        |</pre>"
      ],
      "text/plain": [
       "| 3536         | 1.7e+07 | 73.1788     | 1m 4s        |"
      ]
     },
     "metadata": {},
     "output_type": "display_data"
    },
    {
     "data": {
      "text/html": [
       "<pre>| 3597         | 1.7e+07 | 74.4412     | 1m 5s        |</pre>"
      ],
      "text/plain": [
       "| 3597         | 1.7e+07 | 74.4412     | 1m 5s        |"
      ]
     },
     "metadata": {},
     "output_type": "display_data"
    },
    {
     "data": {
      "text/html": [
       "<pre>| 3644         | 1.8e+07 | 75.4139     | 1m 6s        |</pre>"
      ],
      "text/plain": [
       "| 3644         | 1.8e+07 | 75.4139     | 1m 6s        |"
      ]
     },
     "metadata": {},
     "output_type": "display_data"
    },
    {
     "data": {
      "text/html": [
       "<pre>| 3701         | 1.8e+07 | 76.5935     | 1m 7s        |</pre>"
      ],
      "text/plain": [
       "| 3701         | 1.8e+07 | 76.5935     | 1m 7s        |"
      ]
     },
     "metadata": {},
     "output_type": "display_data"
    },
    {
     "data": {
      "text/html": [
       "<pre>| 3763         | 1.8e+07 | 77.8767     | 1m 8s        |</pre>"
      ],
      "text/plain": [
       "| 3763         | 1.8e+07 | 77.8767     | 1m 8s        |"
      ]
     },
     "metadata": {},
     "output_type": "display_data"
    },
    {
     "data": {
      "text/html": [
       "<pre>| 3841         | 1.9e+07 | 79.4909     | 1m 9s        |</pre>"
      ],
      "text/plain": [
       "| 3841         | 1.9e+07 | 79.4909     | 1m 9s        |"
      ]
     },
     "metadata": {},
     "output_type": "display_data"
    },
    {
     "data": {
      "text/html": [
       "<pre>| 3916         | 1.9e+07 | 81.043      | 1m 10s       |</pre>"
      ],
      "text/plain": [
       "| 3916         | 1.9e+07 | 81.043      | 1m 10s       |"
      ]
     },
     "metadata": {},
     "output_type": "display_data"
    },
    {
     "data": {
      "text/html": [
       "<pre>| 3990         | 1.9e+07 | 82.5745     | 1m 11s       |</pre>"
      ],
      "text/plain": [
       "| 3990         | 1.9e+07 | 82.5745     | 1m 11s       |"
      ]
     },
     "metadata": {},
     "output_type": "display_data"
    },
    {
     "data": {
      "text/html": [
       "<pre>| 4063         | 2e+07   | 84.0853     | 1m 12s       |</pre>"
      ],
      "text/plain": [
       "| 4063         | 2e+07   | 84.0853     | 1m 12s       |"
      ]
     },
     "metadata": {},
     "output_type": "display_data"
    },
    {
     "data": {
      "text/html": [
       "<pre>| 4135         | 2e+07   | 85.5753     | 1m 13s       |</pre>"
      ],
      "text/plain": [
       "| 4135         | 2e+07   | 85.5753     | 1m 13s       |"
      ]
     },
     "metadata": {},
     "output_type": "display_data"
    },
    {
     "data": {
      "text/html": [
       "<pre>| 4206         | 2e+07   | 87.0447     | 1m 14s       |</pre>"
      ],
      "text/plain": [
       "| 4206         | 2e+07   | 87.0447     | 1m 14s       |"
      ]
     },
     "metadata": {},
     "output_type": "display_data"
    },
    {
     "data": {
      "text/html": [
       "<pre>| 4271         | 2.1e+07 | 88.3899     | 1m 15s       |</pre>"
      ],
      "text/plain": [
       "| 4271         | 2.1e+07 | 88.3899     | 1m 15s       |"
      ]
     },
     "metadata": {},
     "output_type": "display_data"
    },
    {
     "data": {
      "text/html": [
       "<pre>| 4333         | 2.1e+07 | 89.673      | 1m 16s       |</pre>"
      ],
      "text/plain": [
       "| 4333         | 2.1e+07 | 89.673      | 1m 16s       |"
      ]
     },
     "metadata": {},
     "output_type": "display_data"
    },
    {
     "data": {
      "text/html": [
       "<pre>| 4389         | 2.1e+07 | 90.832      | 1m 17s       |</pre>"
      ],
      "text/plain": [
       "| 4389         | 2.1e+07 | 90.832      | 1m 17s       |"
      ]
     },
     "metadata": {},
     "output_type": "display_data"
    },
    {
     "data": {
      "text/html": [
       "<pre>| 4429         | 2.1e+07 | 91.6598     | 1m 18s       |</pre>"
      ],
      "text/plain": [
       "| 4429         | 2.1e+07 | 91.6598     | 1m 18s       |"
      ]
     },
     "metadata": {},
     "output_type": "display_data"
    },
    {
     "data": {
      "text/html": [
       "<pre>| 4487         | 2.2e+07 | 92.8601     | 1m 19s       |</pre>"
      ],
      "text/plain": [
       "| 4487         | 2.2e+07 | 92.8601     | 1m 19s       |"
      ]
     },
     "metadata": {},
     "output_type": "display_data"
    },
    {
     "data": {
      "text/html": [
       "<pre>| 4542         | 2.2e+07 | 93.9983     | 1m 20s       |</pre>"
      ],
      "text/plain": [
       "| 4542         | 2.2e+07 | 93.9983     | 1m 20s       |"
      ]
     },
     "metadata": {},
     "output_type": "display_data"
    },
    {
     "data": {
      "text/html": [
       "<pre>| 4601         | 2.2e+07 | 95.2194     | 1m 21s       |</pre>"
      ],
      "text/plain": [
       "| 4601         | 2.2e+07 | 95.2194     | 1m 21s       |"
      ]
     },
     "metadata": {},
     "output_type": "display_data"
    },
    {
     "data": {
      "text/html": [
       "<pre>| 4663         | 2.3e+07 | 96.5025     | 1m 22s       |</pre>"
      ],
      "text/plain": [
       "| 4663         | 2.3e+07 | 96.5025     | 1m 22s       |"
      ]
     },
     "metadata": {},
     "output_type": "display_data"
    },
    {
     "data": {
      "text/html": [
       "<pre>| 4716         | 2.3e+07 | 97.5993     | 1m 23s       |</pre>"
      ],
      "text/plain": [
       "| 4716         | 2.3e+07 | 97.5993     | 1m 23s       |"
      ]
     },
     "metadata": {},
     "output_type": "display_data"
    },
    {
     "data": {
      "text/html": [
       "<pre>| 4771         | 2.3e+07 | 98.7376     | 1m 24s       |</pre>"
      ],
      "text/plain": [
       "| 4771         | 2.3e+07 | 98.7376     | 1m 24s       |"
      ]
     },
     "metadata": {},
     "output_type": "display_data"
    },
    {
     "data": {
      "text/html": [
       "<pre>| 4831         | 2.3e+07 | 99.9793     | 1m 25s       |</pre>"
      ],
      "text/plain": [
       "| 4831         | 2.3e+07 | 99.9793     | 1m 25s       |"
      ]
     },
     "metadata": {},
     "output_type": "display_data"
    },
    {
     "data": {
      "text/html": [
       "<pre>| Done         |         | 100         | 1m 25s       |</pre>"
      ],
      "text/plain": [
       "| Done         |         | 100         | 1m 25s       |"
      ]
     },
     "metadata": {},
     "output_type": "display_data"
    },
    {
     "data": {
      "text/html": [
       "<pre>+--------------+---------+-------------+--------------+</pre>"
      ],
      "text/plain": [
       "+--------------+---------+-------------+--------------+"
      ]
     },
     "metadata": {},
     "output_type": "display_data"
    },
    {
     "data": {
      "text/html": [
       "<pre>Preparing data set.</pre>"
      ],
      "text/plain": [
       "Preparing data set."
      ]
     },
     "metadata": {},
     "output_type": "display_data"
    },
    {
     "data": {
      "text/html": [
       "<pre>    Data has 0 observations with 0 users and 4832 items.</pre>"
      ],
      "text/plain": [
       "    Data has 0 observations with 0 users and 4832 items."
      ]
     },
     "metadata": {},
     "output_type": "display_data"
    },
    {
     "data": {
      "text/html": [
       "<pre>    Data prepared in: 0.763917s</pre>"
      ],
      "text/plain": [
       "    Data prepared in: 0.763917s"
      ]
     },
     "metadata": {},
     "output_type": "display_data"
    },
    {
     "data": {
      "text/html": [
       "<pre>Loading user-provided nearest items.</pre>"
      ],
      "text/plain": [
       "Loading user-provided nearest items."
      ]
     },
     "metadata": {},
     "output_type": "display_data"
    },
    {
     "data": {
      "text/html": [
       "<pre>Generating candidate set for working with new users.</pre>"
      ],
      "text/plain": [
       "Generating candidate set for working with new users."
      ]
     },
     "metadata": {},
     "output_type": "display_data"
    },
    {
     "data": {
      "text/html": [
       "<pre>Finished training in 0.039033s</pre>"
      ],
      "text/plain": [
       "Finished training in 0.039033s"
      ]
     },
     "metadata": {},
     "output_type": "display_data"
    }
   ],
   "source": [
    "# build content based recommender\n",
    "\n",
    "content_rec = graphlab.recommender.item_content_recommender.create(item_data, \"business_id\")"
   ]
  },
  {
   "cell_type": "code",
   "execution_count": 38,
   "metadata": {},
   "outputs": [
    {
     "data": {
      "text/html": [
       "<div style=\"max-height:1000px;max-width:1500px;overflow:auto;\"><table frame=\"box\" rules=\"cols\">\n",
       "    <tr>\n",
       "        <th style=\"padding-left: 1em; padding-right: 1em; text-align: center\">business_id</th>\n",
       "        <th style=\"padding-left: 1em; padding-right: 1em; text-align: center\">score</th>\n",
       "        <th style=\"padding-left: 1em; padding-right: 1em; text-align: center\">rank</th>\n",
       "    </tr>\n",
       "    <tr>\n",
       "        <td style=\"padding-left: 1em; padding-right: 1em; text-align: center; vertical-align: top\">TT658qQinO6MBHP9q7rJ8w</td>\n",
       "        <td style=\"padding-left: 1em; padding-right: 1em; text-align: center; vertical-align: top\">0.939524710178</td>\n",
       "        <td style=\"padding-left: 1em; padding-right: 1em; text-align: center; vertical-align: top\">1</td>\n",
       "    </tr>\n",
       "    <tr>\n",
       "        <td style=\"padding-left: 1em; padding-right: 1em; text-align: center; vertical-align: top\">uWECX6-Uq9n8v5ipk9R29A</td>\n",
       "        <td style=\"padding-left: 1em; padding-right: 1em; text-align: center; vertical-align: top\">0.937774240971</td>\n",
       "        <td style=\"padding-left: 1em; padding-right: 1em; text-align: center; vertical-align: top\">2</td>\n",
       "    </tr>\n",
       "    <tr>\n",
       "        <td style=\"padding-left: 1em; padding-right: 1em; text-align: center; vertical-align: top\">AT1bODcrWTKTRNZKRxO-cA</td>\n",
       "        <td style=\"padding-left: 1em; padding-right: 1em; text-align: center; vertical-align: top\">0.894924402237</td>\n",
       "        <td style=\"padding-left: 1em; padding-right: 1em; text-align: center; vertical-align: top\">3</td>\n",
       "    </tr>\n",
       "    <tr>\n",
       "        <td style=\"padding-left: 1em; padding-right: 1em; text-align: center; vertical-align: top\">zcScEL0WEdFkROcnz5379g</td>\n",
       "        <td style=\"padding-left: 1em; padding-right: 1em; text-align: center; vertical-align: top\">0.893789052963</td>\n",
       "        <td style=\"padding-left: 1em; padding-right: 1em; text-align: center; vertical-align: top\">4</td>\n",
       "    </tr>\n",
       "    <tr>\n",
       "        <td style=\"padding-left: 1em; padding-right: 1em; text-align: center; vertical-align: top\">p3YqOYELqXtLyHz9T49p_w</td>\n",
       "        <td style=\"padding-left: 1em; padding-right: 1em; text-align: center; vertical-align: top\">0.891371250153</td>\n",
       "        <td style=\"padding-left: 1em; padding-right: 1em; text-align: center; vertical-align: top\">5</td>\n",
       "    </tr>\n",
       "    <tr>\n",
       "        <td style=\"padding-left: 1em; padding-right: 1em; text-align: center; vertical-align: top\">5TY6bUT3bbl9aHItiIXXqw</td>\n",
       "        <td style=\"padding-left: 1em; padding-right: 1em; text-align: center; vertical-align: top\">0.888443648815</td>\n",
       "        <td style=\"padding-left: 1em; padding-right: 1em; text-align: center; vertical-align: top\">6</td>\n",
       "    </tr>\n",
       "    <tr>\n",
       "        <td style=\"padding-left: 1em; padding-right: 1em; text-align: center; vertical-align: top\">L2W0QLXIIR5MEmhQwZk-iA</td>\n",
       "        <td style=\"padding-left: 1em; padding-right: 1em; text-align: center; vertical-align: top\">0.887454330921</td>\n",
       "        <td style=\"padding-left: 1em; padding-right: 1em; text-align: center; vertical-align: top\">7</td>\n",
       "    </tr>\n",
       "    <tr>\n",
       "        <td style=\"padding-left: 1em; padding-right: 1em; text-align: center; vertical-align: top\">UNI1agsPX2k3eJSJVB91nw</td>\n",
       "        <td style=\"padding-left: 1em; padding-right: 1em; text-align: center; vertical-align: top\">0.859774649143</td>\n",
       "        <td style=\"padding-left: 1em; padding-right: 1em; text-align: center; vertical-align: top\">8</td>\n",
       "    </tr>\n",
       "    <tr>\n",
       "        <td style=\"padding-left: 1em; padding-right: 1em; text-align: center; vertical-align: top\">VPO8pBUwYz1u6GoG0d2U-Q</td>\n",
       "        <td style=\"padding-left: 1em; padding-right: 1em; text-align: center; vertical-align: top\">0.859451830387</td>\n",
       "        <td style=\"padding-left: 1em; padding-right: 1em; text-align: center; vertical-align: top\">9</td>\n",
       "    </tr>\n",
       "    <tr>\n",
       "        <td style=\"padding-left: 1em; padding-right: 1em; text-align: center; vertical-align: top\">KXITXbKuE60WSUDs7NZVLQ</td>\n",
       "        <td style=\"padding-left: 1em; padding-right: 1em; text-align: center; vertical-align: top\">0.836147964001</td>\n",
       "        <td style=\"padding-left: 1em; padding-right: 1em; text-align: center; vertical-align: top\">10</td>\n",
       "    </tr>\n",
       "</table>\n",
       "[10 rows x 3 columns]<br/>\n",
       "</div>"
      ],
      "text/plain": [
       "Columns:\n",
       "\tbusiness_id\tstr\n",
       "\tscore\tfloat\n",
       "\trank\tint\n",
       "\n",
       "Rows: 10\n",
       "\n",
       "Data:\n",
       "+------------------------+----------------+------+\n",
       "|      business_id       |     score      | rank |\n",
       "+------------------------+----------------+------+\n",
       "| TT658qQinO6MBHP9q7rJ8w | 0.939524710178 |  1   |\n",
       "| uWECX6-Uq9n8v5ipk9R29A | 0.937774240971 |  2   |\n",
       "| AT1bODcrWTKTRNZKRxO-cA | 0.894924402237 |  3   |\n",
       "| zcScEL0WEdFkROcnz5379g | 0.893789052963 |  4   |\n",
       "| p3YqOYELqXtLyHz9T49p_w | 0.891371250153 |  5   |\n",
       "| 5TY6bUT3bbl9aHItiIXXqw | 0.888443648815 |  6   |\n",
       "| L2W0QLXIIR5MEmhQwZk-iA | 0.887454330921 |  7   |\n",
       "| UNI1agsPX2k3eJSJVB91nw | 0.859774649143 |  8   |\n",
       "| VPO8pBUwYz1u6GoG0d2U-Q | 0.859451830387 |  9   |\n",
       "| KXITXbKuE60WSUDs7NZVLQ | 0.836147964001 |  10  |\n",
       "+------------------------+----------------+------+\n",
       "[10 rows x 3 columns]"
      ]
     },
     "execution_count": 38,
     "metadata": {},
     "output_type": "execute_result"
    }
   ],
   "source": [
    "# make recommendation for a single item\n",
    "# essentially make recommendation based on businiess_id(155 features) similarities\n",
    "sample_item = [df_stars.iloc[0].business_id] \n",
    "content_rec.recommend_from_interactions(sample_item) "
   ]
  },
  {
   "cell_type": "code",
   "execution_count": 39,
   "metadata": {},
   "outputs": [
    {
     "data": {
      "text/html": [
       "<div>\n",
       "<table border=\"1\" class=\"dataframe\">\n",
       "  <thead>\n",
       "    <tr style=\"text-align: right;\">\n",
       "      <th></th>\n",
       "      <th>business_id</th>\n",
       "      <th>similar</th>\n",
       "      <th>score</th>\n",
       "      <th>rank</th>\n",
       "    </tr>\n",
       "  </thead>\n",
       "  <tbody>\n",
       "    <tr>\n",
       "      <th>0</th>\n",
       "      <td>--9e1ONYQuAa-CB_Rrw7Tw</td>\n",
       "      <td>TT658qQinO6MBHP9q7rJ8w</td>\n",
       "      <td>0.939525</td>\n",
       "      <td>1</td>\n",
       "    </tr>\n",
       "    <tr>\n",
       "      <th>1</th>\n",
       "      <td>--9e1ONYQuAa-CB_Rrw7Tw</td>\n",
       "      <td>uWECX6-Uq9n8v5ipk9R29A</td>\n",
       "      <td>0.937774</td>\n",
       "      <td>2</td>\n",
       "    </tr>\n",
       "    <tr>\n",
       "      <th>2</th>\n",
       "      <td>--9e1ONYQuAa-CB_Rrw7Tw</td>\n",
       "      <td>AT1bODcrWTKTRNZKRxO-cA</td>\n",
       "      <td>0.894924</td>\n",
       "      <td>3</td>\n",
       "    </tr>\n",
       "    <tr>\n",
       "      <th>3</th>\n",
       "      <td>--9e1ONYQuAa-CB_Rrw7Tw</td>\n",
       "      <td>zcScEL0WEdFkROcnz5379g</td>\n",
       "      <td>0.893789</td>\n",
       "      <td>4</td>\n",
       "    </tr>\n",
       "    <tr>\n",
       "      <th>4</th>\n",
       "      <td>--9e1ONYQuAa-CB_Rrw7Tw</td>\n",
       "      <td>p3YqOYELqXtLyHz9T49p_w</td>\n",
       "      <td>0.891371</td>\n",
       "      <td>5</td>\n",
       "    </tr>\n",
       "    <tr>\n",
       "      <th>5</th>\n",
       "      <td>--9e1ONYQuAa-CB_Rrw7Tw</td>\n",
       "      <td>5TY6bUT3bbl9aHItiIXXqw</td>\n",
       "      <td>0.888444</td>\n",
       "      <td>6</td>\n",
       "    </tr>\n",
       "    <tr>\n",
       "      <th>6</th>\n",
       "      <td>--9e1ONYQuAa-CB_Rrw7Tw</td>\n",
       "      <td>L2W0QLXIIR5MEmhQwZk-iA</td>\n",
       "      <td>0.887454</td>\n",
       "      <td>7</td>\n",
       "    </tr>\n",
       "    <tr>\n",
       "      <th>7</th>\n",
       "      <td>--9e1ONYQuAa-CB_Rrw7Tw</td>\n",
       "      <td>UNI1agsPX2k3eJSJVB91nw</td>\n",
       "      <td>0.859775</td>\n",
       "      <td>8</td>\n",
       "    </tr>\n",
       "    <tr>\n",
       "      <th>8</th>\n",
       "      <td>--9e1ONYQuAa-CB_Rrw7Tw</td>\n",
       "      <td>VPO8pBUwYz1u6GoG0d2U-Q</td>\n",
       "      <td>0.859452</td>\n",
       "      <td>9</td>\n",
       "    </tr>\n",
       "    <tr>\n",
       "      <th>9</th>\n",
       "      <td>--9e1ONYQuAa-CB_Rrw7Tw</td>\n",
       "      <td>KXITXbKuE60WSUDs7NZVLQ</td>\n",
       "      <td>0.836148</td>\n",
       "      <td>10</td>\n",
       "    </tr>\n",
       "    <tr>\n",
       "      <th>10</th>\n",
       "      <td>-1m9o3vGRA8IBPNvNqKLmA</td>\n",
       "      <td>FhIeCF6QrsLaRvAeu0oEPQ</td>\n",
       "      <td>0.688294</td>\n",
       "      <td>1</td>\n",
       "    </tr>\n",
       "    <tr>\n",
       "      <th>11</th>\n",
       "      <td>-1m9o3vGRA8IBPNvNqKLmA</td>\n",
       "      <td>6MpOzb5ImLdDXHsn4HwI-Q</td>\n",
       "      <td>0.680585</td>\n",
       "      <td>2</td>\n",
       "    </tr>\n",
       "    <tr>\n",
       "      <th>12</th>\n",
       "      <td>-1m9o3vGRA8IBPNvNqKLmA</td>\n",
       "      <td>bpRo8L8dkhgbJhdIKa9mwA</td>\n",
       "      <td>0.678564</td>\n",
       "      <td>3</td>\n",
       "    </tr>\n",
       "    <tr>\n",
       "      <th>13</th>\n",
       "      <td>-1m9o3vGRA8IBPNvNqKLmA</td>\n",
       "      <td>Q5olb1x6FGk2oLAlc9p5Lg</td>\n",
       "      <td>0.663660</td>\n",
       "      <td>4</td>\n",
       "    </tr>\n",
       "    <tr>\n",
       "      <th>14</th>\n",
       "      <td>-1m9o3vGRA8IBPNvNqKLmA</td>\n",
       "      <td>HhVmDybpU7L50Kb5A0jXTg</td>\n",
       "      <td>0.661209</td>\n",
       "      <td>5</td>\n",
       "    </tr>\n",
       "    <tr>\n",
       "      <th>15</th>\n",
       "      <td>-1m9o3vGRA8IBPNvNqKLmA</td>\n",
       "      <td>dTsyfvRfN-zFdsgIDuQllQ</td>\n",
       "      <td>0.646282</td>\n",
       "      <td>6</td>\n",
       "    </tr>\n",
       "    <tr>\n",
       "      <th>16</th>\n",
       "      <td>-1m9o3vGRA8IBPNvNqKLmA</td>\n",
       "      <td>dubu2kN3Y9EB4uYGFWa0MQ</td>\n",
       "      <td>0.639656</td>\n",
       "      <td>7</td>\n",
       "    </tr>\n",
       "    <tr>\n",
       "      <th>17</th>\n",
       "      <td>-1m9o3vGRA8IBPNvNqKLmA</td>\n",
       "      <td>JRh14J_be0jl7Wbt412vDA</td>\n",
       "      <td>0.636291</td>\n",
       "      <td>8</td>\n",
       "    </tr>\n",
       "    <tr>\n",
       "      <th>18</th>\n",
       "      <td>-1m9o3vGRA8IBPNvNqKLmA</td>\n",
       "      <td>wkKlpSx3OcoGJiv7p8VZzw</td>\n",
       "      <td>0.631747</td>\n",
       "      <td>9</td>\n",
       "    </tr>\n",
       "    <tr>\n",
       "      <th>19</th>\n",
       "      <td>-1m9o3vGRA8IBPNvNqKLmA</td>\n",
       "      <td>PsdWWQE_9GrfmCNfz2yW4g</td>\n",
       "      <td>0.630566</td>\n",
       "      <td>10</td>\n",
       "    </tr>\n",
       "  </tbody>\n",
       "</table>\n",
       "</div>"
      ],
      "text/plain": [
       "               business_id                 similar     score  rank\n",
       "0   --9e1ONYQuAa-CB_Rrw7Tw  TT658qQinO6MBHP9q7rJ8w  0.939525     1\n",
       "1   --9e1ONYQuAa-CB_Rrw7Tw  uWECX6-Uq9n8v5ipk9R29A  0.937774     2\n",
       "2   --9e1ONYQuAa-CB_Rrw7Tw  AT1bODcrWTKTRNZKRxO-cA  0.894924     3\n",
       "3   --9e1ONYQuAa-CB_Rrw7Tw  zcScEL0WEdFkROcnz5379g  0.893789     4\n",
       "4   --9e1ONYQuAa-CB_Rrw7Tw  p3YqOYELqXtLyHz9T49p_w  0.891371     5\n",
       "5   --9e1ONYQuAa-CB_Rrw7Tw  5TY6bUT3bbl9aHItiIXXqw  0.888444     6\n",
       "6   --9e1ONYQuAa-CB_Rrw7Tw  L2W0QLXIIR5MEmhQwZk-iA  0.887454     7\n",
       "7   --9e1ONYQuAa-CB_Rrw7Tw  UNI1agsPX2k3eJSJVB91nw  0.859775     8\n",
       "8   --9e1ONYQuAa-CB_Rrw7Tw  VPO8pBUwYz1u6GoG0d2U-Q  0.859452     9\n",
       "9   --9e1ONYQuAa-CB_Rrw7Tw  KXITXbKuE60WSUDs7NZVLQ  0.836148    10\n",
       "10  -1m9o3vGRA8IBPNvNqKLmA  FhIeCF6QrsLaRvAeu0oEPQ  0.688294     1\n",
       "11  -1m9o3vGRA8IBPNvNqKLmA  6MpOzb5ImLdDXHsn4HwI-Q  0.680585     2\n",
       "12  -1m9o3vGRA8IBPNvNqKLmA  bpRo8L8dkhgbJhdIKa9mwA  0.678564     3\n",
       "13  -1m9o3vGRA8IBPNvNqKLmA  Q5olb1x6FGk2oLAlc9p5Lg  0.663660     4\n",
       "14  -1m9o3vGRA8IBPNvNqKLmA  HhVmDybpU7L50Kb5A0jXTg  0.661209     5\n",
       "15  -1m9o3vGRA8IBPNvNqKLmA  dTsyfvRfN-zFdsgIDuQllQ  0.646282     6\n",
       "16  -1m9o3vGRA8IBPNvNqKLmA  dubu2kN3Y9EB4uYGFWa0MQ  0.639656     7\n",
       "17  -1m9o3vGRA8IBPNvNqKLmA  JRh14J_be0jl7Wbt412vDA  0.636291     8\n",
       "18  -1m9o3vGRA8IBPNvNqKLmA  wkKlpSx3OcoGJiv7p8VZzw  0.631747     9\n",
       "19  -1m9o3vGRA8IBPNvNqKLmA  PsdWWQE_9GrfmCNfz2yW4g  0.630566    10"
      ]
     },
     "execution_count": 39,
     "metadata": {},
     "output_type": "execute_result"
    }
   ],
   "source": [
    "# similar items per item\n",
    "\n",
    "similar_items_df = content_rec.get_similar_items().to_dataframe()\n",
    "similar_items_df.head(20) # each business_id with 10 most similar ones"
   ]
  },
  {
   "cell_type": "code",
   "execution_count": 40,
   "metadata": {},
   "outputs": [
    {
     "name": "stderr",
     "output_type": "stream",
     "text": [
      "/Users/luoyiting/anaconda/envs/gl-env/lib/python2.7/site-packages/ipykernel/__main__.py:9: FutureWarning: sort(columns=....) is deprecated, use sort_values(by=.....)\n"
     ]
    },
    {
     "data": {
      "text/plain": [
       "31140    GkRF8rSvh9cOQuuPeDh9bg\n",
       "24650    kiweDovyXezj-ZMpB1tlXg\n",
       "31141    Bm8nRUsZ-dK6g2eJLxMTOw\n",
       "38170    wAQr_GVUNFSvqFfr3cC9kA\n",
       "42780    KQoeETpQ1nBEQ6fVOtFgWQ\n",
       "25810    80Lkm305ZOkQdMEIvOy_lw\n",
       "31142    TCWMgOiV0PxQkWE1SyBIWQ\n",
       "14010    GU0zNpgisY-pV3U2Sfdp6A\n",
       "31143    MXC9pwIxovWUc9yu1F8OxA\n",
       "31144    KVsv8wRGnLX8QWoNZKNMQA\n",
       "Name: similar, dtype: object"
      ]
     },
     "execution_count": 40,
     "metadata": {},
     "output_type": "execute_result"
    }
   ],
   "source": [
    "# make recommendation for a sample user\n",
    "df_favored = df_stars[df_stars.stars > 4] # select favored restuarants\n",
    "bid_favored = df_favored[df_favored.user_id == df_favored.user_id.iloc[0]] # retain only one user's ratings\n",
    "\n",
    "# first select favored restaurants' similar items\n",
    "# each store rated by this user has 10 most similar stores\n",
    "# hence there will be 50 candidates \n",
    "# second sort those restaurants, then got top 10\n",
    "similar_items_df[similar_items_df['business_id'].isin(bid_favored.business_id)].sort('score',ascending=False).similar[:10]"
   ]
  },
  {
   "cell_type": "markdown",
   "metadata": {},
   "source": [
    "## 5. Popularity based recommender\n"
   ]
  },
  {
   "cell_type": "code",
   "execution_count": 41,
   "metadata": {},
   "outputs": [
    {
     "data": {
      "text/html": [
       "<div style=\"max-height:1000px;max-width:1500px;overflow:auto;\"><table frame=\"box\" rules=\"cols\">\n",
       "    <tr>\n",
       "        <th style=\"padding-left: 1em; padding-right: 1em; text-align: center\">business_id</th>\n",
       "        <th style=\"padding-left: 1em; padding-right: 1em; text-align: center\">user_id</th>\n",
       "        <th style=\"padding-left: 1em; padding-right: 1em; text-align: center\">stars</th>\n",
       "    </tr>\n",
       "    <tr>\n",
       "        <td style=\"padding-left: 1em; padding-right: 1em; text-align: center; vertical-align: top\">--9e1ONYQuAa-CB_Rrw7Tw</td>\n",
       "        <td style=\"padding-left: 1em; padding-right: 1em; text-align: center; vertical-align: top\">oFyOUOeGTRZhFPF9uTqrTQ</td>\n",
       "        <td style=\"padding-left: 1em; padding-right: 1em; text-align: center; vertical-align: top\">5</td>\n",
       "    </tr>\n",
       "    <tr>\n",
       "        <td style=\"padding-left: 1em; padding-right: 1em; text-align: center; vertical-align: top\">--9e1ONYQuAa-CB_Rrw7Tw</td>\n",
       "        <td style=\"padding-left: 1em; padding-right: 1em; text-align: center; vertical-align: top\">2aeNFntqY2QDZLADNo8iQQ</td>\n",
       "        <td style=\"padding-left: 1em; padding-right: 1em; text-align: center; vertical-align: top\">4</td>\n",
       "    </tr>\n",
       "    <tr>\n",
       "        <td style=\"padding-left: 1em; padding-right: 1em; text-align: center; vertical-align: top\">--9e1ONYQuAa-CB_Rrw7Tw</td>\n",
       "        <td style=\"padding-left: 1em; padding-right: 1em; text-align: center; vertical-align: top\">gmPP4YFrgYsYQqPYokMgFA</td>\n",
       "        <td style=\"padding-left: 1em; padding-right: 1em; text-align: center; vertical-align: top\">5</td>\n",
       "    </tr>\n",
       "    <tr>\n",
       "        <td style=\"padding-left: 1em; padding-right: 1em; text-align: center; vertical-align: top\">--9e1ONYQuAa-CB_Rrw7Tw</td>\n",
       "        <td style=\"padding-left: 1em; padding-right: 1em; text-align: center; vertical-align: top\">aVOGlN9fZ-BXcbtj6dbf0g</td>\n",
       "        <td style=\"padding-left: 1em; padding-right: 1em; text-align: center; vertical-align: top\">5</td>\n",
       "    </tr>\n",
       "    <tr>\n",
       "        <td style=\"padding-left: 1em; padding-right: 1em; text-align: center; vertical-align: top\">--9e1ONYQuAa-CB_Rrw7Tw</td>\n",
       "        <td style=\"padding-left: 1em; padding-right: 1em; text-align: center; vertical-align: top\">KC8H7qTZVPIEnanw9fG43g</td>\n",
       "        <td style=\"padding-left: 1em; padding-right: 1em; text-align: center; vertical-align: top\">5</td>\n",
       "    </tr>\n",
       "    <tr>\n",
       "        <td style=\"padding-left: 1em; padding-right: 1em; text-align: center; vertical-align: top\">--9e1ONYQuAa-CB_Rrw7Tw</td>\n",
       "        <td style=\"padding-left: 1em; padding-right: 1em; text-align: center; vertical-align: top\">3RTesI_MAwct13LWm4rhLw</td>\n",
       "        <td style=\"padding-left: 1em; padding-right: 1em; text-align: center; vertical-align: top\">4</td>\n",
       "    </tr>\n",
       "    <tr>\n",
       "        <td style=\"padding-left: 1em; padding-right: 1em; text-align: center; vertical-align: top\">--9e1ONYQuAa-CB_Rrw7Tw</td>\n",
       "        <td style=\"padding-left: 1em; padding-right: 1em; text-align: center; vertical-align: top\">EAOt1UQhJD0GG3l_jv7rWA</td>\n",
       "        <td style=\"padding-left: 1em; padding-right: 1em; text-align: center; vertical-align: top\">5</td>\n",
       "    </tr>\n",
       "    <tr>\n",
       "        <td style=\"padding-left: 1em; padding-right: 1em; text-align: center; vertical-align: top\">--9e1ONYQuAa-CB_Rrw7Tw</td>\n",
       "        <td style=\"padding-left: 1em; padding-right: 1em; text-align: center; vertical-align: top\">C6kw0Rny7jZAGjTj0MWA3Q</td>\n",
       "        <td style=\"padding-left: 1em; padding-right: 1em; text-align: center; vertical-align: top\">5</td>\n",
       "    </tr>\n",
       "    <tr>\n",
       "        <td style=\"padding-left: 1em; padding-right: 1em; text-align: center; vertical-align: top\">--9e1ONYQuAa-CB_Rrw7Tw</td>\n",
       "        <td style=\"padding-left: 1em; padding-right: 1em; text-align: center; vertical-align: top\">tTifjrXlRrUme-4c0UW9Bw</td>\n",
       "        <td style=\"padding-left: 1em; padding-right: 1em; text-align: center; vertical-align: top\">5</td>\n",
       "    </tr>\n",
       "    <tr>\n",
       "        <td style=\"padding-left: 1em; padding-right: 1em; text-align: center; vertical-align: top\">--9e1ONYQuAa-CB_Rrw7Tw</td>\n",
       "        <td style=\"padding-left: 1em; padding-right: 1em; text-align: center; vertical-align: top\">OtKA03ALQQ1CBhtaJod_Jw</td>\n",
       "        <td style=\"padding-left: 1em; padding-right: 1em; text-align: center; vertical-align: top\">2</td>\n",
       "    </tr>\n",
       "</table>\n",
       "[515752 rows x 3 columns]<br/>Note: Only the head of the SFrame is printed.<br/>You can use print_rows(num_rows=m, num_columns=n) to print more rows and columns.\n",
       "</div>"
      ],
      "text/plain": [
       "Columns:\n",
       "\tbusiness_id\tstr\n",
       "\tuser_id\tstr\n",
       "\tstars\tint\n",
       "\n",
       "Rows: 515752\n",
       "\n",
       "Data:\n",
       "+------------------------+------------------------+-------+\n",
       "|      business_id       |        user_id         | stars |\n",
       "+------------------------+------------------------+-------+\n",
       "| --9e1ONYQuAa-CB_Rrw7Tw | oFyOUOeGTRZhFPF9uTqrTQ |   5   |\n",
       "| --9e1ONYQuAa-CB_Rrw7Tw | 2aeNFntqY2QDZLADNo8iQQ |   4   |\n",
       "| --9e1ONYQuAa-CB_Rrw7Tw | gmPP4YFrgYsYQqPYokMgFA |   5   |\n",
       "| --9e1ONYQuAa-CB_Rrw7Tw | aVOGlN9fZ-BXcbtj6dbf0g |   5   |\n",
       "| --9e1ONYQuAa-CB_Rrw7Tw | KC8H7qTZVPIEnanw9fG43g |   5   |\n",
       "| --9e1ONYQuAa-CB_Rrw7Tw | 3RTesI_MAwct13LWm4rhLw |   4   |\n",
       "| --9e1ONYQuAa-CB_Rrw7Tw | EAOt1UQhJD0GG3l_jv7rWA |   5   |\n",
       "| --9e1ONYQuAa-CB_Rrw7Tw | C6kw0Rny7jZAGjTj0MWA3Q |   5   |\n",
       "| --9e1ONYQuAa-CB_Rrw7Tw | tTifjrXlRrUme-4c0UW9Bw |   5   |\n",
       "| --9e1ONYQuAa-CB_Rrw7Tw | OtKA03ALQQ1CBhtaJod_Jw |   2   |\n",
       "+------------------------+------------------------+-------+\n",
       "[515752 rows x 3 columns]\n",
       "Note: Only the head of the SFrame is printed.\n",
       "You can use print_rows(num_rows=m, num_columns=n) to print more rows and columns."
      ]
     },
     "execution_count": 41,
     "metadata": {},
     "output_type": "execute_result"
    }
   ],
   "source": [
    "# data\n",
    "sf_stars"
   ]
  },
  {
   "cell_type": "code",
   "execution_count": 42,
   "metadata": {},
   "outputs": [
    {
     "data": {
      "text/html": [
       "<pre>Recsys training: model = popularity</pre>"
      ],
      "text/plain": [
       "Recsys training: model = popularity"
      ]
     },
     "metadata": {},
     "output_type": "display_data"
    },
    {
     "data": {
      "text/html": [
       "<pre>Preparing data set.</pre>"
      ],
      "text/plain": [
       "Preparing data set."
      ]
     },
     "metadata": {},
     "output_type": "display_data"
    },
    {
     "data": {
      "text/html": [
       "<pre>    Data has 515752 observations with 227241 users and 4832 items.</pre>"
      ],
      "text/plain": [
       "    Data has 515752 observations with 227241 users and 4832 items."
      ]
     },
     "metadata": {},
     "output_type": "display_data"
    },
    {
     "data": {
      "text/html": [
       "<pre>    Data prepared in: 1.02208s</pre>"
      ],
      "text/plain": [
       "    Data prepared in: 1.02208s"
      ]
     },
     "metadata": {},
     "output_type": "display_data"
    },
    {
     "data": {
      "text/html": [
       "<pre>515752 observations to process; with 4832 unique items.</pre>"
      ],
      "text/plain": [
       "515752 observations to process; with 4832 unique items."
      ]
     },
     "metadata": {},
     "output_type": "display_data"
    }
   ],
   "source": [
    "# build recommendation system\n",
    "pop_rec = graphlab.popularity_recommender.create(sf_stars, \n",
    "                                                 user_id = 'user_id', \n",
    "                                                 item_id = 'business_id',\n",
    "                                                 target = 'stars')"
   ]
  },
  {
   "cell_type": "code",
   "execution_count": 43,
   "metadata": {},
   "outputs": [
    {
     "data": {
      "text/html": [
       "<pre>recommendations finished on 1000/227241 queries. users per second: 35095.1</pre>"
      ],
      "text/plain": [
       "recommendations finished on 1000/227241 queries. users per second: 35095.1"
      ]
     },
     "metadata": {},
     "output_type": "display_data"
    },
    {
     "data": {
      "text/html": [
       "<pre>recommendations finished on 2000/227241 queries. users per second: 36412.6</pre>"
      ],
      "text/plain": [
       "recommendations finished on 2000/227241 queries. users per second: 36412.6"
      ]
     },
     "metadata": {},
     "output_type": "display_data"
    },
    {
     "data": {
      "text/html": [
       "<pre>recommendations finished on 3000/227241 queries. users per second: 34396.6</pre>"
      ],
      "text/plain": [
       "recommendations finished on 3000/227241 queries. users per second: 34396.6"
      ]
     },
     "metadata": {},
     "output_type": "display_data"
    },
    {
     "data": {
      "text/html": [
       "<pre>recommendations finished on 4000/227241 queries. users per second: 32934</pre>"
      ],
      "text/plain": [
       "recommendations finished on 4000/227241 queries. users per second: 32934"
      ]
     },
     "metadata": {},
     "output_type": "display_data"
    },
    {
     "data": {
      "text/html": [
       "<pre>recommendations finished on 5000/227241 queries. users per second: 33285.2</pre>"
      ],
      "text/plain": [
       "recommendations finished on 5000/227241 queries. users per second: 33285.2"
      ]
     },
     "metadata": {},
     "output_type": "display_data"
    },
    {
     "data": {
      "text/html": [
       "<pre>recommendations finished on 6000/227241 queries. users per second: 34294.7</pre>"
      ],
      "text/plain": [
       "recommendations finished on 6000/227241 queries. users per second: 34294.7"
      ]
     },
     "metadata": {},
     "output_type": "display_data"
    },
    {
     "data": {
      "text/html": [
       "<pre>recommendations finished on 7000/227241 queries. users per second: 34530</pre>"
      ],
      "text/plain": [
       "recommendations finished on 7000/227241 queries. users per second: 34530"
      ]
     },
     "metadata": {},
     "output_type": "display_data"
    },
    {
     "data": {
      "text/html": [
       "<pre>recommendations finished on 8000/227241 queries. users per second: 34314.4</pre>"
      ],
      "text/plain": [
       "recommendations finished on 8000/227241 queries. users per second: 34314.4"
      ]
     },
     "metadata": {},
     "output_type": "display_data"
    },
    {
     "data": {
      "text/html": [
       "<pre>recommendations finished on 9000/227241 queries. users per second: 34810.3</pre>"
      ],
      "text/plain": [
       "recommendations finished on 9000/227241 queries. users per second: 34810.3"
      ]
     },
     "metadata": {},
     "output_type": "display_data"
    },
    {
     "data": {
      "text/html": [
       "<pre>recommendations finished on 10000/227241 queries. users per second: 34992</pre>"
      ],
      "text/plain": [
       "recommendations finished on 10000/227241 queries. users per second: 34992"
      ]
     },
     "metadata": {},
     "output_type": "display_data"
    },
    {
     "data": {
      "text/html": [
       "<pre>recommendations finished on 11000/227241 queries. users per second: 35182.7</pre>"
      ],
      "text/plain": [
       "recommendations finished on 11000/227241 queries. users per second: 35182.7"
      ]
     },
     "metadata": {},
     "output_type": "display_data"
    },
    {
     "data": {
      "text/html": [
       "<pre>recommendations finished on 12000/227241 queries. users per second: 34813</pre>"
      ],
      "text/plain": [
       "recommendations finished on 12000/227241 queries. users per second: 34813"
      ]
     },
     "metadata": {},
     "output_type": "display_data"
    },
    {
     "data": {
      "text/html": [
       "<pre>recommendations finished on 13000/227241 queries. users per second: 34710</pre>"
      ],
      "text/plain": [
       "recommendations finished on 13000/227241 queries. users per second: 34710"
      ]
     },
     "metadata": {},
     "output_type": "display_data"
    },
    {
     "data": {
      "text/html": [
       "<pre>recommendations finished on 14000/227241 queries. users per second: 34770.5</pre>"
      ],
      "text/plain": [
       "recommendations finished on 14000/227241 queries. users per second: 34770.5"
      ]
     },
     "metadata": {},
     "output_type": "display_data"
    },
    {
     "data": {
      "text/html": [
       "<pre>recommendations finished on 15000/227241 queries. users per second: 34778.4</pre>"
      ],
      "text/plain": [
       "recommendations finished on 15000/227241 queries. users per second: 34778.4"
      ]
     },
     "metadata": {},
     "output_type": "display_data"
    },
    {
     "data": {
      "text/html": [
       "<pre>recommendations finished on 16000/227241 queries. users per second: 34750.3</pre>"
      ],
      "text/plain": [
       "recommendations finished on 16000/227241 queries. users per second: 34750.3"
      ]
     },
     "metadata": {},
     "output_type": "display_data"
    },
    {
     "data": {
      "text/html": [
       "<pre>recommendations finished on 17000/227241 queries. users per second: 34947.1</pre>"
      ],
      "text/plain": [
       "recommendations finished on 17000/227241 queries. users per second: 34947.1"
      ]
     },
     "metadata": {},
     "output_type": "display_data"
    },
    {
     "data": {
      "text/html": [
       "<pre>recommendations finished on 18000/227241 queries. users per second: 34511.7</pre>"
      ],
      "text/plain": [
       "recommendations finished on 18000/227241 queries. users per second: 34511.7"
      ]
     },
     "metadata": {},
     "output_type": "display_data"
    },
    {
     "data": {
      "text/html": [
       "<pre>recommendations finished on 19000/227241 queries. users per second: 34052.4</pre>"
      ],
      "text/plain": [
       "recommendations finished on 19000/227241 queries. users per second: 34052.4"
      ]
     },
     "metadata": {},
     "output_type": "display_data"
    },
    {
     "data": {
      "text/html": [
       "<pre>recommendations finished on 20000/227241 queries. users per second: 33684.1</pre>"
      ],
      "text/plain": [
       "recommendations finished on 20000/227241 queries. users per second: 33684.1"
      ]
     },
     "metadata": {},
     "output_type": "display_data"
    },
    {
     "data": {
      "text/html": [
       "<pre>recommendations finished on 21000/227241 queries. users per second: 33748</pre>"
      ],
      "text/plain": [
       "recommendations finished on 21000/227241 queries. users per second: 33748"
      ]
     },
     "metadata": {},
     "output_type": "display_data"
    },
    {
     "data": {
      "text/html": [
       "<pre>recommendations finished on 22000/227241 queries. users per second: 33601.1</pre>"
      ],
      "text/plain": [
       "recommendations finished on 22000/227241 queries. users per second: 33601.1"
      ]
     },
     "metadata": {},
     "output_type": "display_data"
    },
    {
     "data": {
      "text/html": [
       "<pre>recommendations finished on 23000/227241 queries. users per second: 33780.2</pre>"
      ],
      "text/plain": [
       "recommendations finished on 23000/227241 queries. users per second: 33780.2"
      ]
     },
     "metadata": {},
     "output_type": "display_data"
    },
    {
     "data": {
      "text/html": [
       "<pre>recommendations finished on 24000/227241 queries. users per second: 34036</pre>"
      ],
      "text/plain": [
       "recommendations finished on 24000/227241 queries. users per second: 34036"
      ]
     },
     "metadata": {},
     "output_type": "display_data"
    },
    {
     "data": {
      "text/html": [
       "<pre>recommendations finished on 25000/227241 queries. users per second: 34125.1</pre>"
      ],
      "text/plain": [
       "recommendations finished on 25000/227241 queries. users per second: 34125.1"
      ]
     },
     "metadata": {},
     "output_type": "display_data"
    },
    {
     "data": {
      "text/html": [
       "<pre>recommendations finished on 26000/227241 queries. users per second: 34299.2</pre>"
      ],
      "text/plain": [
       "recommendations finished on 26000/227241 queries. users per second: 34299.2"
      ]
     },
     "metadata": {},
     "output_type": "display_data"
    },
    {
     "data": {
      "text/html": [
       "<pre>recommendations finished on 27000/227241 queries. users per second: 34162</pre>"
      ],
      "text/plain": [
       "recommendations finished on 27000/227241 queries. users per second: 34162"
      ]
     },
     "metadata": {},
     "output_type": "display_data"
    },
    {
     "data": {
      "text/html": [
       "<pre>recommendations finished on 28000/227241 queries. users per second: 34124.5</pre>"
      ],
      "text/plain": [
       "recommendations finished on 28000/227241 queries. users per second: 34124.5"
      ]
     },
     "metadata": {},
     "output_type": "display_data"
    },
    {
     "data": {
      "text/html": [
       "<pre>recommendations finished on 29000/227241 queries. users per second: 34140.1</pre>"
      ],
      "text/plain": [
       "recommendations finished on 29000/227241 queries. users per second: 34140.1"
      ]
     },
     "metadata": {},
     "output_type": "display_data"
    },
    {
     "data": {
      "text/html": [
       "<pre>recommendations finished on 30000/227241 queries. users per second: 34313.4</pre>"
      ],
      "text/plain": [
       "recommendations finished on 30000/227241 queries. users per second: 34313.4"
      ]
     },
     "metadata": {},
     "output_type": "display_data"
    },
    {
     "data": {
      "text/html": [
       "<pre>recommendations finished on 31000/227241 queries. users per second: 34270.5</pre>"
      ],
      "text/plain": [
       "recommendations finished on 31000/227241 queries. users per second: 34270.5"
      ]
     },
     "metadata": {},
     "output_type": "display_data"
    },
    {
     "data": {
      "text/html": [
       "<pre>recommendations finished on 32000/227241 queries. users per second: 34072.5</pre>"
      ],
      "text/plain": [
       "recommendations finished on 32000/227241 queries. users per second: 34072.5"
      ]
     },
     "metadata": {},
     "output_type": "display_data"
    },
    {
     "data": {
      "text/html": [
       "<pre>recommendations finished on 33000/227241 queries. users per second: 33635.4</pre>"
      ],
      "text/plain": [
       "recommendations finished on 33000/227241 queries. users per second: 33635.4"
      ]
     },
     "metadata": {},
     "output_type": "display_data"
    },
    {
     "data": {
      "text/html": [
       "<pre>recommendations finished on 34000/227241 queries. users per second: 33489.8</pre>"
      ],
      "text/plain": [
       "recommendations finished on 34000/227241 queries. users per second: 33489.8"
      ]
     },
     "metadata": {},
     "output_type": "display_data"
    },
    {
     "data": {
      "text/html": [
       "<pre>recommendations finished on 35000/227241 queries. users per second: 33233.1</pre>"
      ],
      "text/plain": [
       "recommendations finished on 35000/227241 queries. users per second: 33233.1"
      ]
     },
     "metadata": {},
     "output_type": "display_data"
    },
    {
     "data": {
      "text/html": [
       "<pre>recommendations finished on 36000/227241 queries. users per second: 32988.7</pre>"
      ],
      "text/plain": [
       "recommendations finished on 36000/227241 queries. users per second: 32988.7"
      ]
     },
     "metadata": {},
     "output_type": "display_data"
    },
    {
     "data": {
      "text/html": [
       "<pre>recommendations finished on 37000/227241 queries. users per second: 32561.4</pre>"
      ],
      "text/plain": [
       "recommendations finished on 37000/227241 queries. users per second: 32561.4"
      ]
     },
     "metadata": {},
     "output_type": "display_data"
    },
    {
     "data": {
      "text/html": [
       "<pre>recommendations finished on 38000/227241 queries. users per second: 32440.6</pre>"
      ],
      "text/plain": [
       "recommendations finished on 38000/227241 queries. users per second: 32440.6"
      ]
     },
     "metadata": {},
     "output_type": "display_data"
    },
    {
     "data": {
      "text/html": [
       "<pre>recommendations finished on 39000/227241 queries. users per second: 32377.5</pre>"
      ],
      "text/plain": [
       "recommendations finished on 39000/227241 queries. users per second: 32377.5"
      ]
     },
     "metadata": {},
     "output_type": "display_data"
    },
    {
     "data": {
      "text/html": [
       "<pre>recommendations finished on 40000/227241 queries. users per second: 32431</pre>"
      ],
      "text/plain": [
       "recommendations finished on 40000/227241 queries. users per second: 32431"
      ]
     },
     "metadata": {},
     "output_type": "display_data"
    },
    {
     "data": {
      "text/html": [
       "<pre>recommendations finished on 41000/227241 queries. users per second: 32535.9</pre>"
      ],
      "text/plain": [
       "recommendations finished on 41000/227241 queries. users per second: 32535.9"
      ]
     },
     "metadata": {},
     "output_type": "display_data"
    },
    {
     "data": {
      "text/html": [
       "<pre>recommendations finished on 42000/227241 queries. users per second: 32651.5</pre>"
      ],
      "text/plain": [
       "recommendations finished on 42000/227241 queries. users per second: 32651.5"
      ]
     },
     "metadata": {},
     "output_type": "display_data"
    },
    {
     "data": {
      "text/html": [
       "<pre>recommendations finished on 43000/227241 queries. users per second: 32686.7</pre>"
      ],
      "text/plain": [
       "recommendations finished on 43000/227241 queries. users per second: 32686.7"
      ]
     },
     "metadata": {},
     "output_type": "display_data"
    },
    {
     "data": {
      "text/html": [
       "<pre>recommendations finished on 44000/227241 queries. users per second: 32822.1</pre>"
      ],
      "text/plain": [
       "recommendations finished on 44000/227241 queries. users per second: 32822.1"
      ]
     },
     "metadata": {},
     "output_type": "display_data"
    },
    {
     "data": {
      "text/html": [
       "<pre>recommendations finished on 45000/227241 queries. users per second: 32890.5</pre>"
      ],
      "text/plain": [
       "recommendations finished on 45000/227241 queries. users per second: 32890.5"
      ]
     },
     "metadata": {},
     "output_type": "display_data"
    },
    {
     "data": {
      "text/html": [
       "<pre>recommendations finished on 46000/227241 queries. users per second: 33033.4</pre>"
      ],
      "text/plain": [
       "recommendations finished on 46000/227241 queries. users per second: 33033.4"
      ]
     },
     "metadata": {},
     "output_type": "display_data"
    },
    {
     "data": {
      "text/html": [
       "<pre>recommendations finished on 47000/227241 queries. users per second: 33016.9</pre>"
      ],
      "text/plain": [
       "recommendations finished on 47000/227241 queries. users per second: 33016.9"
      ]
     },
     "metadata": {},
     "output_type": "display_data"
    },
    {
     "data": {
      "text/html": [
       "<pre>recommendations finished on 48000/227241 queries. users per second: 33057.4</pre>"
      ],
      "text/plain": [
       "recommendations finished on 48000/227241 queries. users per second: 33057.4"
      ]
     },
     "metadata": {},
     "output_type": "display_data"
    },
    {
     "data": {
      "text/html": [
       "<pre>recommendations finished on 49000/227241 queries. users per second: 33085.5</pre>"
      ],
      "text/plain": [
       "recommendations finished on 49000/227241 queries. users per second: 33085.5"
      ]
     },
     "metadata": {},
     "output_type": "display_data"
    },
    {
     "data": {
      "text/html": [
       "<pre>recommendations finished on 50000/227241 queries. users per second: 33149.2</pre>"
      ],
      "text/plain": [
       "recommendations finished on 50000/227241 queries. users per second: 33149.2"
      ]
     },
     "metadata": {},
     "output_type": "display_data"
    },
    {
     "data": {
      "text/html": [
       "<pre>recommendations finished on 51000/227241 queries. users per second: 33052.3</pre>"
      ],
      "text/plain": [
       "recommendations finished on 51000/227241 queries. users per second: 33052.3"
      ]
     },
     "metadata": {},
     "output_type": "display_data"
    },
    {
     "data": {
      "text/html": [
       "<pre>recommendations finished on 52000/227241 queries. users per second: 32441.8</pre>"
      ],
      "text/plain": [
       "recommendations finished on 52000/227241 queries. users per second: 32441.8"
      ]
     },
     "metadata": {},
     "output_type": "display_data"
    },
    {
     "data": {
      "text/html": [
       "<pre>recommendations finished on 53000/227241 queries. users per second: 32411.4</pre>"
      ],
      "text/plain": [
       "recommendations finished on 53000/227241 queries. users per second: 32411.4"
      ]
     },
     "metadata": {},
     "output_type": "display_data"
    },
    {
     "data": {
      "text/html": [
       "<pre>recommendations finished on 54000/227241 queries. users per second: 32236.9</pre>"
      ],
      "text/plain": [
       "recommendations finished on 54000/227241 queries. users per second: 32236.9"
      ]
     },
     "metadata": {},
     "output_type": "display_data"
    },
    {
     "data": {
      "text/html": [
       "<pre>recommendations finished on 55000/227241 queries. users per second: 32183.2</pre>"
      ],
      "text/plain": [
       "recommendations finished on 55000/227241 queries. users per second: 32183.2"
      ]
     },
     "metadata": {},
     "output_type": "display_data"
    },
    {
     "data": {
      "text/html": [
       "<pre>recommendations finished on 56000/227241 queries. users per second: 32032.7</pre>"
      ],
      "text/plain": [
       "recommendations finished on 56000/227241 queries. users per second: 32032.7"
      ]
     },
     "metadata": {},
     "output_type": "display_data"
    },
    {
     "data": {
      "text/html": [
       "<pre>recommendations finished on 57000/227241 queries. users per second: 31920.3</pre>"
      ],
      "text/plain": [
       "recommendations finished on 57000/227241 queries. users per second: 31920.3"
      ]
     },
     "metadata": {},
     "output_type": "display_data"
    },
    {
     "data": {
      "text/html": [
       "<pre>recommendations finished on 58000/227241 queries. users per second: 31933.9</pre>"
      ],
      "text/plain": [
       "recommendations finished on 58000/227241 queries. users per second: 31933.9"
      ]
     },
     "metadata": {},
     "output_type": "display_data"
    },
    {
     "data": {
      "text/html": [
       "<pre>recommendations finished on 59000/227241 queries. users per second: 32036</pre>"
      ],
      "text/plain": [
       "recommendations finished on 59000/227241 queries. users per second: 32036"
      ]
     },
     "metadata": {},
     "output_type": "display_data"
    },
    {
     "data": {
      "text/html": [
       "<pre>recommendations finished on 60000/227241 queries. users per second: 32082.1</pre>"
      ],
      "text/plain": [
       "recommendations finished on 60000/227241 queries. users per second: 32082.1"
      ]
     },
     "metadata": {},
     "output_type": "display_data"
    },
    {
     "data": {
      "text/html": [
       "<pre>recommendations finished on 61000/227241 queries. users per second: 32107.8</pre>"
      ],
      "text/plain": [
       "recommendations finished on 61000/227241 queries. users per second: 32107.8"
      ]
     },
     "metadata": {},
     "output_type": "display_data"
    },
    {
     "data": {
      "text/html": [
       "<pre>recommendations finished on 62000/227241 queries. users per second: 32202</pre>"
      ],
      "text/plain": [
       "recommendations finished on 62000/227241 queries. users per second: 32202"
      ]
     },
     "metadata": {},
     "output_type": "display_data"
    },
    {
     "data": {
      "text/html": [
       "<pre>recommendations finished on 63000/227241 queries. users per second: 32271.3</pre>"
      ],
      "text/plain": [
       "recommendations finished on 63000/227241 queries. users per second: 32271.3"
      ]
     },
     "metadata": {},
     "output_type": "display_data"
    },
    {
     "data": {
      "text/html": [
       "<pre>recommendations finished on 64000/227241 queries. users per second: 32381</pre>"
      ],
      "text/plain": [
       "recommendations finished on 64000/227241 queries. users per second: 32381"
      ]
     },
     "metadata": {},
     "output_type": "display_data"
    },
    {
     "data": {
      "text/html": [
       "<pre>recommendations finished on 65000/227241 queries. users per second: 32452.9</pre>"
      ],
      "text/plain": [
       "recommendations finished on 65000/227241 queries. users per second: 32452.9"
      ]
     },
     "metadata": {},
     "output_type": "display_data"
    },
    {
     "data": {
      "text/html": [
       "<pre>recommendations finished on 66000/227241 queries. users per second: 32547</pre>"
      ],
      "text/plain": [
       "recommendations finished on 66000/227241 queries. users per second: 32547"
      ]
     },
     "metadata": {},
     "output_type": "display_data"
    },
    {
     "data": {
      "text/html": [
       "<pre>recommendations finished on 67000/227241 queries. users per second: 32594.5</pre>"
      ],
      "text/plain": [
       "recommendations finished on 67000/227241 queries. users per second: 32594.5"
      ]
     },
     "metadata": {},
     "output_type": "display_data"
    },
    {
     "data": {
      "text/html": [
       "<pre>recommendations finished on 68000/227241 queries. users per second: 32611.1</pre>"
      ],
      "text/plain": [
       "recommendations finished on 68000/227241 queries. users per second: 32611.1"
      ]
     },
     "metadata": {},
     "output_type": "display_data"
    },
    {
     "data": {
      "text/html": [
       "<pre>recommendations finished on 69000/227241 queries. users per second: 32718.2</pre>"
      ],
      "text/plain": [
       "recommendations finished on 69000/227241 queries. users per second: 32718.2"
      ]
     },
     "metadata": {},
     "output_type": "display_data"
    },
    {
     "data": {
      "text/html": [
       "<pre>recommendations finished on 70000/227241 queries. users per second: 32793.6</pre>"
      ],
      "text/plain": [
       "recommendations finished on 70000/227241 queries. users per second: 32793.6"
      ]
     },
     "metadata": {},
     "output_type": "display_data"
    },
    {
     "data": {
      "text/html": [
       "<pre>recommendations finished on 71000/227241 queries. users per second: 32878.6</pre>"
      ],
      "text/plain": [
       "recommendations finished on 71000/227241 queries. users per second: 32878.6"
      ]
     },
     "metadata": {},
     "output_type": "display_data"
    },
    {
     "data": {
      "text/html": [
       "<pre>recommendations finished on 72000/227241 queries. users per second: 32930.3</pre>"
      ],
      "text/plain": [
       "recommendations finished on 72000/227241 queries. users per second: 32930.3"
      ]
     },
     "metadata": {},
     "output_type": "display_data"
    },
    {
     "data": {
      "text/html": [
       "<pre>recommendations finished on 73000/227241 queries. users per second: 33024.7</pre>"
      ],
      "text/plain": [
       "recommendations finished on 73000/227241 queries. users per second: 33024.7"
      ]
     },
     "metadata": {},
     "output_type": "display_data"
    },
    {
     "data": {
      "text/html": [
       "<pre>recommendations finished on 74000/227241 queries. users per second: 32912.9</pre>"
      ],
      "text/plain": [
       "recommendations finished on 74000/227241 queries. users per second: 32912.9"
      ]
     },
     "metadata": {},
     "output_type": "display_data"
    },
    {
     "data": {
      "text/html": [
       "<pre>recommendations finished on 75000/227241 queries. users per second: 33013.2</pre>"
      ],
      "text/plain": [
       "recommendations finished on 75000/227241 queries. users per second: 33013.2"
      ]
     },
     "metadata": {},
     "output_type": "display_data"
    },
    {
     "data": {
      "text/html": [
       "<pre>recommendations finished on 76000/227241 queries. users per second: 33023.9</pre>"
      ],
      "text/plain": [
       "recommendations finished on 76000/227241 queries. users per second: 33023.9"
      ]
     },
     "metadata": {},
     "output_type": "display_data"
    },
    {
     "data": {
      "text/html": [
       "<pre>recommendations finished on 77000/227241 queries. users per second: 33126.4</pre>"
      ],
      "text/plain": [
       "recommendations finished on 77000/227241 queries. users per second: 33126.4"
      ]
     },
     "metadata": {},
     "output_type": "display_data"
    },
    {
     "data": {
      "text/html": [
       "<pre>recommendations finished on 78000/227241 queries. users per second: 33184.8</pre>"
      ],
      "text/plain": [
       "recommendations finished on 78000/227241 queries. users per second: 33184.8"
      ]
     },
     "metadata": {},
     "output_type": "display_data"
    },
    {
     "data": {
      "text/html": [
       "<pre>recommendations finished on 79000/227241 queries. users per second: 33272.6</pre>"
      ],
      "text/plain": [
       "recommendations finished on 79000/227241 queries. users per second: 33272.6"
      ]
     },
     "metadata": {},
     "output_type": "display_data"
    },
    {
     "data": {
      "text/html": [
       "<pre>recommendations finished on 80000/227241 queries. users per second: 33330.4</pre>"
      ],
      "text/plain": [
       "recommendations finished on 80000/227241 queries. users per second: 33330.4"
      ]
     },
     "metadata": {},
     "output_type": "display_data"
    },
    {
     "data": {
      "text/html": [
       "<pre>recommendations finished on 81000/227241 queries. users per second: 33320.2</pre>"
      ],
      "text/plain": [
       "recommendations finished on 81000/227241 queries. users per second: 33320.2"
      ]
     },
     "metadata": {},
     "output_type": "display_data"
    },
    {
     "data": {
      "text/html": [
       "<pre>recommendations finished on 82000/227241 queries. users per second: 33364.1</pre>"
      ],
      "text/plain": [
       "recommendations finished on 82000/227241 queries. users per second: 33364.1"
      ]
     },
     "metadata": {},
     "output_type": "display_data"
    },
    {
     "data": {
      "text/html": [
       "<pre>recommendations finished on 83000/227241 queries. users per second: 33392.7</pre>"
      ],
      "text/plain": [
       "recommendations finished on 83000/227241 queries. users per second: 33392.7"
      ]
     },
     "metadata": {},
     "output_type": "display_data"
    },
    {
     "data": {
      "text/html": [
       "<pre>recommendations finished on 84000/227241 queries. users per second: 33415</pre>"
      ],
      "text/plain": [
       "recommendations finished on 84000/227241 queries. users per second: 33415"
      ]
     },
     "metadata": {},
     "output_type": "display_data"
    },
    {
     "data": {
      "text/html": [
       "<pre>recommendations finished on 85000/227241 queries. users per second: 33405.3</pre>"
      ],
      "text/plain": [
       "recommendations finished on 85000/227241 queries. users per second: 33405.3"
      ]
     },
     "metadata": {},
     "output_type": "display_data"
    },
    {
     "data": {
      "text/html": [
       "<pre>recommendations finished on 86000/227241 queries. users per second: 33427</pre>"
      ],
      "text/plain": [
       "recommendations finished on 86000/227241 queries. users per second: 33427"
      ]
     },
     "metadata": {},
     "output_type": "display_data"
    },
    {
     "data": {
      "text/html": [
       "<pre>recommendations finished on 87000/227241 queries. users per second: 33404.6</pre>"
      ],
      "text/plain": [
       "recommendations finished on 87000/227241 queries. users per second: 33404.6"
      ]
     },
     "metadata": {},
     "output_type": "display_data"
    },
    {
     "data": {
      "text/html": [
       "<pre>recommendations finished on 88000/227241 queries. users per second: 33319.3</pre>"
      ],
      "text/plain": [
       "recommendations finished on 88000/227241 queries. users per second: 33319.3"
      ]
     },
     "metadata": {},
     "output_type": "display_data"
    },
    {
     "data": {
      "text/html": [
       "<pre>recommendations finished on 89000/227241 queries. users per second: 33363.7</pre>"
      ],
      "text/plain": [
       "recommendations finished on 89000/227241 queries. users per second: 33363.7"
      ]
     },
     "metadata": {},
     "output_type": "display_data"
    },
    {
     "data": {
      "text/html": [
       "<pre>recommendations finished on 90000/227241 queries. users per second: 33373</pre>"
      ],
      "text/plain": [
       "recommendations finished on 90000/227241 queries. users per second: 33373"
      ]
     },
     "metadata": {},
     "output_type": "display_data"
    },
    {
     "data": {
      "text/html": [
       "<pre>recommendations finished on 91000/227241 queries. users per second: 33379.3</pre>"
      ],
      "text/plain": [
       "recommendations finished on 91000/227241 queries. users per second: 33379.3"
      ]
     },
     "metadata": {},
     "output_type": "display_data"
    },
    {
     "data": {
      "text/html": [
       "<pre>recommendations finished on 92000/227241 queries. users per second: 33330.3</pre>"
      ],
      "text/plain": [
       "recommendations finished on 92000/227241 queries. users per second: 33330.3"
      ]
     },
     "metadata": {},
     "output_type": "display_data"
    },
    {
     "data": {
      "text/html": [
       "<pre>recommendations finished on 93000/227241 queries. users per second: 33328.3</pre>"
      ],
      "text/plain": [
       "recommendations finished on 93000/227241 queries. users per second: 33328.3"
      ]
     },
     "metadata": {},
     "output_type": "display_data"
    },
    {
     "data": {
      "text/html": [
       "<pre>recommendations finished on 94000/227241 queries. users per second: 33314.1</pre>"
      ],
      "text/plain": [
       "recommendations finished on 94000/227241 queries. users per second: 33314.1"
      ]
     },
     "metadata": {},
     "output_type": "display_data"
    },
    {
     "data": {
      "text/html": [
       "<pre>recommendations finished on 95000/227241 queries. users per second: 33353.6</pre>"
      ],
      "text/plain": [
       "recommendations finished on 95000/227241 queries. users per second: 33353.6"
      ]
     },
     "metadata": {},
     "output_type": "display_data"
    },
    {
     "data": {
      "text/html": [
       "<pre>recommendations finished on 96000/227241 queries. users per second: 33420.6</pre>"
      ],
      "text/plain": [
       "recommendations finished on 96000/227241 queries. users per second: 33420.6"
      ]
     },
     "metadata": {},
     "output_type": "display_data"
    },
    {
     "data": {
      "text/html": [
       "<pre>recommendations finished on 97000/227241 queries. users per second: 33463.4</pre>"
      ],
      "text/plain": [
       "recommendations finished on 97000/227241 queries. users per second: 33463.4"
      ]
     },
     "metadata": {},
     "output_type": "display_data"
    },
    {
     "data": {
      "text/html": [
       "<pre>recommendations finished on 98000/227241 queries. users per second: 33536.5</pre>"
      ],
      "text/plain": [
       "recommendations finished on 98000/227241 queries. users per second: 33536.5"
      ]
     },
     "metadata": {},
     "output_type": "display_data"
    },
    {
     "data": {
      "text/html": [
       "<pre>recommendations finished on 99000/227241 queries. users per second: 33544.4</pre>"
      ],
      "text/plain": [
       "recommendations finished on 99000/227241 queries. users per second: 33544.4"
      ]
     },
     "metadata": {},
     "output_type": "display_data"
    },
    {
     "data": {
      "text/html": [
       "<pre>recommendations finished on 100000/227241 queries. users per second: 33587.5</pre>"
      ],
      "text/plain": [
       "recommendations finished on 100000/227241 queries. users per second: 33587.5"
      ]
     },
     "metadata": {},
     "output_type": "display_data"
    },
    {
     "data": {
      "text/html": [
       "<pre>recommendations finished on 101000/227241 queries. users per second: 33565.9</pre>"
      ],
      "text/plain": [
       "recommendations finished on 101000/227241 queries. users per second: 33565.9"
      ]
     },
     "metadata": {},
     "output_type": "display_data"
    },
    {
     "data": {
      "text/html": [
       "<pre>recommendations finished on 102000/227241 queries. users per second: 33611.2</pre>"
      ],
      "text/plain": [
       "recommendations finished on 102000/227241 queries. users per second: 33611.2"
      ]
     },
     "metadata": {},
     "output_type": "display_data"
    },
    {
     "data": {
      "text/html": [
       "<pre>recommendations finished on 103000/227241 queries. users per second: 33469.5</pre>"
      ],
      "text/plain": [
       "recommendations finished on 103000/227241 queries. users per second: 33469.5"
      ]
     },
     "metadata": {},
     "output_type": "display_data"
    },
    {
     "data": {
      "text/html": [
       "<pre>recommendations finished on 104000/227241 queries. users per second: 33376.1</pre>"
      ],
      "text/plain": [
       "recommendations finished on 104000/227241 queries. users per second: 33376.1"
      ]
     },
     "metadata": {},
     "output_type": "display_data"
    },
    {
     "data": {
      "text/html": [
       "<pre>recommendations finished on 105000/227241 queries. users per second: 33262.4</pre>"
      ],
      "text/plain": [
       "recommendations finished on 105000/227241 queries. users per second: 33262.4"
      ]
     },
     "metadata": {},
     "output_type": "display_data"
    },
    {
     "data": {
      "text/html": [
       "<pre>recommendations finished on 106000/227241 queries. users per second: 33283.8</pre>"
      ],
      "text/plain": [
       "recommendations finished on 106000/227241 queries. users per second: 33283.8"
      ]
     },
     "metadata": {},
     "output_type": "display_data"
    },
    {
     "data": {
      "text/html": [
       "<pre>recommendations finished on 107000/227241 queries. users per second: 33314.8</pre>"
      ],
      "text/plain": [
       "recommendations finished on 107000/227241 queries. users per second: 33314.8"
      ]
     },
     "metadata": {},
     "output_type": "display_data"
    },
    {
     "data": {
      "text/html": [
       "<pre>recommendations finished on 108000/227241 queries. users per second: 33271.6</pre>"
      ],
      "text/plain": [
       "recommendations finished on 108000/227241 queries. users per second: 33271.6"
      ]
     },
     "metadata": {},
     "output_type": "display_data"
    },
    {
     "data": {
      "text/html": [
       "<pre>recommendations finished on 109000/227241 queries. users per second: 33310.9</pre>"
      ],
      "text/plain": [
       "recommendations finished on 109000/227241 queries. users per second: 33310.9"
      ]
     },
     "metadata": {},
     "output_type": "display_data"
    },
    {
     "data": {
      "text/html": [
       "<pre>recommendations finished on 110000/227241 queries. users per second: 33253.4</pre>"
      ],
      "text/plain": [
       "recommendations finished on 110000/227241 queries. users per second: 33253.4"
      ]
     },
     "metadata": {},
     "output_type": "display_data"
    },
    {
     "data": {
      "text/html": [
       "<pre>recommendations finished on 111000/227241 queries. users per second: 33175.9</pre>"
      ],
      "text/plain": [
       "recommendations finished on 111000/227241 queries. users per second: 33175.9"
      ]
     },
     "metadata": {},
     "output_type": "display_data"
    },
    {
     "data": {
      "text/html": [
       "<pre>recommendations finished on 112000/227241 queries. users per second: 32883.1</pre>"
      ],
      "text/plain": [
       "recommendations finished on 112000/227241 queries. users per second: 32883.1"
      ]
     },
     "metadata": {},
     "output_type": "display_data"
    },
    {
     "data": {
      "text/html": [
       "<pre>recommendations finished on 113000/227241 queries. users per second: 32757</pre>"
      ],
      "text/plain": [
       "recommendations finished on 113000/227241 queries. users per second: 32757"
      ]
     },
     "metadata": {},
     "output_type": "display_data"
    },
    {
     "data": {
      "text/html": [
       "<pre>recommendations finished on 114000/227241 queries. users per second: 32674.2</pre>"
      ],
      "text/plain": [
       "recommendations finished on 114000/227241 queries. users per second: 32674.2"
      ]
     },
     "metadata": {},
     "output_type": "display_data"
    },
    {
     "data": {
      "text/html": [
       "<pre>recommendations finished on 115000/227241 queries. users per second: 32607.3</pre>"
      ],
      "text/plain": [
       "recommendations finished on 115000/227241 queries. users per second: 32607.3"
      ]
     },
     "metadata": {},
     "output_type": "display_data"
    },
    {
     "data": {
      "text/html": [
       "<pre>recommendations finished on 116000/227241 queries. users per second: 32389</pre>"
      ],
      "text/plain": [
       "recommendations finished on 116000/227241 queries. users per second: 32389"
      ]
     },
     "metadata": {},
     "output_type": "display_data"
    },
    {
     "data": {
      "text/html": [
       "<pre>recommendations finished on 117000/227241 queries. users per second: 32377.7</pre>"
      ],
      "text/plain": [
       "recommendations finished on 117000/227241 queries. users per second: 32377.7"
      ]
     },
     "metadata": {},
     "output_type": "display_data"
    },
    {
     "data": {
      "text/html": [
       "<pre>recommendations finished on 118000/227241 queries. users per second: 32425.9</pre>"
      ],
      "text/plain": [
       "recommendations finished on 118000/227241 queries. users per second: 32425.9"
      ]
     },
     "metadata": {},
     "output_type": "display_data"
    },
    {
     "data": {
      "text/html": [
       "<pre>recommendations finished on 119000/227241 queries. users per second: 32422.1</pre>"
      ],
      "text/plain": [
       "recommendations finished on 119000/227241 queries. users per second: 32422.1"
      ]
     },
     "metadata": {},
     "output_type": "display_data"
    },
    {
     "data": {
      "text/html": [
       "<pre>recommendations finished on 120000/227241 queries. users per second: 32401.5</pre>"
      ],
      "text/plain": [
       "recommendations finished on 120000/227241 queries. users per second: 32401.5"
      ]
     },
     "metadata": {},
     "output_type": "display_data"
    },
    {
     "data": {
      "text/html": [
       "<pre>recommendations finished on 121000/227241 queries. users per second: 32402</pre>"
      ],
      "text/plain": [
       "recommendations finished on 121000/227241 queries. users per second: 32402"
      ]
     },
     "metadata": {},
     "output_type": "display_data"
    },
    {
     "data": {
      "text/html": [
       "<pre>recommendations finished on 122000/227241 queries. users per second: 32406.2</pre>"
      ],
      "text/plain": [
       "recommendations finished on 122000/227241 queries. users per second: 32406.2"
      ]
     },
     "metadata": {},
     "output_type": "display_data"
    },
    {
     "data": {
      "text/html": [
       "<pre>recommendations finished on 123000/227241 queries. users per second: 32393.4</pre>"
      ],
      "text/plain": [
       "recommendations finished on 123000/227241 queries. users per second: 32393.4"
      ]
     },
     "metadata": {},
     "output_type": "display_data"
    },
    {
     "data": {
      "text/html": [
       "<pre>recommendations finished on 124000/227241 queries. users per second: 32410.9</pre>"
      ],
      "text/plain": [
       "recommendations finished on 124000/227241 queries. users per second: 32410.9"
      ]
     },
     "metadata": {},
     "output_type": "display_data"
    },
    {
     "data": {
      "text/html": [
       "<pre>recommendations finished on 125000/227241 queries. users per second: 32369.5</pre>"
      ],
      "text/plain": [
       "recommendations finished on 125000/227241 queries. users per second: 32369.5"
      ]
     },
     "metadata": {},
     "output_type": "display_data"
    },
    {
     "data": {
      "text/html": [
       "<pre>recommendations finished on 126000/227241 queries. users per second: 32384.9</pre>"
      ],
      "text/plain": [
       "recommendations finished on 126000/227241 queries. users per second: 32384.9"
      ]
     },
     "metadata": {},
     "output_type": "display_data"
    },
    {
     "data": {
      "text/html": [
       "<pre>recommendations finished on 127000/227241 queries. users per second: 32412.7</pre>"
      ],
      "text/plain": [
       "recommendations finished on 127000/227241 queries. users per second: 32412.7"
      ]
     },
     "metadata": {},
     "output_type": "display_data"
    },
    {
     "data": {
      "text/html": [
       "<pre>recommendations finished on 128000/227241 queries. users per second: 32438.8</pre>"
      ],
      "text/plain": [
       "recommendations finished on 128000/227241 queries. users per second: 32438.8"
      ]
     },
     "metadata": {},
     "output_type": "display_data"
    },
    {
     "data": {
      "text/html": [
       "<pre>recommendations finished on 129000/227241 queries. users per second: 32466.5</pre>"
      ],
      "text/plain": [
       "recommendations finished on 129000/227241 queries. users per second: 32466.5"
      ]
     },
     "metadata": {},
     "output_type": "display_data"
    },
    {
     "data": {
      "text/html": [
       "<pre>recommendations finished on 130000/227241 queries. users per second: 32480.8</pre>"
      ],
      "text/plain": [
       "recommendations finished on 130000/227241 queries. users per second: 32480.8"
      ]
     },
     "metadata": {},
     "output_type": "display_data"
    },
    {
     "data": {
      "text/html": [
       "<pre>recommendations finished on 131000/227241 queries. users per second: 32490.9</pre>"
      ],
      "text/plain": [
       "recommendations finished on 131000/227241 queries. users per second: 32490.9"
      ]
     },
     "metadata": {},
     "output_type": "display_data"
    },
    {
     "data": {
      "text/html": [
       "<pre>recommendations finished on 132000/227241 queries. users per second: 32510.1</pre>"
      ],
      "text/plain": [
       "recommendations finished on 132000/227241 queries. users per second: 32510.1"
      ]
     },
     "metadata": {},
     "output_type": "display_data"
    },
    {
     "data": {
      "text/html": [
       "<pre>recommendations finished on 133000/227241 queries. users per second: 32495.4</pre>"
      ],
      "text/plain": [
       "recommendations finished on 133000/227241 queries. users per second: 32495.4"
      ]
     },
     "metadata": {},
     "output_type": "display_data"
    },
    {
     "data": {
      "text/html": [
       "<pre>recommendations finished on 134000/227241 queries. users per second: 32457.9</pre>"
      ],
      "text/plain": [
       "recommendations finished on 134000/227241 queries. users per second: 32457.9"
      ]
     },
     "metadata": {},
     "output_type": "display_data"
    },
    {
     "data": {
      "text/html": [
       "<pre>recommendations finished on 135000/227241 queries. users per second: 32382</pre>"
      ],
      "text/plain": [
       "recommendations finished on 135000/227241 queries. users per second: 32382"
      ]
     },
     "metadata": {},
     "output_type": "display_data"
    },
    {
     "data": {
      "text/html": [
       "<pre>recommendations finished on 136000/227241 queries. users per second: 32296</pre>"
      ],
      "text/plain": [
       "recommendations finished on 136000/227241 queries. users per second: 32296"
      ]
     },
     "metadata": {},
     "output_type": "display_data"
    },
    {
     "data": {
      "text/html": [
       "<pre>recommendations finished on 137000/227241 queries. users per second: 32266.1</pre>"
      ],
      "text/plain": [
       "recommendations finished on 137000/227241 queries. users per second: 32266.1"
      ]
     },
     "metadata": {},
     "output_type": "display_data"
    },
    {
     "data": {
      "text/html": [
       "<pre>recommendations finished on 138000/227241 queries. users per second: 32185.7</pre>"
      ],
      "text/plain": [
       "recommendations finished on 138000/227241 queries. users per second: 32185.7"
      ]
     },
     "metadata": {},
     "output_type": "display_data"
    },
    {
     "data": {
      "text/html": [
       "<pre>recommendations finished on 139000/227241 queries. users per second: 32152.1</pre>"
      ],
      "text/plain": [
       "recommendations finished on 139000/227241 queries. users per second: 32152.1"
      ]
     },
     "metadata": {},
     "output_type": "display_data"
    },
    {
     "data": {
      "text/html": [
       "<pre>recommendations finished on 140000/227241 queries. users per second: 32110.3</pre>"
      ],
      "text/plain": [
       "recommendations finished on 140000/227241 queries. users per second: 32110.3"
      ]
     },
     "metadata": {},
     "output_type": "display_data"
    },
    {
     "data": {
      "text/html": [
       "<pre>recommendations finished on 141000/227241 queries. users per second: 32046.5</pre>"
      ],
      "text/plain": [
       "recommendations finished on 141000/227241 queries. users per second: 32046.5"
      ]
     },
     "metadata": {},
     "output_type": "display_data"
    },
    {
     "data": {
      "text/html": [
       "<pre>recommendations finished on 142000/227241 queries. users per second: 32009.5</pre>"
      ],
      "text/plain": [
       "recommendations finished on 142000/227241 queries. users per second: 32009.5"
      ]
     },
     "metadata": {},
     "output_type": "display_data"
    },
    {
     "data": {
      "text/html": [
       "<pre>recommendations finished on 143000/227241 queries. users per second: 32035</pre>"
      ],
      "text/plain": [
       "recommendations finished on 143000/227241 queries. users per second: 32035"
      ]
     },
     "metadata": {},
     "output_type": "display_data"
    },
    {
     "data": {
      "text/html": [
       "<pre>recommendations finished on 144000/227241 queries. users per second: 32045.1</pre>"
      ],
      "text/plain": [
       "recommendations finished on 144000/227241 queries. users per second: 32045.1"
      ]
     },
     "metadata": {},
     "output_type": "display_data"
    },
    {
     "data": {
      "text/html": [
       "<pre>recommendations finished on 145000/227241 queries. users per second: 32004.6</pre>"
      ],
      "text/plain": [
       "recommendations finished on 145000/227241 queries. users per second: 32004.6"
      ]
     },
     "metadata": {},
     "output_type": "display_data"
    },
    {
     "data": {
      "text/html": [
       "<pre>recommendations finished on 146000/227241 queries. users per second: 31971.5</pre>"
      ],
      "text/plain": [
       "recommendations finished on 146000/227241 queries. users per second: 31971.5"
      ]
     },
     "metadata": {},
     "output_type": "display_data"
    },
    {
     "data": {
      "text/html": [
       "<pre>recommendations finished on 147000/227241 queries. users per second: 31921.4</pre>"
      ],
      "text/plain": [
       "recommendations finished on 147000/227241 queries. users per second: 31921.4"
      ]
     },
     "metadata": {},
     "output_type": "display_data"
    },
    {
     "data": {
      "text/html": [
       "<pre>recommendations finished on 148000/227241 queries. users per second: 31951.2</pre>"
      ],
      "text/plain": [
       "recommendations finished on 148000/227241 queries. users per second: 31951.2"
      ]
     },
     "metadata": {},
     "output_type": "display_data"
    },
    {
     "data": {
      "text/html": [
       "<pre>recommendations finished on 149000/227241 queries. users per second: 31999</pre>"
      ],
      "text/plain": [
       "recommendations finished on 149000/227241 queries. users per second: 31999"
      ]
     },
     "metadata": {},
     "output_type": "display_data"
    },
    {
     "data": {
      "text/html": [
       "<pre>recommendations finished on 150000/227241 queries. users per second: 32005.6</pre>"
      ],
      "text/plain": [
       "recommendations finished on 150000/227241 queries. users per second: 32005.6"
      ]
     },
     "metadata": {},
     "output_type": "display_data"
    },
    {
     "data": {
      "text/html": [
       "<pre>recommendations finished on 151000/227241 queries. users per second: 31979.6</pre>"
      ],
      "text/plain": [
       "recommendations finished on 151000/227241 queries. users per second: 31979.6"
      ]
     },
     "metadata": {},
     "output_type": "display_data"
    },
    {
     "data": {
      "text/html": [
       "<pre>recommendations finished on 152000/227241 queries. users per second: 31866.4</pre>"
      ],
      "text/plain": [
       "recommendations finished on 152000/227241 queries. users per second: 31866.4"
      ]
     },
     "metadata": {},
     "output_type": "display_data"
    },
    {
     "data": {
      "text/html": [
       "<pre>recommendations finished on 153000/227241 queries. users per second: 31820.8</pre>"
      ],
      "text/plain": [
       "recommendations finished on 153000/227241 queries. users per second: 31820.8"
      ]
     },
     "metadata": {},
     "output_type": "display_data"
    },
    {
     "data": {
      "text/html": [
       "<pre>recommendations finished on 154000/227241 queries. users per second: 31806.7</pre>"
      ],
      "text/plain": [
       "recommendations finished on 154000/227241 queries. users per second: 31806.7"
      ]
     },
     "metadata": {},
     "output_type": "display_data"
    },
    {
     "data": {
      "text/html": [
       "<pre>recommendations finished on 155000/227241 queries. users per second: 31780.5</pre>"
      ],
      "text/plain": [
       "recommendations finished on 155000/227241 queries. users per second: 31780.5"
      ]
     },
     "metadata": {},
     "output_type": "display_data"
    },
    {
     "data": {
      "text/html": [
       "<pre>recommendations finished on 156000/227241 queries. users per second: 31756.2</pre>"
      ],
      "text/plain": [
       "recommendations finished on 156000/227241 queries. users per second: 31756.2"
      ]
     },
     "metadata": {},
     "output_type": "display_data"
    },
    {
     "data": {
      "text/html": [
       "<pre>recommendations finished on 157000/227241 queries. users per second: 31687.5</pre>"
      ],
      "text/plain": [
       "recommendations finished on 157000/227241 queries. users per second: 31687.5"
      ]
     },
     "metadata": {},
     "output_type": "display_data"
    },
    {
     "data": {
      "text/html": [
       "<pre>recommendations finished on 158000/227241 queries. users per second: 31644.9</pre>"
      ],
      "text/plain": [
       "recommendations finished on 158000/227241 queries. users per second: 31644.9"
      ]
     },
     "metadata": {},
     "output_type": "display_data"
    },
    {
     "data": {
      "text/html": [
       "<pre>recommendations finished on 159000/227241 queries. users per second: 31577.7</pre>"
      ],
      "text/plain": [
       "recommendations finished on 159000/227241 queries. users per second: 31577.7"
      ]
     },
     "metadata": {},
     "output_type": "display_data"
    },
    {
     "data": {
      "text/html": [
       "<pre>recommendations finished on 160000/227241 queries. users per second: 31541.6</pre>"
      ],
      "text/plain": [
       "recommendations finished on 160000/227241 queries. users per second: 31541.6"
      ]
     },
     "metadata": {},
     "output_type": "display_data"
    },
    {
     "data": {
      "text/html": [
       "<pre>recommendations finished on 161000/227241 queries. users per second: 31523.8</pre>"
      ],
      "text/plain": [
       "recommendations finished on 161000/227241 queries. users per second: 31523.8"
      ]
     },
     "metadata": {},
     "output_type": "display_data"
    },
    {
     "data": {
      "text/html": [
       "<pre>recommendations finished on 162000/227241 queries. users per second: 31529.4</pre>"
      ],
      "text/plain": [
       "recommendations finished on 162000/227241 queries. users per second: 31529.4"
      ]
     },
     "metadata": {},
     "output_type": "display_data"
    },
    {
     "data": {
      "text/html": [
       "<pre>recommendations finished on 163000/227241 queries. users per second: 31503.2</pre>"
      ],
      "text/plain": [
       "recommendations finished on 163000/227241 queries. users per second: 31503.2"
      ]
     },
     "metadata": {},
     "output_type": "display_data"
    },
    {
     "data": {
      "text/html": [
       "<pre>recommendations finished on 164000/227241 queries. users per second: 31509.1</pre>"
      ],
      "text/plain": [
       "recommendations finished on 164000/227241 queries. users per second: 31509.1"
      ]
     },
     "metadata": {},
     "output_type": "display_data"
    },
    {
     "data": {
      "text/html": [
       "<pre>recommendations finished on 165000/227241 queries. users per second: 31482.7</pre>"
      ],
      "text/plain": [
       "recommendations finished on 165000/227241 queries. users per second: 31482.7"
      ]
     },
     "metadata": {},
     "output_type": "display_data"
    },
    {
     "data": {
      "text/html": [
       "<pre>recommendations finished on 166000/227241 queries. users per second: 31486.6</pre>"
      ],
      "text/plain": [
       "recommendations finished on 166000/227241 queries. users per second: 31486.6"
      ]
     },
     "metadata": {},
     "output_type": "display_data"
    },
    {
     "data": {
      "text/html": [
       "<pre>recommendations finished on 167000/227241 queries. users per second: 31492.4</pre>"
      ],
      "text/plain": [
       "recommendations finished on 167000/227241 queries. users per second: 31492.4"
      ]
     },
     "metadata": {},
     "output_type": "display_data"
    },
    {
     "data": {
      "text/html": [
       "<pre>recommendations finished on 168000/227241 queries. users per second: 31501.3</pre>"
      ],
      "text/plain": [
       "recommendations finished on 168000/227241 queries. users per second: 31501.3"
      ]
     },
     "metadata": {},
     "output_type": "display_data"
    },
    {
     "data": {
      "text/html": [
       "<pre>recommendations finished on 169000/227241 queries. users per second: 31538.9</pre>"
      ],
      "text/plain": [
       "recommendations finished on 169000/227241 queries. users per second: 31538.9"
      ]
     },
     "metadata": {},
     "output_type": "display_data"
    },
    {
     "data": {
      "text/html": [
       "<pre>recommendations finished on 170000/227241 queries. users per second: 31547.7</pre>"
      ],
      "text/plain": [
       "recommendations finished on 170000/227241 queries. users per second: 31547.7"
      ]
     },
     "metadata": {},
     "output_type": "display_data"
    },
    {
     "data": {
      "text/html": [
       "<pre>recommendations finished on 171000/227241 queries. users per second: 31566.4</pre>"
      ],
      "text/plain": [
       "recommendations finished on 171000/227241 queries. users per second: 31566.4"
      ]
     },
     "metadata": {},
     "output_type": "display_data"
    },
    {
     "data": {
      "text/html": [
       "<pre>recommendations finished on 172000/227241 queries. users per second: 31592.8</pre>"
      ],
      "text/plain": [
       "recommendations finished on 172000/227241 queries. users per second: 31592.8"
      ]
     },
     "metadata": {},
     "output_type": "display_data"
    },
    {
     "data": {
      "text/html": [
       "<pre>recommendations finished on 173000/227241 queries. users per second: 31624.5</pre>"
      ],
      "text/plain": [
       "recommendations finished on 173000/227241 queries. users per second: 31624.5"
      ]
     },
     "metadata": {},
     "output_type": "display_data"
    },
    {
     "data": {
      "text/html": [
       "<pre>recommendations finished on 174000/227241 queries. users per second: 31580.8</pre>"
      ],
      "text/plain": [
       "recommendations finished on 174000/227241 queries. users per second: 31580.8"
      ]
     },
     "metadata": {},
     "output_type": "display_data"
    },
    {
     "data": {
      "text/html": [
       "<pre>recommendations finished on 175000/227241 queries. users per second: 31558.2</pre>"
      ],
      "text/plain": [
       "recommendations finished on 175000/227241 queries. users per second: 31558.2"
      ]
     },
     "metadata": {},
     "output_type": "display_data"
    },
    {
     "data": {
      "text/html": [
       "<pre>recommendations finished on 176000/227241 queries. users per second: 31552.3</pre>"
      ],
      "text/plain": [
       "recommendations finished on 176000/227241 queries. users per second: 31552.3"
      ]
     },
     "metadata": {},
     "output_type": "display_data"
    },
    {
     "data": {
      "text/html": [
       "<pre>recommendations finished on 177000/227241 queries. users per second: 31555.2</pre>"
      ],
      "text/plain": [
       "recommendations finished on 177000/227241 queries. users per second: 31555.2"
      ]
     },
     "metadata": {},
     "output_type": "display_data"
    },
    {
     "data": {
      "text/html": [
       "<pre>recommendations finished on 178000/227241 queries. users per second: 31551.7</pre>"
      ],
      "text/plain": [
       "recommendations finished on 178000/227241 queries. users per second: 31551.7"
      ]
     },
     "metadata": {},
     "output_type": "display_data"
    },
    {
     "data": {
      "text/html": [
       "<pre>recommendations finished on 179000/227241 queries. users per second: 31545.7</pre>"
      ],
      "text/plain": [
       "recommendations finished on 179000/227241 queries. users per second: 31545.7"
      ]
     },
     "metadata": {},
     "output_type": "display_data"
    },
    {
     "data": {
      "text/html": [
       "<pre>recommendations finished on 180000/227241 queries. users per second: 31528.1</pre>"
      ],
      "text/plain": [
       "recommendations finished on 180000/227241 queries. users per second: 31528.1"
      ]
     },
     "metadata": {},
     "output_type": "display_data"
    },
    {
     "data": {
      "text/html": [
       "<pre>recommendations finished on 181000/227241 queries. users per second: 31539.6</pre>"
      ],
      "text/plain": [
       "recommendations finished on 181000/227241 queries. users per second: 31539.6"
      ]
     },
     "metadata": {},
     "output_type": "display_data"
    },
    {
     "data": {
      "text/html": [
       "<pre>recommendations finished on 182000/227241 queries. users per second: 31534.3</pre>"
      ],
      "text/plain": [
       "recommendations finished on 182000/227241 queries. users per second: 31534.3"
      ]
     },
     "metadata": {},
     "output_type": "display_data"
    },
    {
     "data": {
      "text/html": [
       "<pre>recommendations finished on 183000/227241 queries. users per second: 31484.7</pre>"
      ],
      "text/plain": [
       "recommendations finished on 183000/227241 queries. users per second: 31484.7"
      ]
     },
     "metadata": {},
     "output_type": "display_data"
    },
    {
     "data": {
      "text/html": [
       "<pre>recommendations finished on 184000/227241 queries. users per second: 31462.6</pre>"
      ],
      "text/plain": [
       "recommendations finished on 184000/227241 queries. users per second: 31462.6"
      ]
     },
     "metadata": {},
     "output_type": "display_data"
    },
    {
     "data": {
      "text/html": [
       "<pre>recommendations finished on 185000/227241 queries. users per second: 31428.6</pre>"
      ],
      "text/plain": [
       "recommendations finished on 185000/227241 queries. users per second: 31428.6"
      ]
     },
     "metadata": {},
     "output_type": "display_data"
    },
    {
     "data": {
      "text/html": [
       "<pre>recommendations finished on 186000/227241 queries. users per second: 31408.6</pre>"
      ],
      "text/plain": [
       "recommendations finished on 186000/227241 queries. users per second: 31408.6"
      ]
     },
     "metadata": {},
     "output_type": "display_data"
    },
    {
     "data": {
      "text/html": [
       "<pre>recommendations finished on 187000/227241 queries. users per second: 31376.9</pre>"
      ],
      "text/plain": [
       "recommendations finished on 187000/227241 queries. users per second: 31376.9"
      ]
     },
     "metadata": {},
     "output_type": "display_data"
    },
    {
     "data": {
      "text/html": [
       "<pre>recommendations finished on 188000/227241 queries. users per second: 31371.3</pre>"
      ],
      "text/plain": [
       "recommendations finished on 188000/227241 queries. users per second: 31371.3"
      ]
     },
     "metadata": {},
     "output_type": "display_data"
    },
    {
     "data": {
      "text/html": [
       "<pre>recommendations finished on 189000/227241 queries. users per second: 31362.1</pre>"
      ],
      "text/plain": [
       "recommendations finished on 189000/227241 queries. users per second: 31362.1"
      ]
     },
     "metadata": {},
     "output_type": "display_data"
    },
    {
     "data": {
      "text/html": [
       "<pre>recommendations finished on 190000/227241 queries. users per second: 31324.1</pre>"
      ],
      "text/plain": [
       "recommendations finished on 190000/227241 queries. users per second: 31324.1"
      ]
     },
     "metadata": {},
     "output_type": "display_data"
    },
    {
     "data": {
      "text/html": [
       "<pre>recommendations finished on 191000/227241 queries. users per second: 31331.5</pre>"
      ],
      "text/plain": [
       "recommendations finished on 191000/227241 queries. users per second: 31331.5"
      ]
     },
     "metadata": {},
     "output_type": "display_data"
    },
    {
     "data": {
      "text/html": [
       "<pre>recommendations finished on 192000/227241 queries. users per second: 31339.8</pre>"
      ],
      "text/plain": [
       "recommendations finished on 192000/227241 queries. users per second: 31339.8"
      ]
     },
     "metadata": {},
     "output_type": "display_data"
    },
    {
     "data": {
      "text/html": [
       "<pre>recommendations finished on 193000/227241 queries. users per second: 31337</pre>"
      ],
      "text/plain": [
       "recommendations finished on 193000/227241 queries. users per second: 31337"
      ]
     },
     "metadata": {},
     "output_type": "display_data"
    },
    {
     "data": {
      "text/html": [
       "<pre>recommendations finished on 194000/227241 queries. users per second: 31339.4</pre>"
      ],
      "text/plain": [
       "recommendations finished on 194000/227241 queries. users per second: 31339.4"
      ]
     },
     "metadata": {},
     "output_type": "display_data"
    },
    {
     "data": {
      "text/html": [
       "<pre>recommendations finished on 195000/227241 queries. users per second: 31321.2</pre>"
      ],
      "text/plain": [
       "recommendations finished on 195000/227241 queries. users per second: 31321.2"
      ]
     },
     "metadata": {},
     "output_type": "display_data"
    },
    {
     "data": {
      "text/html": [
       "<pre>recommendations finished on 196000/227241 queries. users per second: 31324.5</pre>"
      ],
      "text/plain": [
       "recommendations finished on 196000/227241 queries. users per second: 31324.5"
      ]
     },
     "metadata": {},
     "output_type": "display_data"
    },
    {
     "data": {
      "text/html": [
       "<pre>recommendations finished on 197000/227241 queries. users per second: 31341.7</pre>"
      ],
      "text/plain": [
       "recommendations finished on 197000/227241 queries. users per second: 31341.7"
      ]
     },
     "metadata": {},
     "output_type": "display_data"
    },
    {
     "data": {
      "text/html": [
       "<pre>recommendations finished on 198000/227241 queries. users per second: 31348.9</pre>"
      ],
      "text/plain": [
       "recommendations finished on 198000/227241 queries. users per second: 31348.9"
      ]
     },
     "metadata": {},
     "output_type": "display_data"
    },
    {
     "data": {
      "text/html": [
       "<pre>recommendations finished on 199000/227241 queries. users per second: 31374.9</pre>"
      ],
      "text/plain": [
       "recommendations finished on 199000/227241 queries. users per second: 31374.9"
      ]
     },
     "metadata": {},
     "output_type": "display_data"
    },
    {
     "data": {
      "text/html": [
       "<pre>recommendations finished on 200000/227241 queries. users per second: 31402.3</pre>"
      ],
      "text/plain": [
       "recommendations finished on 200000/227241 queries. users per second: 31402.3"
      ]
     },
     "metadata": {},
     "output_type": "display_data"
    },
    {
     "data": {
      "text/html": [
       "<pre>recommendations finished on 201000/227241 queries. users per second: 31435.1</pre>"
      ],
      "text/plain": [
       "recommendations finished on 201000/227241 queries. users per second: 31435.1"
      ]
     },
     "metadata": {},
     "output_type": "display_data"
    },
    {
     "data": {
      "text/html": [
       "<pre>recommendations finished on 202000/227241 queries. users per second: 31468.1</pre>"
      ],
      "text/plain": [
       "recommendations finished on 202000/227241 queries. users per second: 31468.1"
      ]
     },
     "metadata": {},
     "output_type": "display_data"
    },
    {
     "data": {
      "text/html": [
       "<pre>recommendations finished on 203000/227241 queries. users per second: 31487.5</pre>"
      ],
      "text/plain": [
       "recommendations finished on 203000/227241 queries. users per second: 31487.5"
      ]
     },
     "metadata": {},
     "output_type": "display_data"
    },
    {
     "data": {
      "text/html": [
       "<pre>recommendations finished on 204000/227241 queries. users per second: 31515.2</pre>"
      ],
      "text/plain": [
       "recommendations finished on 204000/227241 queries. users per second: 31515.2"
      ]
     },
     "metadata": {},
     "output_type": "display_data"
    },
    {
     "data": {
      "text/html": [
       "<pre>recommendations finished on 205000/227241 queries. users per second: 31490.9</pre>"
      ],
      "text/plain": [
       "recommendations finished on 205000/227241 queries. users per second: 31490.9"
      ]
     },
     "metadata": {},
     "output_type": "display_data"
    },
    {
     "data": {
      "text/html": [
       "<pre>recommendations finished on 206000/227241 queries. users per second: 31485.5</pre>"
      ],
      "text/plain": [
       "recommendations finished on 206000/227241 queries. users per second: 31485.5"
      ]
     },
     "metadata": {},
     "output_type": "display_data"
    },
    {
     "data": {
      "text/html": [
       "<pre>recommendations finished on 207000/227241 queries. users per second: 31454.7</pre>"
      ],
      "text/plain": [
       "recommendations finished on 207000/227241 queries. users per second: 31454.7"
      ]
     },
     "metadata": {},
     "output_type": "display_data"
    },
    {
     "data": {
      "text/html": [
       "<pre>recommendations finished on 208000/227241 queries. users per second: 31381.2</pre>"
      ],
      "text/plain": [
       "recommendations finished on 208000/227241 queries. users per second: 31381.2"
      ]
     },
     "metadata": {},
     "output_type": "display_data"
    },
    {
     "data": {
      "text/html": [
       "<pre>recommendations finished on 209000/227241 queries. users per second: 31244</pre>"
      ],
      "text/plain": [
       "recommendations finished on 209000/227241 queries. users per second: 31244"
      ]
     },
     "metadata": {},
     "output_type": "display_data"
    },
    {
     "data": {
      "text/html": [
       "<pre>recommendations finished on 210000/227241 queries. users per second: 31190.7</pre>"
      ],
      "text/plain": [
       "recommendations finished on 210000/227241 queries. users per second: 31190.7"
      ]
     },
     "metadata": {},
     "output_type": "display_data"
    },
    {
     "data": {
      "text/html": [
       "<pre>recommendations finished on 211000/227241 queries. users per second: 31217.1</pre>"
      ],
      "text/plain": [
       "recommendations finished on 211000/227241 queries. users per second: 31217.1"
      ]
     },
     "metadata": {},
     "output_type": "display_data"
    },
    {
     "data": {
      "text/html": [
       "<pre>recommendations finished on 212000/227241 queries. users per second: 31257</pre>"
      ],
      "text/plain": [
       "recommendations finished on 212000/227241 queries. users per second: 31257"
      ]
     },
     "metadata": {},
     "output_type": "display_data"
    },
    {
     "data": {
      "text/html": [
       "<pre>recommendations finished on 213000/227241 queries. users per second: 31301.8</pre>"
      ],
      "text/plain": [
       "recommendations finished on 213000/227241 queries. users per second: 31301.8"
      ]
     },
     "metadata": {},
     "output_type": "display_data"
    },
    {
     "data": {
      "text/html": [
       "<pre>recommendations finished on 214000/227241 queries. users per second: 31341.9</pre>"
      ],
      "text/plain": [
       "recommendations finished on 214000/227241 queries. users per second: 31341.9"
      ]
     },
     "metadata": {},
     "output_type": "display_data"
    },
    {
     "data": {
      "text/html": [
       "<pre>recommendations finished on 215000/227241 queries. users per second: 31369</pre>"
      ],
      "text/plain": [
       "recommendations finished on 215000/227241 queries. users per second: 31369"
      ]
     },
     "metadata": {},
     "output_type": "display_data"
    },
    {
     "data": {
      "text/html": [
       "<pre>recommendations finished on 216000/227241 queries. users per second: 31400.7</pre>"
      ],
      "text/plain": [
       "recommendations finished on 216000/227241 queries. users per second: 31400.7"
      ]
     },
     "metadata": {},
     "output_type": "display_data"
    },
    {
     "data": {
      "text/html": [
       "<pre>recommendations finished on 217000/227241 queries. users per second: 31442.7</pre>"
      ],
      "text/plain": [
       "recommendations finished on 217000/227241 queries. users per second: 31442.7"
      ]
     },
     "metadata": {},
     "output_type": "display_data"
    },
    {
     "data": {
      "text/html": [
       "<pre>recommendations finished on 218000/227241 queries. users per second: 31484.4</pre>"
      ],
      "text/plain": [
       "recommendations finished on 218000/227241 queries. users per second: 31484.4"
      ]
     },
     "metadata": {},
     "output_type": "display_data"
    },
    {
     "data": {
      "text/html": [
       "<pre>recommendations finished on 219000/227241 queries. users per second: 31514.8</pre>"
      ],
      "text/plain": [
       "recommendations finished on 219000/227241 queries. users per second: 31514.8"
      ]
     },
     "metadata": {},
     "output_type": "display_data"
    },
    {
     "data": {
      "text/html": [
       "<pre>recommendations finished on 220000/227241 queries. users per second: 31554.1</pre>"
      ],
      "text/plain": [
       "recommendations finished on 220000/227241 queries. users per second: 31554.1"
      ]
     },
     "metadata": {},
     "output_type": "display_data"
    },
    {
     "data": {
      "text/html": [
       "<pre>recommendations finished on 221000/227241 queries. users per second: 31551.7</pre>"
      ],
      "text/plain": [
       "recommendations finished on 221000/227241 queries. users per second: 31551.7"
      ]
     },
     "metadata": {},
     "output_type": "display_data"
    },
    {
     "data": {
      "text/html": [
       "<pre>recommendations finished on 222000/227241 queries. users per second: 31536.9</pre>"
      ],
      "text/plain": [
       "recommendations finished on 222000/227241 queries. users per second: 31536.9"
      ]
     },
     "metadata": {},
     "output_type": "display_data"
    },
    {
     "data": {
      "text/html": [
       "<pre>recommendations finished on 223000/227241 queries. users per second: 31540.2</pre>"
      ],
      "text/plain": [
       "recommendations finished on 223000/227241 queries. users per second: 31540.2"
      ]
     },
     "metadata": {},
     "output_type": "display_data"
    },
    {
     "data": {
      "text/html": [
       "<pre>recommendations finished on 224000/227241 queries. users per second: 31477.8</pre>"
      ],
      "text/plain": [
       "recommendations finished on 224000/227241 queries. users per second: 31477.8"
      ]
     },
     "metadata": {},
     "output_type": "display_data"
    },
    {
     "data": {
      "text/html": [
       "<pre>recommendations finished on 225000/227241 queries. users per second: 31324.4</pre>"
      ],
      "text/plain": [
       "recommendations finished on 225000/227241 queries. users per second: 31324.4"
      ]
     },
     "metadata": {},
     "output_type": "display_data"
    },
    {
     "data": {
      "text/html": [
       "<pre>recommendations finished on 226000/227241 queries. users per second: 31242.9</pre>"
      ],
      "text/plain": [
       "recommendations finished on 226000/227241 queries. users per second: 31242.9"
      ]
     },
     "metadata": {},
     "output_type": "display_data"
    },
    {
     "data": {
      "text/html": [
       "<pre>recommendations finished on 227000/227241 queries. users per second: 31125.4</pre>"
      ],
      "text/plain": [
       "recommendations finished on 227000/227241 queries. users per second: 31125.4"
      ]
     },
     "metadata": {},
     "output_type": "display_data"
    }
   ],
   "source": [
    "# get recommendation\n",
    "pop_result = pop_rec.recommend()"
   ]
  },
  {
   "cell_type": "code",
   "execution_count": 45,
   "metadata": {},
   "outputs": [
    {
     "name": "stdout",
     "output_type": "stream",
     "text": [
      "+------------------------+------------------------+-------+-----+\n",
      "|        user_id         |      business_id       | score | ... |\n",
      "+------------------------+------------------------+-------+-----+\n",
      "| oFyOUOeGTRZhFPF9uTqrTQ | irVqdCcmeO_Qhz8YcwaxOA |  5.0  | ... |\n",
      "| oFyOUOeGTRZhFPF9uTqrTQ | ikR7b7j-Dw8VOEztNT4oLw |  5.0  | ... |\n",
      "| oFyOUOeGTRZhFPF9uTqrTQ | V9eIbZwaOJ7YeMy5bPVm6w |  5.0  | ... |\n",
      "| oFyOUOeGTRZhFPF9uTqrTQ | V6u7__4jbEDOgWR8K6qUSw |  5.0  | ... |\n",
      "| oFyOUOeGTRZhFPF9uTqrTQ | U4ZvCExEi8Chtzu9IVrkCg |  5.0  | ... |\n",
      "| oFyOUOeGTRZhFPF9uTqrTQ | iQOjQH30LFsj6aO3wJG7nQ |  5.0  | ... |\n",
      "| oFyOUOeGTRZhFPF9uTqrTQ | i5vy3X8WBjQ-F7P8HqC7KA |  5.0  | ... |\n",
      "| oFyOUOeGTRZhFPF9uTqrTQ | hkbZCioL7TkHLZuTXf-5fQ |  5.0  | ... |\n",
      "| oFyOUOeGTRZhFPF9uTqrTQ | 096iGHoQ-UImxUExuyqlZA |  5.0  | ... |\n",
      "| oFyOUOeGTRZhFPF9uTqrTQ | -UtYWvCnUppcSaC_u1pTYQ |  5.0  | ... |\n",
      "| 2aeNFntqY2QDZLADNo8iQQ | irVqdCcmeO_Qhz8YcwaxOA |  5.0  | ... |\n",
      "| 2aeNFntqY2QDZLADNo8iQQ | ikR7b7j-Dw8VOEztNT4oLw |  5.0  | ... |\n",
      "| 2aeNFntqY2QDZLADNo8iQQ | V9eIbZwaOJ7YeMy5bPVm6w |  5.0  | ... |\n",
      "| 2aeNFntqY2QDZLADNo8iQQ | V6u7__4jbEDOgWR8K6qUSw |  5.0  | ... |\n",
      "| 2aeNFntqY2QDZLADNo8iQQ | U4ZvCExEi8Chtzu9IVrkCg |  5.0  | ... |\n",
      "| 2aeNFntqY2QDZLADNo8iQQ | iQOjQH30LFsj6aO3wJG7nQ |  5.0  | ... |\n",
      "| 2aeNFntqY2QDZLADNo8iQQ | i5vy3X8WBjQ-F7P8HqC7KA |  5.0  | ... |\n",
      "| 2aeNFntqY2QDZLADNo8iQQ | hkbZCioL7TkHLZuTXf-5fQ |  5.0  | ... |\n",
      "| 2aeNFntqY2QDZLADNo8iQQ | 096iGHoQ-UImxUExuyqlZA |  5.0  | ... |\n",
      "| 2aeNFntqY2QDZLADNo8iQQ | -UtYWvCnUppcSaC_u1pTYQ |  5.0  | ... |\n",
      "| gmPP4YFrgYsYQqPYokMgFA | irVqdCcmeO_Qhz8YcwaxOA |  5.0  | ... |\n",
      "| gmPP4YFrgYsYQqPYokMgFA | ikR7b7j-Dw8VOEztNT4oLw |  5.0  | ... |\n",
      "| gmPP4YFrgYsYQqPYokMgFA | V9eIbZwaOJ7YeMy5bPVm6w |  5.0  | ... |\n",
      "| gmPP4YFrgYsYQqPYokMgFA | V6u7__4jbEDOgWR8K6qUSw |  5.0  | ... |\n",
      "| gmPP4YFrgYsYQqPYokMgFA | U4ZvCExEi8Chtzu9IVrkCg |  5.0  | ... |\n",
      "| gmPP4YFrgYsYQqPYokMgFA | iQOjQH30LFsj6aO3wJG7nQ |  5.0  | ... |\n",
      "| gmPP4YFrgYsYQqPYokMgFA | i5vy3X8WBjQ-F7P8HqC7KA |  5.0  | ... |\n",
      "| gmPP4YFrgYsYQqPYokMgFA | hkbZCioL7TkHLZuTXf-5fQ |  5.0  | ... |\n",
      "| gmPP4YFrgYsYQqPYokMgFA | 096iGHoQ-UImxUExuyqlZA |  5.0  | ... |\n",
      "| gmPP4YFrgYsYQqPYokMgFA | -UtYWvCnUppcSaC_u1pTYQ |  5.0  | ... |\n",
      "+------------------------+------------------------+-------+-----+\n",
      "[2272410 rows x 4 columns]\n",
      "\n"
     ]
    }
   ],
   "source": [
    "pop_result.print_rows(num_rows=30, num_columns=3) # everyone is recommended with the most popular business_id"
   ]
  },
  {
   "cell_type": "code",
   "execution_count": null,
   "metadata": {
    "collapsed": true
   },
   "outputs": [],
   "source": []
  },
  {
   "cell_type": "code",
   "execution_count": null,
   "metadata": {
    "collapsed": true
   },
   "outputs": [],
   "source": []
  }
 ],
 "metadata": {
  "anaconda-cloud": {},
  "kernelspec": {
   "display_name": "Python [conda env:gl-env]",
   "language": "python",
   "name": "conda-env-gl-env-py"
  },
  "language_info": {
   "codemirror_mode": {
    "name": "ipython",
    "version": 2
   },
   "file_extension": ".py",
   "mimetype": "text/x-python",
   "name": "python",
   "nbconvert_exporter": "python",
   "pygments_lexer": "ipython2",
   "version": "2.7.11"
  }
 },
 "nbformat": 4,
 "nbformat_minor": 1
}
