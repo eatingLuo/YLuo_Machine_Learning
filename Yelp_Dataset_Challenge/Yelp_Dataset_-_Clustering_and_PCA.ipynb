{
 "cells": [
  {
   "cell_type": "markdown",
   "metadata": {},
   "source": [
    "# Section 3: Yelp Data Challenge - Clustering and PCA\n",
    "\n",
    "Yiting Luo | Data Science Applied Research - 3\n",
    "\n",
    "May 2018"
   ]
  },
  {
   "cell_type": "code",
   "execution_count": 1,
   "metadata": {
    "collapsed": true
   },
   "outputs": [],
   "source": [
    "import pandas as pd\n",
    "import numpy as np\n",
    "import matplotlib.pyplot as plt\n",
    "% matplotlib inline\n",
    "plt.style.use(\"ggplot\")"
   ]
  },
  {
   "cell_type": "code",
   "execution_count": 2,
   "metadata": {
    "collapsed": true
   },
   "outputs": [],
   "source": [
    "df = pd.read_csv('dataset/last_2_years_restaurant_reviews.csv')"
   ]
  },
  {
   "cell_type": "code",
   "execution_count": 3,
   "metadata": {},
   "outputs": [
    {
     "data": {
      "text/html": [
       "<div>\n",
       "<style>\n",
       "    .dataframe thead tr:only-child th {\n",
       "        text-align: right;\n",
       "    }\n",
       "\n",
       "    .dataframe thead th {\n",
       "        text-align: left;\n",
       "    }\n",
       "\n",
       "    .dataframe tbody tr th {\n",
       "        vertical-align: top;\n",
       "    }\n",
       "</style>\n",
       "<table border=\"1\" class=\"dataframe\">\n",
       "  <thead>\n",
       "    <tr style=\"text-align: right;\">\n",
       "      <th></th>\n",
       "      <th>business_id</th>\n",
       "      <th>name</th>\n",
       "      <th>categories</th>\n",
       "      <th>avg_stars</th>\n",
       "      <th>cool</th>\n",
       "      <th>date</th>\n",
       "      <th>funny</th>\n",
       "      <th>review_id</th>\n",
       "      <th>stars</th>\n",
       "      <th>text</th>\n",
       "      <th>useful</th>\n",
       "      <th>user_id</th>\n",
       "    </tr>\n",
       "  </thead>\n",
       "  <tbody>\n",
       "    <tr>\n",
       "      <th>0</th>\n",
       "      <td>--9e1ONYQuAa-CB_Rrw7Tw</td>\n",
       "      <td>Delmonico Steakhouse</td>\n",
       "      <td>['Cajun/Creole', 'Steakhouses', 'Restaurants']</td>\n",
       "      <td>4.0</td>\n",
       "      <td>0</td>\n",
       "      <td>2016-03-31</td>\n",
       "      <td>0</td>\n",
       "      <td>6SgvNWJltnZhW7duJgZ42w</td>\n",
       "      <td>5</td>\n",
       "      <td>This is mine and my fiancé's favorite steakhou...</td>\n",
       "      <td>0</td>\n",
       "      <td>oFyOUOeGTRZhFPF9uTqrTQ</td>\n",
       "    </tr>\n",
       "    <tr>\n",
       "      <th>1</th>\n",
       "      <td>--9e1ONYQuAa-CB_Rrw7Tw</td>\n",
       "      <td>Delmonico Steakhouse</td>\n",
       "      <td>['Cajun/Creole', 'Steakhouses', 'Restaurants']</td>\n",
       "      <td>4.0</td>\n",
       "      <td>0</td>\n",
       "      <td>2015-06-29</td>\n",
       "      <td>0</td>\n",
       "      <td>iwx6s6yQxc7yjS7NFANZig</td>\n",
       "      <td>4</td>\n",
       "      <td>Nice atmosphere and wonderful service. I had t...</td>\n",
       "      <td>0</td>\n",
       "      <td>2aeNFntqY2QDZLADNo8iQQ</td>\n",
       "    </tr>\n",
       "    <tr>\n",
       "      <th>2</th>\n",
       "      <td>--9e1ONYQuAa-CB_Rrw7Tw</td>\n",
       "      <td>Delmonico Steakhouse</td>\n",
       "      <td>['Cajun/Creole', 'Steakhouses', 'Restaurants']</td>\n",
       "      <td>4.0</td>\n",
       "      <td>0</td>\n",
       "      <td>2015-03-16</td>\n",
       "      <td>0</td>\n",
       "      <td>UVUMu_bELdA56Ryfbur-DA</td>\n",
       "      <td>5</td>\n",
       "      <td>Every year a group of us (we had 6 this year) ...</td>\n",
       "      <td>1</td>\n",
       "      <td>gmPP4YFrgYsYQqPYokMgFA</td>\n",
       "    </tr>\n",
       "    <tr>\n",
       "      <th>3</th>\n",
       "      <td>--9e1ONYQuAa-CB_Rrw7Tw</td>\n",
       "      <td>Delmonico Steakhouse</td>\n",
       "      <td>['Cajun/Creole', 'Steakhouses', 'Restaurants']</td>\n",
       "      <td>4.0</td>\n",
       "      <td>0</td>\n",
       "      <td>2016-02-10</td>\n",
       "      <td>0</td>\n",
       "      <td>UxFpgng8dPMWOj99653k5Q</td>\n",
       "      <td>5</td>\n",
       "      <td>Truly Fantastic!  Best Steak ever. Service was...</td>\n",
       "      <td>0</td>\n",
       "      <td>aVOGlN9fZ-BXcbtj6dbf0g</td>\n",
       "    </tr>\n",
       "    <tr>\n",
       "      <th>4</th>\n",
       "      <td>--9e1ONYQuAa-CB_Rrw7Tw</td>\n",
       "      <td>Delmonico Steakhouse</td>\n",
       "      <td>['Cajun/Creole', 'Steakhouses', 'Restaurants']</td>\n",
       "      <td>4.0</td>\n",
       "      <td>0</td>\n",
       "      <td>2017-02-14</td>\n",
       "      <td>0</td>\n",
       "      <td>Xp3ppynEvVu1KxDHQ3ae8w</td>\n",
       "      <td>5</td>\n",
       "      <td>Delmonico Steakhouse is a steakhouse owned by ...</td>\n",
       "      <td>0</td>\n",
       "      <td>KC8H7qTZVPIEnanw9fG43g</td>\n",
       "    </tr>\n",
       "  </tbody>\n",
       "</table>\n",
       "</div>"
      ],
      "text/plain": [
       "              business_id                  name  \\\n",
       "0  --9e1ONYQuAa-CB_Rrw7Tw  Delmonico Steakhouse   \n",
       "1  --9e1ONYQuAa-CB_Rrw7Tw  Delmonico Steakhouse   \n",
       "2  --9e1ONYQuAa-CB_Rrw7Tw  Delmonico Steakhouse   \n",
       "3  --9e1ONYQuAa-CB_Rrw7Tw  Delmonico Steakhouse   \n",
       "4  --9e1ONYQuAa-CB_Rrw7Tw  Delmonico Steakhouse   \n",
       "\n",
       "                                       categories  avg_stars  cool  \\\n",
       "0  ['Cajun/Creole', 'Steakhouses', 'Restaurants']        4.0     0   \n",
       "1  ['Cajun/Creole', 'Steakhouses', 'Restaurants']        4.0     0   \n",
       "2  ['Cajun/Creole', 'Steakhouses', 'Restaurants']        4.0     0   \n",
       "3  ['Cajun/Creole', 'Steakhouses', 'Restaurants']        4.0     0   \n",
       "4  ['Cajun/Creole', 'Steakhouses', 'Restaurants']        4.0     0   \n",
       "\n",
       "         date  funny               review_id  stars  \\\n",
       "0  2016-03-31      0  6SgvNWJltnZhW7duJgZ42w      5   \n",
       "1  2015-06-29      0  iwx6s6yQxc7yjS7NFANZig      4   \n",
       "2  2015-03-16      0  UVUMu_bELdA56Ryfbur-DA      5   \n",
       "3  2016-02-10      0  UxFpgng8dPMWOj99653k5Q      5   \n",
       "4  2017-02-14      0  Xp3ppynEvVu1KxDHQ3ae8w      5   \n",
       "\n",
       "                                                text  useful  \\\n",
       "0  This is mine and my fiancé's favorite steakhou...       0   \n",
       "1  Nice atmosphere and wonderful service. I had t...       0   \n",
       "2  Every year a group of us (we had 6 this year) ...       1   \n",
       "3  Truly Fantastic!  Best Steak ever. Service was...       0   \n",
       "4  Delmonico Steakhouse is a steakhouse owned by ...       0   \n",
       "\n",
       "                  user_id  \n",
       "0  oFyOUOeGTRZhFPF9uTqrTQ  \n",
       "1  2aeNFntqY2QDZLADNo8iQQ  \n",
       "2  gmPP4YFrgYsYQqPYokMgFA  \n",
       "3  aVOGlN9fZ-BXcbtj6dbf0g  \n",
       "4  KC8H7qTZVPIEnanw9fG43g  "
      ]
     },
     "execution_count": 3,
     "metadata": {},
     "output_type": "execute_result"
    }
   ],
   "source": [
    "df.head()"
   ]
  },
  {
   "cell_type": "markdown",
   "metadata": {},
   "source": [
    "## 1. Cluster the review text data for all the restaurants"
   ]
  },
  {
   "cell_type": "markdown",
   "metadata": {},
   "source": [
    "### Define feature variables, here is the text of the review"
   ]
  },
  {
   "cell_type": "code",
   "execution_count": 4,
   "metadata": {
    "collapsed": true
   },
   "outputs": [],
   "source": [
    "# Take the values of the column that contains review text data, save to a variable named \"documents\"\n",
    "documents = df['text'].values"
   ]
  },
  {
   "cell_type": "markdown",
   "metadata": {},
   "source": [
    "### Define target variable (any categorical variable that may be meaningful)"
   ]
  },
  {
   "cell_type": "markdown",
   "metadata": {},
   "source": [
    "#### For example, I am interested in perfect (5 stars) and imperfect (1-4 stars) rating"
   ]
  },
  {
   "cell_type": "code",
   "execution_count": 5,
   "metadata": {
    "collapsed": true
   },
   "outputs": [],
   "source": [
    "# Make a column and take the values, save to a variable named \"target\"\n",
    "df['favorable'] = df['stars'] > 4\n",
    "target = df['favorable'].values"
   ]
  },
  {
   "cell_type": "code",
   "execution_count": 6,
   "metadata": {},
   "outputs": [
    {
     "data": {
      "text/plain": [
       "array([ True, False,  True,  True,  True, False,  True,  True,  True,\n",
       "       False])"
      ]
     },
     "execution_count": 6,
     "metadata": {},
     "output_type": "execute_result"
    }
   ],
   "source": [
    "target[:10]"
   ]
  },
  {
   "cell_type": "markdown",
   "metadata": {},
   "source": [
    "#### look at the statistic of the target variable"
   ]
  },
  {
   "cell_type": "code",
   "execution_count": 7,
   "metadata": {},
   "outputs": [
    {
     "data": {
      "text/plain": [
       "0.46397299477268145"
      ]
     },
     "execution_count": 7,
     "metadata": {},
     "output_type": "execute_result"
    }
   ],
   "source": [
    "# To be implemented\n",
    "target.mean()"
   ]
  },
  {
   "cell_type": "markdown",
   "metadata": {},
   "source": [
    "### Create training dataset and test dataset"
   ]
  },
  {
   "cell_type": "code",
   "execution_count": 8,
   "metadata": {},
   "outputs": [
    {
     "name": "stderr",
     "output_type": "stream",
     "text": [
      "/Users/luoyiting/anaconda/lib/python3.5/site-packages/sklearn/cross_validation.py:44: DeprecationWarning: This module was deprecated in version 0.18 in favor of the model_selection module into which all the refactored classes and functions are moved. Also note that the interface of the new CV iterators are different from that of this module. This module will be removed in 0.20.\n",
      "  \"This module will be removed in 0.20.\", DeprecationWarning)\n"
     ]
    }
   ],
   "source": [
    "from sklearn.cross_validation import train_test_split"
   ]
  },
  {
   "cell_type": "code",
   "execution_count": 9,
   "metadata": {
    "collapsed": true
   },
   "outputs": [],
   "source": [
    "# documents is X, target is y\n",
    "# Now split the data to training set and test set\n",
    "documents_train, documents_test, target_train, target_test = train_test_split(\n",
    "    documents, target, test_size = 0.95, random_state = 42\n",
    ")"
   ]
  },
  {
   "cell_type": "markdown",
   "metadata": {},
   "source": [
    "### Get NLP representation of the documents\n",
    "\n",
    "#### Fit TfidfVectorizer with training data only, then tranform all the data to tf-idf"
   ]
  },
  {
   "cell_type": "code",
   "execution_count": 10,
   "metadata": {
    "collapsed": true
   },
   "outputs": [],
   "source": [
    "from sklearn.feature_extraction.text import TfidfVectorizer"
   ]
  },
  {
   "cell_type": "code",
   "execution_count": 11,
   "metadata": {
    "collapsed": true
   },
   "outputs": [],
   "source": [
    "# Create TfidfVectorizer, and name it vectorizer, choose a reasonable max_features\n",
    "vectorizer = TfidfVectorizer(stop_words = 'english', max_features = 1000)"
   ]
  },
  {
   "cell_type": "code",
   "execution_count": 12,
   "metadata": {},
   "outputs": [
    {
     "name": "stderr",
     "output_type": "stream",
     "text": [
      "/Users/luoyiting/anaconda/lib/python3.5/site-packages/sklearn/feature_extraction/text.py:1059: FutureWarning: Conversion of the second argument of issubdtype from `float` to `np.floating` is deprecated. In future, it will be treated as `np.float64 == np.dtype(float).type`.\n",
      "  if hasattr(X, 'dtype') and np.issubdtype(X.dtype, np.float):\n"
     ]
    }
   ],
   "source": [
    "# Train the model with training data\n",
    "vectors_train = vectorizer.fit_transform(documents_train).toarray() # toarray avoid sparse matrix"
   ]
  },
  {
   "cell_type": "code",
   "execution_count": 13,
   "metadata": {
    "collapsed": true
   },
   "outputs": [],
   "source": [
    "# Get the vocab of tfidf\n",
    "words = vectorizer.get_feature_names()"
   ]
  },
  {
   "cell_type": "code",
   "execution_count": 14,
   "metadata": {},
   "outputs": [
    {
     "name": "stderr",
     "output_type": "stream",
     "text": [
      "/Users/luoyiting/anaconda/lib/python3.5/site-packages/sklearn/feature_extraction/text.py:1059: FutureWarning: Conversion of the second argument of issubdtype from `float` to `np.floating` is deprecated. In future, it will be treated as `np.float64 == np.dtype(float).type`.\n",
      "  if hasattr(X, 'dtype') and np.issubdtype(X.dtype, np.float):\n"
     ]
    }
   ],
   "source": [
    "# Use the trained model to transform all the reviews\n",
    "vectors_documents = vectorizer.transform(documents).toarray()"
   ]
  },
  {
   "cell_type": "markdown",
   "metadata": {},
   "source": [
    "### Cluster reviews with KMeans"
   ]
  },
  {
   "cell_type": "markdown",
   "metadata": {},
   "source": [
    "#### Fit k-means clustering with the training vectors and apply it on all the data"
   ]
  },
  {
   "cell_type": "code",
   "execution_count": 15,
   "metadata": {},
   "outputs": [
    {
     "data": {
      "text/plain": [
       "KMeans(algorithm='auto', copy_x=True, init='k-means++', max_iter=300,\n",
       "    n_clusters=8, n_init=10, n_jobs=1, precompute_distances='auto',\n",
       "    random_state=None, tol=0.0001, verbose=0)"
      ]
     },
     "execution_count": 15,
     "metadata": {},
     "output_type": "execute_result"
    }
   ],
   "source": [
    "from sklearn.cluster import KMeans\n",
    "kmeans = KMeans()\n",
    "kmeans.fit(vectors_train)"
   ]
  },
  {
   "cell_type": "markdown",
   "metadata": {},
   "source": [
    "#### Make predictions on all your data"
   ]
  },
  {
   "cell_type": "code",
   "execution_count": 16,
   "metadata": {
    "collapsed": true
   },
   "outputs": [],
   "source": [
    "assigned_cluster = kmeans.predict(vectors_documents)"
   ]
  },
  {
   "cell_type": "markdown",
   "metadata": {},
   "source": [
    "#### Inspect the centroids\n",
    "To find out what \"topics\" Kmeans has discovered we must inspect the centroids. Print out the centroids of the Kmeans clustering.\n",
    "\n",
    "   These centroids are simply a bunch of vectors.  To make any sense of them we need to map these vectors back into our 'word space'.  Think of each feature/dimension of the centroid vector as representing the \"average\" review or the average occurances of words for that cluster."
   ]
  },
  {
   "cell_type": "code",
   "execution_count": 17,
   "metadata": {},
   "outputs": [
    {
     "name": "stdout",
     "output_type": "stream",
     "text": [
      "cluster centers:\n",
      "(8, 1000)\n"
     ]
    }
   ],
   "source": [
    "# cluster centers shape\n",
    "print (\"cluster centers:\")\n",
    "print (kmeans.cluster_centers_.shape)\n",
    "\n",
    "n_feat = 10\n",
    "top_centroids = kmeans.cluster_centers_.argsort()[:, -1:-n_feat:-1]"
   ]
  },
  {
   "cell_type": "code",
   "execution_count": 18,
   "metadata": {},
   "outputs": [
    {
     "data": {
      "text/plain": [
       "(8, 9)"
      ]
     },
     "execution_count": 18,
     "metadata": {},
     "output_type": "execute_result"
    }
   ],
   "source": [
    "top_centroids.shape"
   ]
  },
  {
   "cell_type": "markdown",
   "metadata": {},
   "source": [
    "#### Find the top 10 features for each cluster.\n",
    "For topics we are only really interested in the most present words, i.e. features/dimensions with the greatest representation in the centroid.  Print out the top ten words for each centroid.\n",
    "\n",
    "* Sort each centroid vector to find the top 10 features\n",
    "* Go back to your vectorizer object to find out what words each of these features corresponds to.\n"
   ]
  },
  {
   "cell_type": "code",
   "execution_count": 19,
   "metadata": {},
   "outputs": [
    {
     "name": "stdout",
     "output_type": "stream",
     "text": [
      "top features for each cluster:\n",
      "0: place,food,best,vegas,amazing,delicious,love,service,definitely\n",
      "1: pizza,crust,good,place,great,slice,cheese,just,like\n",
      "2: food,order,just,time,service,like,minutes,got,didn\n",
      "3: chicken,fried,rice,good,food,ordered,place,sauce,like\n",
      "4: great,food,service,place,amazing,awesome,friendly,staff,atmosphere\n",
      "5: burger,fries,burgers,good,shake,cheese,place,great,food\n",
      "6: good,food,really,place,service,nice,pretty,like,great\n",
      "7: sushi,rolls,place,roll,ayce,good,great,service,eat\n"
     ]
    }
   ],
   "source": [
    "print (\"top features for each cluster:\")\n",
    "for num, centroid in enumerate(top_centroids):\n",
    "    print (\"%d: %s\" % (num, \",\".join(words[i] for i in centroid)))"
   ]
  },
  {
   "cell_type": "markdown",
   "metadata": {},
   "source": [
    "#### Try different k\n",
    "If set k == to a different number, the top features will change?"
   ]
  },
  {
   "cell_type": "code",
   "execution_count": 20,
   "metadata": {},
   "outputs": [
    {
     "data": {
      "text/plain": [
       "KMeans(algorithm='auto', copy_x=True, init='k-means++', max_iter=300,\n",
       "    n_clusters=6, n_init=10, n_jobs=1, precompute_distances='auto',\n",
       "    random_state=None, tol=0.0001, verbose=0)"
      ]
     },
     "execution_count": 20,
     "metadata": {},
     "output_type": "execute_result"
    }
   ],
   "source": [
    "# cluster to 6 clusters\n",
    "kmeans = KMeans(n_clusters = 6)\n",
    "kmeans.fit(vectors_train)"
   ]
  },
  {
   "cell_type": "code",
   "execution_count": 21,
   "metadata": {},
   "outputs": [
    {
     "name": "stdout",
     "output_type": "stream",
     "text": [
      "top features for each cluster:\n",
      "0: place,food,best,vegas,amazing,love,delicious,service,good\n",
      "1: food,order,just,time,service,like,minutes,place,got\n",
      "2: pizza,good,crust,place,great,slice,cheese,just,like\n",
      "3: great,food,service,place,good,amazing,friendly,awesome,staff\n",
      "4: good,chicken,food,really,ordered,like,place,rice,sauce\n",
      "5: burger,fries,burgers,good,shake,cheese,place,great,food\n"
     ]
    }
   ],
   "source": [
    "assigned_cluster = kmeans.predict(vectors_documents)\n",
    "\n",
    "n_feat = 10\n",
    "top_centroids = kmeans.cluster_centers_.argsort()[:, -1:-n_feat:-1]\n",
    "\n",
    "print (\"top features for each cluster:\")\n",
    "for num, centroid in enumerate(top_centroids):\n",
    "    print (\"%d: %s\" % (num, \",\".join(words[i] for i in centroid)))"
   ]
  },
  {
   "cell_type": "markdown",
   "metadata": {},
   "source": [
    "#### Print out the rating and review of a random sample of the reviews assigned to each cluster to get a sense of the cluster."
   ]
  },
  {
   "cell_type": "code",
   "execution_count": 22,
   "metadata": {
    "scrolled": false
   },
   "outputs": [
    {
     "name": "stdout",
     "output_type": "stream",
     "text": [
      "==========\n",
      "Cluster 0:\n",
      "  5 -  \n",
      "We were planning on coming for dinner but the plan got changed and we came here for lunch instead. I ordered the seafood pasta and it was so yummy!!!!!!! The flavor is perfect with all the seafood I love! The price is not too night for such a nice restaurant! I will definitely come back for there steak next time in Vegas!\n",
      "  5 -  \n",
      "Super fun. The food is amazing. Step outside your comfort zone and try Blackout. You won't be disappointed.\n",
      "==========\n",
      "Cluster 1:\n",
      "  4 -  \n",
      "Been at this place couple times and every time still like the first time. Meat quality is perfect! even without marinated. You had my 5* but your server messed up!!!! \n",
      "\n",
      "Ordered a bottle of soju me both me and cousin, I.D. check! of course no complain on that. I'm 22 and my cousin is 28. The server looked at my I.D. and gave it back, then looked at my cousin's then surprisingly asked him \" You're older than him( who is me )?!?!? \". Deep down in my heart, I died a little bit :( only a bottle of soju you dont have to make me feel that way :(( . \n",
      "\n",
      "Just a funny story I wanna share but love this place, will always come back.\n",
      "  3 -  \n",
      "A Chicago-based mob speakeasy, in Vegas? I was so there last Saturday night for one of my very sporadic date nights with the husband. Located in the old Hooters (yeah, I'm from Vegas, I know these things), I saw that they turned that titty-tastic 80's chicken wing place into a dark, somewhat intimate but very entertaining restaurant and lounge which adorns pictures of mafia legends of long ago. Yup, this place definitely did not resemble the raucous orange splattered nipple nightmare of years before. I was impressed. We had 8:45 pm reservations and so upon entering, you must ring the bell and low and behold, the host greets you from a small cut out in the wall above the payphone, to the right of the door and doorbell. Woo, so speakeasy. And since we had those reservations, dude had no problem letting us in. Don't know if a password is required without reservations, but one need only to check their website for more info. But I think reservations would be most advisable. \n",
      "\n",
      "Anyway, it's a good thing we had a reservation because the place was packed. We had to wait a few minutes past our reservation time. The host even admitted to us that he'd tell us to go to the bar, but considering how packed it was that night, there was no way we were getting a seat at the bar. Once we were finally seated in a booth, not far from the entrance, we waited a little bit for a server. We weren't in a hurry, we didn't have any other plans or anywhere else to be that evening, so to speak. But we were quite hungry and thirsty. \n",
      "\n",
      "Having sorta kinda studied the menu before arriving, I chose the eggplant parm and my husband tried the lasagna. We decided against any apps that night, knowing that the entrees would be more than enough. The bread basket came and there were just 5 little slices of what looked like baguette bread with cold individual foil wrapped pads of butter. I was not really impressed with that. If you're an Italian place, offer up warm breads and butter, not this airline bread and butter service! But hey, it's always been said, best not to fill up on bread. So with that, we waited for the cocktails. And because it was a speakeasy and I knew any bar hopping that we may do that night would not offer good red wine, I opted for a dirty martini with blue cheese olives and it was fabulous! The olives were perfect apps for me. The husband had his usual fancy outing drink: a Manhattan. And although dirty martinis go better with steak, I still enjoyed my eggplant parm with my drink. My husband raved about the lasagna, especially the sauce. We each took half of our food home for the next day and it warmed up beautifully. \n",
      "\n",
      "So I give it three stars only because of the pokey service and the bread basket. I'd like to give this place another go, possibly take my mom here so that she can check it out. I might even entertain having a steak with my dirty martini next time I visit.\n",
      "==========\n",
      "Cluster 2:\n",
      "  5 -  \n",
      "Stopped at the Cosmopolitan Hotel in Las Vegas to try the pizza at Secret Pizza. It's not had to find, take the escalator to the 3rd floor food area once on the 3rd floor you will see a small hallway with LP Albums on it follow it to some of the best pizza on the strip. The pizza is sold by the slice($5.00) and. Cup of soda $4.00 (free refills while eating there). The pizza tastes just like it should. It's not soggy and stands up to the last bite. I would recommend Secret Pizza to anyone who wants to taste some of the best pizza around.\n",
      "  3 -  \n",
      "Ehh more like 3.5 stars but closer to the three side than four side. \n",
      "\n",
      "I come here when I'm looking for a quick and affordable meal in Vegas, sober or drunk. It's open into the wee hours of the night which makes it a great spot to come to after a fun night of Vegas shenanigans. Expect a long wait if you're going to Vegas on a big holiday weekend or during the summer though (I've had to wait close to 40 minutes in agonizing pain before...thanks, heels).\n",
      "\n",
      "They offer a variety of pizzas, and I always go with some sort of meat combo. It's served NY style and is a perfect thin crust. Slices come out to be around $5 or more depending on the toppings your pizza has. Affordable for Vegas, but $5 for a slice of pizza is pretty ridiculous elsewhere. Their slices are also pretty greasy which is a downside and definitely doesn't sit too well especially when you're drunk off your butt; delicious for the time being but regretful afterwards. \n",
      "\n",
      "All in all, it's a good spot to come to when you're in Vegas and want a decent slice of pizza. The fact that it's \"secret\" and is located through a corridor also makes it a pretty cool spot.\n",
      "==========\n",
      "Cluster 3:\n",
      "  4 -  \n",
      "Absolutely delicious! :) My friend and I got off of work and were looking for a new place to have a few drinks. I saw the Tacos and Beer sign and the appeal was instant. \n",
      "\n",
      "The place itself has a great ambiance. Very welcoming and bartender was friendly. The food was great. I had to order more.. I had the beef adobado and the green pork. I also had the beer batter fish. Yum!!!  Margarita was delicious! I love the salt foam with tajin. that adds a great kick to it. Nachos were not all that great though.\n",
      "\n",
      "The only reason I did not give it 5 stars is due to the Happy Hour menu was extremely limited. There is a great selection of beer and hoped there would be more options on the HH menu. Just four taco options. I had to order off the HH menu to get a variety of tacos. Also the bartenders were friendly but the rest of the staff was not welcoming at all. Sitting near the service bar, all I heard were the servers taking bad about their tables. I thought that was a bit unprofessional. \n",
      "\n",
      "Regardless, I would absolutely recommend it to my friends!\n",
      "  5 -  \n",
      "Great place for dinner. Lively atmosphere, but not too loud. Very clean. Pot roast was cooked perfectly and the mashed potatoes were great. I wish more restaurants offered watermelon as a side because it was great...very sweet. The beer was perfect temp and carbonation. The waiter was friendly and attentive. Will definitely come here more often.\n",
      "==========\n",
      "Cluster 4:\n",
      "  5 -  \n",
      "My husband and I ordered the Gyro platter!! Absolutely delicious!! We are from the east coast and wanted to try the restaurant based on the reviews. The food was fresh and quickly served. The warm bread is the best! I will return before we leave.\n",
      "\n",
      "Day 2 - Just as good as Day 1. Great food!!\n",
      "  4 -  \n",
      "My husband and I stopped in for a leisurely lunch after spending a relaxing hour at the Float Centers of Nevada. If you're in the area, that's a pretty good way to start your day!\n",
      "\n",
      "We both love Thai food, and when it's our first time at a restaurant, we order our favorite dishes to see how they stack up: shrimp pad thai for me and beef pad see ew for him. Although my pad thai was too sweet for my husband's tastes, that's the way I like it. The portion was huge, and the ingredients were in perfect balance. The beef pad see ew was good, too; among the best my husband has had. They used Chinese broccoli, which is always better than the more common florets, and the beef was tender, not chewy.\n",
      "\n",
      "We also split an order of egg rolls, which were fine but unmemorable. And I had a glass of the house Riesling, which was a little sweet as Rieslings go but a good match for my spicy entree. Service was fine but a bit slow, but since we were in no hurry to get anywhere, that was no problem for us.\n",
      "\n",
      "Next time we're up for a float, I think we will float on over to Archi's for lunch. And by the looks of their weekday lunch specials (10 tasty selections, each with soup and egg roll), I think I'll try for a Friday next time out!\n",
      "==========\n",
      "Cluster 5:\n",
      "  4 -  \n",
      "Order the pork buns and the oxtail chili cheese fries because they're amazing. The pork belly buns have thick cuts of pork and egg and the oxtail chili cheese fries are piled high topped with a sweet and savory oxtail chili cheese topping and jalapenos. The burgers are decent but these two items on the menu always get me and I end up not ordering anything else. For hamburgers, I prefer Umami Burger, but their beef is high quality from the burgers I've tried. It's just that no hamburger particularly stands out enough for me to recommend.\n",
      "  3 -  \n",
      "Went here twice cause there's really nothing better in the area. Chicken pot pie was good, just a little dry. Coffee was bad (really weak). Cappuccino was bad (too much foam, and also too watery). DeLux Burger was average - did get medium rare right more or less. Good sauce for the fries. Everything in Vegas is overpriced so can't really complain about the price.\n"
     ]
    }
   ],
   "source": [
    "# random select sample from each cluster, then display samples with rating\n",
    "\n",
    "for i in range(kmeans.n_clusters):\n",
    "    cluster = np.arange(0, vectors_documents.shape[0])[assigned_cluster == i]\n",
    "    sample_reviews = np.random.choice(cluster, 2, replace = False)\n",
    "    print (\"=\" * 10)\n",
    "    print (\"Cluster %d:\" % i)\n",
    "    for review_index in sample_reviews:\n",
    "        print(\"  %s -  \" % df.iloc[review_index]['stars']),\n",
    "        print(\"%s\" % df.iloc[review_index]['text'])\n",
    "    print"
   ]
  },
  {
   "cell_type": "markdown",
   "metadata": {},
   "source": [
    "## 2. Cluster all the reviews of the most reviewed restaurant\n",
    "Find the most reviewed restaurant and analyze its reviews"
   ]
  },
  {
   "cell_type": "code",
   "execution_count": 23,
   "metadata": {},
   "outputs": [
    {
     "data": {
      "text/html": [
       "<div>\n",
       "<style>\n",
       "    .dataframe thead tr:only-child th {\n",
       "        text-align: right;\n",
       "    }\n",
       "\n",
       "    .dataframe thead th {\n",
       "        text-align: left;\n",
       "    }\n",
       "\n",
       "    .dataframe tbody tr th {\n",
       "        vertical-align: top;\n",
       "    }\n",
       "</style>\n",
       "<table border=\"1\" class=\"dataframe\">\n",
       "  <thead>\n",
       "    <tr style=\"text-align: right;\">\n",
       "      <th></th>\n",
       "      <th>index</th>\n",
       "      <th>business_id</th>\n",
       "      <th>name</th>\n",
       "      <th>categories</th>\n",
       "      <th>avg_stars</th>\n",
       "      <th>cool</th>\n",
       "      <th>date</th>\n",
       "      <th>funny</th>\n",
       "      <th>review_id</th>\n",
       "      <th>stars</th>\n",
       "      <th>text</th>\n",
       "      <th>useful</th>\n",
       "      <th>user_id</th>\n",
       "      <th>favorable</th>\n",
       "    </tr>\n",
       "  </thead>\n",
       "  <tbody>\n",
       "    <tr>\n",
       "      <th>0</th>\n",
       "      <td>228947</td>\n",
       "      <td>RESDUcs7fIiihp38-d6_6g</td>\n",
       "      <td>Bacchanal Buffet</td>\n",
       "      <td>['Sandwiches', 'Buffets', 'Restaurants', 'Brea...</td>\n",
       "      <td>4.0</td>\n",
       "      <td>0</td>\n",
       "      <td>2015-02-25</td>\n",
       "      <td>0</td>\n",
       "      <td>pWnR3FNqTq1AoaZVj6cayw</td>\n",
       "      <td>3</td>\n",
       "      <td>Date &amp; Time: Tuesday, 2/24/15 @ 2pm\\n\\nThe buf...</td>\n",
       "      <td>0</td>\n",
       "      <td>RFIZhrka0gCpiL62M5E93g</td>\n",
       "      <td>False</td>\n",
       "    </tr>\n",
       "    <tr>\n",
       "      <th>1</th>\n",
       "      <td>228948</td>\n",
       "      <td>RESDUcs7fIiihp38-d6_6g</td>\n",
       "      <td>Bacchanal Buffet</td>\n",
       "      <td>['Sandwiches', 'Buffets', 'Restaurants', 'Brea...</td>\n",
       "      <td>4.0</td>\n",
       "      <td>0</td>\n",
       "      <td>2017-07-02</td>\n",
       "      <td>0</td>\n",
       "      <td>Xci8QJaDOB7OazJIP9U0Cw</td>\n",
       "      <td>5</td>\n",
       "      <td>I'm staying at Caesar's Palace for 4th of July...</td>\n",
       "      <td>0</td>\n",
       "      <td>J90_7u_8vPYa03GMohNxAA</td>\n",
       "      <td>True</td>\n",
       "    </tr>\n",
       "    <tr>\n",
       "      <th>2</th>\n",
       "      <td>228949</td>\n",
       "      <td>RESDUcs7fIiihp38-d6_6g</td>\n",
       "      <td>Bacchanal Buffet</td>\n",
       "      <td>['Sandwiches', 'Buffets', 'Restaurants', 'Brea...</td>\n",
       "      <td>4.0</td>\n",
       "      <td>0</td>\n",
       "      <td>2015-12-29</td>\n",
       "      <td>0</td>\n",
       "      <td>IZO6o6l-T8VKH-4eTzJNzw</td>\n",
       "      <td>3</td>\n",
       "      <td>Great buffet and beautiful food presentation. ...</td>\n",
       "      <td>0</td>\n",
       "      <td>KGGA28eimhhOgHmSfyhEgw</td>\n",
       "      <td>False</td>\n",
       "    </tr>\n",
       "    <tr>\n",
       "      <th>3</th>\n",
       "      <td>228950</td>\n",
       "      <td>RESDUcs7fIiihp38-d6_6g</td>\n",
       "      <td>Bacchanal Buffet</td>\n",
       "      <td>['Sandwiches', 'Buffets', 'Restaurants', 'Brea...</td>\n",
       "      <td>4.0</td>\n",
       "      <td>0</td>\n",
       "      <td>2016-03-19</td>\n",
       "      <td>0</td>\n",
       "      <td>KNYBYYO0Iq1QEsP4noql5g</td>\n",
       "      <td>4</td>\n",
       "      <td>By far the best buffet in Vegas!! A must stop,...</td>\n",
       "      <td>2</td>\n",
       "      <td>gJGXoQ6UzqK-cWVO8MnGHA</td>\n",
       "      <td>False</td>\n",
       "    </tr>\n",
       "    <tr>\n",
       "      <th>4</th>\n",
       "      <td>228951</td>\n",
       "      <td>RESDUcs7fIiihp38-d6_6g</td>\n",
       "      <td>Bacchanal Buffet</td>\n",
       "      <td>['Sandwiches', 'Buffets', 'Restaurants', 'Brea...</td>\n",
       "      <td>4.0</td>\n",
       "      <td>0</td>\n",
       "      <td>2015-10-14</td>\n",
       "      <td>0</td>\n",
       "      <td>9SGHR-0E37W9rC56uJeFPA</td>\n",
       "      <td>5</td>\n",
       "      <td>Wholly schneikeis!   This was simply the best ...</td>\n",
       "      <td>0</td>\n",
       "      <td>ej7th1TBk_WA_y4GU0n_iw</td>\n",
       "      <td>True</td>\n",
       "    </tr>\n",
       "  </tbody>\n",
       "</table>\n",
       "</div>"
      ],
      "text/plain": [
       "    index             business_id              name  \\\n",
       "0  228947  RESDUcs7fIiihp38-d6_6g  Bacchanal Buffet   \n",
       "1  228948  RESDUcs7fIiihp38-d6_6g  Bacchanal Buffet   \n",
       "2  228949  RESDUcs7fIiihp38-d6_6g  Bacchanal Buffet   \n",
       "3  228950  RESDUcs7fIiihp38-d6_6g  Bacchanal Buffet   \n",
       "4  228951  RESDUcs7fIiihp38-d6_6g  Bacchanal Buffet   \n",
       "\n",
       "                                          categories  avg_stars  cool  \\\n",
       "0  ['Sandwiches', 'Buffets', 'Restaurants', 'Brea...        4.0     0   \n",
       "1  ['Sandwiches', 'Buffets', 'Restaurants', 'Brea...        4.0     0   \n",
       "2  ['Sandwiches', 'Buffets', 'Restaurants', 'Brea...        4.0     0   \n",
       "3  ['Sandwiches', 'Buffets', 'Restaurants', 'Brea...        4.0     0   \n",
       "4  ['Sandwiches', 'Buffets', 'Restaurants', 'Brea...        4.0     0   \n",
       "\n",
       "         date  funny               review_id  stars  \\\n",
       "0  2015-02-25      0  pWnR3FNqTq1AoaZVj6cayw      3   \n",
       "1  2017-07-02      0  Xci8QJaDOB7OazJIP9U0Cw      5   \n",
       "2  2015-12-29      0  IZO6o6l-T8VKH-4eTzJNzw      3   \n",
       "3  2016-03-19      0  KNYBYYO0Iq1QEsP4noql5g      4   \n",
       "4  2015-10-14      0  9SGHR-0E37W9rC56uJeFPA      5   \n",
       "\n",
       "                                                text  useful  \\\n",
       "0  Date & Time: Tuesday, 2/24/15 @ 2pm\\n\\nThe buf...       0   \n",
       "1  I'm staying at Caesar's Palace for 4th of July...       0   \n",
       "2  Great buffet and beautiful food presentation. ...       0   \n",
       "3  By far the best buffet in Vegas!! A must stop,...       2   \n",
       "4  Wholly schneikeis!   This was simply the best ...       0   \n",
       "\n",
       "                  user_id  favorable  \n",
       "0  RFIZhrka0gCpiL62M5E93g      False  \n",
       "1  J90_7u_8vPYa03GMohNxAA       True  \n",
       "2  KGGA28eimhhOgHmSfyhEgw      False  \n",
       "3  gJGXoQ6UzqK-cWVO8MnGHA      False  \n",
       "4  ej7th1TBk_WA_y4GU0n_iw       True  "
      ]
     },
     "execution_count": 23,
     "metadata": {},
     "output_type": "execute_result"
    }
   ],
   "source": [
    "# Find the business who got most reviews, get filtered df, name it df_top_restaurant\n",
    "most_reviewed_restaurant = df['business_id'].value_counts().index[0]\n",
    "\n",
    "df_top_restaurant = df[df['business_id'] == most_reviewed_restaurant].copy().reset_index()\n",
    "\n",
    "df_top_restaurant.head()"
   ]
  },
  {
   "cell_type": "markdown",
   "metadata": {},
   "source": [
    "We can also load restaurant profile information from the business dataset"
   ]
  },
  {
   "cell_type": "code",
   "execution_count": 24,
   "metadata": {
    "collapsed": true
   },
   "outputs": [],
   "source": [
    "# Load business dataset \n",
    "\n",
    "import json\n",
    "import pandas as pd\n",
    "\n",
    "file_business = \"dataset/business.json\"\n",
    "with open(file_business) as f:\n",
    "    df_business = pd.DataFrame(json.loads(line) for line in f)"
   ]
  },
  {
   "cell_type": "code",
   "execution_count": 25,
   "metadata": {},
   "outputs": [
    {
     "data": {
      "text/html": [
       "<div>\n",
       "<style>\n",
       "    .dataframe thead tr:only-child th {\n",
       "        text-align: right;\n",
       "    }\n",
       "\n",
       "    .dataframe thead th {\n",
       "        text-align: left;\n",
       "    }\n",
       "\n",
       "    .dataframe tbody tr th {\n",
       "        vertical-align: top;\n",
       "    }\n",
       "</style>\n",
       "<table border=\"1\" class=\"dataframe\">\n",
       "  <thead>\n",
       "    <tr style=\"text-align: right;\">\n",
       "      <th></th>\n",
       "      <th>address</th>\n",
       "      <th>attributes</th>\n",
       "      <th>business_id</th>\n",
       "      <th>categories</th>\n",
       "      <th>city</th>\n",
       "      <th>hours</th>\n",
       "      <th>is_open</th>\n",
       "      <th>latitude</th>\n",
       "      <th>longitude</th>\n",
       "      <th>name</th>\n",
       "      <th>neighborhood</th>\n",
       "      <th>postal_code</th>\n",
       "      <th>review_count</th>\n",
       "      <th>stars</th>\n",
       "      <th>state</th>\n",
       "    </tr>\n",
       "  </thead>\n",
       "  <tbody>\n",
       "    <tr>\n",
       "      <th>119907</th>\n",
       "      <td>3570 S Las Vegas Blvd</td>\n",
       "      <td>{'WheelchairAccessible': True, 'OutdoorSeating...</td>\n",
       "      <td>RESDUcs7fIiihp38-d6_6g</td>\n",
       "      <td>[Sandwiches, Buffets, Restaurants, Breakfast &amp;...</td>\n",
       "      <td>Las Vegas</td>\n",
       "      <td>{'Monday': '7:30-22:00', 'Tuesday': '7:30-22:0...</td>\n",
       "      <td>1</td>\n",
       "      <td>36.116113</td>\n",
       "      <td>-115.176222</td>\n",
       "      <td>Bacchanal Buffet</td>\n",
       "      <td>The Strip</td>\n",
       "      <td>89109</td>\n",
       "      <td>7009</td>\n",
       "      <td>4.0</td>\n",
       "      <td>NV</td>\n",
       "    </tr>\n",
       "  </tbody>\n",
       "</table>\n",
       "</div>"
      ],
      "text/plain": [
       "                      address  \\\n",
       "119907  3570 S Las Vegas Blvd   \n",
       "\n",
       "                                               attributes  \\\n",
       "119907  {'WheelchairAccessible': True, 'OutdoorSeating...   \n",
       "\n",
       "                   business_id  \\\n",
       "119907  RESDUcs7fIiihp38-d6_6g   \n",
       "\n",
       "                                               categories       city  \\\n",
       "119907  [Sandwiches, Buffets, Restaurants, Breakfast &...  Las Vegas   \n",
       "\n",
       "                                                    hours  is_open   latitude  \\\n",
       "119907  {'Monday': '7:30-22:00', 'Tuesday': '7:30-22:0...        1  36.116113   \n",
       "\n",
       "         longitude              name neighborhood postal_code  review_count  \\\n",
       "119907 -115.176222  Bacchanal Buffet    The Strip       89109          7009   \n",
       "\n",
       "        stars state  \n",
       "119907    4.0    NV  "
      ]
     },
     "execution_count": 25,
     "metadata": {},
     "output_type": "execute_result"
    }
   ],
   "source": [
    "# Take a look at the most reviewed restaurant's profile \n",
    "df_business[df_business['business_id'] == most_reviewed_restaurant]"
   ]
  },
  {
   "cell_type": "code",
   "execution_count": 26,
   "metadata": {},
   "outputs": [
    {
     "data": {
      "text/plain": [
       "array([list(['Sandwiches', 'Buffets', 'Restaurants', 'Breakfast & Brunch', 'Food'])],\n",
       "      dtype=object)"
      ]
     },
     "execution_count": 26,
     "metadata": {},
     "output_type": "execute_result"
    }
   ],
   "source": [
    "df_business[df_business['business_id'] == most_reviewed_restaurant]['categories'].values"
   ]
  },
  {
   "cell_type": "code",
   "execution_count": 27,
   "metadata": {},
   "outputs": [
    {
     "data": {
      "text/plain": [
       "array([{'WheelchairAccessible': True, 'OutdoorSeating': False, 'RestaurantsTakeOut': False, 'BusinessAcceptsCreditCards': True, 'RestaurantsGoodForGroups': True, 'Alcohol': 'full_bar', 'WiFi': 'no', 'RestaurantsDelivery': False, 'RestaurantsAttire': 'casual', 'HasTV': False, 'NoiseLevel': 'average', 'BusinessParking': {'valet': True, 'lot': False, 'validated': False, 'garage': True, 'street': False}, 'GoodForMeal': {'dessert': False, 'lunch': True, 'breakfast': False, 'dinner': True, 'brunch': True, 'latenight': False}, 'Caters': False, 'GoodForKids': True, 'RestaurantsReservations': False, 'RestaurantsPriceRange2': 3, 'Ambience': {'touristy': False, 'casual': True, 'trendy': False, 'romantic': False, 'intimate': False, 'classy': False, 'divey': False, 'upscale': False, 'hipster': False}, 'BikeParking': False, 'RestaurantsTableService': True}],\n",
       "      dtype=object)"
      ]
     },
     "execution_count": 27,
     "metadata": {},
     "output_type": "execute_result"
    }
   ],
   "source": [
    "df_business[df_business['business_id'] == most_reviewed_restaurant]['attributes'].values"
   ]
  },
  {
   "cell_type": "markdown",
   "metadata": {},
   "source": [
    "### Vectorize the text feature"
   ]
  },
  {
   "cell_type": "code",
   "execution_count": 28,
   "metadata": {},
   "outputs": [
    {
     "data": {
      "text/plain": [
       "array([\"Date & Time: Tuesday, 2/24/15 @ 2pm\\n\\nThe buffet was for two people at the price of $83 and some change. There is such variety when first stepping into the buffet. There are sections into seafood, american, mexican, italian, chinese/japanese, and dessert. They have charcuterie with a selection of cheeses as well as a salad section. They offer all you can drink beer and mimosas for $22 (each)\\n\\nThe buffet highlight for me was the fresh juices and dessert. The food was good, I rather settle for a buffet a boulder station for cheaper, than to go here again. The food here was a little bland and I didn't really enjoy most of it. They do have a tapas style going for some of the food selections so you can try most of the items they have to offer, but it was missing something -flavor. I decided to try this place out due to the numerous reviews on how great this place is, I would recommend it for you to try it at least once (the seafood was awesome). This place has amazing food presentation, but other than that, the lack of flavor in most of its items makes me steer away from here again.\",\n",
       "       \"I'm staying at Caesar's Palace for 4th of July weekend and today was my very first time visiting the long anticipated Bacchanal Buffet. I have to admit, with all the hype and 5 star positive reviews I have heard of this buffet (from friends, peers and other reviews) there was a heck of a lot to live up to. The result? Two thumbs up of approval. Absolutely AMAZING.\\nUpon entrance, I was blown away by the decor. Stunning. The restaurant utilizes glassware for much of their decor, which made for contemporary, yet comfortable ambiance, garnished with an array of the most appetizing dishes I have ever seen at a buffet - and I have been to many around the USA, especially buffets in Las Vegas.\\nI sampled everything. Starting with the Chinese food to the Mexican Sope (stuffed with zucchini flower and cheese) these were incredible - I could have eaten THREE. Next was the Wagyu Beef, Brisket, and the Suckling Pig - not fatty, full of meat, skin was cripsy - perfectly done and the chef on the meat station was a hoot! Ended the meal with an awesome selection of desserts. The dessert station - my favorite - where do I even begin? (salivate salivate) Most of the buffets in Vegas I've eaten at are overly sweet and taste like they've come out of a box. The desserts here are spot on. Gelato and Ice Cream selection is excellent. Some of the best ice creams I have ever tasted - lemon basil sorbet- heart heart. Rice pudding was refreshing and tart. The coconut macroons, Good Lord. For the holiday weekend they even decorated some of the desserts with little flags - super patriotic and thoughtful.\\nOverall, I give this buffet 5 stars, A+++. Service was spot on as well, Super attentive. \\nGreat attention to detail. \\nIf you want a great meal, great dessert, and great service hit the Bacchanal. My only gripe was that the wait was long to get in, but 100% worth it.\",\n",
       "       'Great buffet and beautiful food presentation. I came for brunch on Christmas Holiday and there was no line, so that was probably the highlight of the eatery. I wouldn\\'t pay $70 for this buffet again being that I had to wait in line for 15-20minutes for warm crab legs. They need to find a better method for serving the most demanded item in their buffet. I say try it once but don\\'t expect to get your food \"right away\" at this buffet.',\n",
       "       ...,\n",
       "       'Arrive before 11 to avoid the crowd.\\nWe walked right in when we got there around 10am on a Wednesday, but saw the huge line as we were leaving. Place was pretty good in terms of a buffet, wide selection, from salads, pizza, sushi, eggs. Other than my coffee mug being dirty and having to ask for a different one, we enjoyed our breakfast.',\n",
       "       \"I have never been to another Vegas buffet so I have no real comparison.  I did think the $40 something price tag for lunch was a lot at first, but once I saw everything included I didn't think it was bad.  I wish they had some alcohol options included though.  I way over indulged here, but everything was amazing.  Some of my favorites were the Asian area and the carving station.  The carving station had everything you could think of prime rib, ham, sausages, brisket, etc.  There was also the best sides near there great potatoes and vegetables.  I was a little disappointed in the seafood.  I hoped to see king or snow crab legs, but they only had Jonah crab claws which I am not much a fan of and I prefer my crab warm.  The Asian section had dim sum, standard Chinese dishes and sushi.  All of it great.  \\n\\nMark sure you do not fill up before having desserts.  There is so much to choose from and everything I had was beautiful and delicious.\",\n",
       "       \"Definitely the BEST Buffet in Vegas!!! Tip: Try and get here at the Lunch (it's the same as Dinner only costs less)! Brunch/Lunch is from 12-3:00pm. It was ALL wonderful & Delicious!\"],\n",
       "      dtype=object)"
      ]
     },
     "execution_count": 28,
     "metadata": {},
     "output_type": "execute_result"
    }
   ],
   "source": [
    "# Take the values of the column that contains review text data, save to a variable named \"documents_top_restaurant\"\n",
    "documents_top_restaurant = df_top_restaurant['text'].values\n",
    "documents_top_restaurant"
   ]
  },
  {
   "cell_type": "markdown",
   "metadata": {},
   "source": [
    "### Define target variable (for later classification use)"
   ]
  },
  {
   "cell_type": "markdown",
   "metadata": {},
   "source": [
    "#### Again, look at perfect (5 stars) and imperfect (1-4 stars) rating"
   ]
  },
  {
   "cell_type": "code",
   "execution_count": 29,
   "metadata": {},
   "outputs": [
    {
     "data": {
      "text/plain": [
       "array([0, 1, 0, ..., 0, 0, 1])"
      ]
     },
     "execution_count": 29,
     "metadata": {},
     "output_type": "execute_result"
    }
   ],
   "source": [
    "df_top_restaurant['favorable'] = (df_top_restaurant['stars'] > 4)\n",
    "target_top_restaurant = df_top_restaurant['favorable'].values.astype(int)\n",
    "target_top_restaurant"
   ]
  },
  {
   "cell_type": "markdown",
   "metadata": {},
   "source": [
    "#### Check the statistic of the target variable"
   ]
  },
  {
   "cell_type": "code",
   "execution_count": 30,
   "metadata": {},
   "outputs": [
    {
     "data": {
      "text/plain": [
       "0.3855629465385563"
      ]
     },
     "execution_count": 30,
     "metadata": {},
     "output_type": "execute_result"
    }
   ],
   "source": [
    "target_top_restaurant.mean()"
   ]
  },
  {
   "cell_type": "code",
   "execution_count": 31,
   "metadata": {},
   "outputs": [
    {
     "data": {
      "text/plain": [
       "((4059,), (4059,))"
      ]
     },
     "execution_count": 31,
     "metadata": {},
     "output_type": "execute_result"
    }
   ],
   "source": [
    "documents_top_restaurant.shape, target_top_restaurant.shape"
   ]
  },
  {
   "cell_type": "markdown",
   "metadata": {},
   "source": [
    "### Create training dataset and test dataset"
   ]
  },
  {
   "cell_type": "code",
   "execution_count": 32,
   "metadata": {
    "collapsed": true
   },
   "outputs": [],
   "source": [
    "from sklearn.cross_validation import train_test_split"
   ]
  },
  {
   "cell_type": "code",
   "execution_count": 33,
   "metadata": {
    "collapsed": true
   },
   "outputs": [],
   "source": [
    "# documents_top_restaurant is X, target_top_restaurant is y\n",
    "# Now split the data to training set and test set\n",
    "# Now data is smaller\n",
    "X_train, X_test, y_train, y_test = train_test_split(\n",
    "    documents_top_restaurant, target_top_restaurant, test_size = 0.4, random_state = 42\n",
    ")"
   ]
  },
  {
   "cell_type": "code",
   "execution_count": 34,
   "metadata": {},
   "outputs": [
    {
     "data": {
      "text/plain": [
       "((2435,), (1624,), (2435,), (1624,))"
      ]
     },
     "execution_count": 34,
     "metadata": {},
     "output_type": "execute_result"
    }
   ],
   "source": [
    "X_train.shape, X_test.shape, y_train.shape, y_test.shape"
   ]
  },
  {
   "cell_type": "markdown",
   "metadata": {},
   "source": [
    "### Get NLP representation of the documents"
   ]
  },
  {
   "cell_type": "code",
   "execution_count": 35,
   "metadata": {
    "collapsed": true
   },
   "outputs": [],
   "source": [
    "from sklearn.feature_extraction.text import TfidfVectorizer"
   ]
  },
  {
   "cell_type": "code",
   "execution_count": 36,
   "metadata": {
    "collapsed": true
   },
   "outputs": [],
   "source": [
    "# Create TfidfVectorizer, and name it vectorizer\n",
    "vectorizer = TfidfVectorizer(stop_words = 'english', max_features = 1000)"
   ]
  },
  {
   "cell_type": "code",
   "execution_count": 37,
   "metadata": {},
   "outputs": [
    {
     "name": "stderr",
     "output_type": "stream",
     "text": [
      "/Users/luoyiting/anaconda/lib/python3.5/site-packages/sklearn/feature_extraction/text.py:1059: FutureWarning: Conversion of the second argument of issubdtype from `float` to `np.floating` is deprecated. In future, it will be treated as `np.float64 == np.dtype(float).type`.\n",
      "  if hasattr(X, 'dtype') and np.issubdtype(X.dtype, np.float):\n"
     ]
    }
   ],
   "source": [
    "# Train the model with your training data\n",
    "vectors_train = vectorizer.fit_transform(X_train).toarray() # toarray avoid sparse matrix"
   ]
  },
  {
   "cell_type": "code",
   "execution_count": 38,
   "metadata": {
    "collapsed": true
   },
   "outputs": [],
   "source": [
    "# Get the vocab of your tfidf\n",
    "words = vectorizer.get_feature_names()"
   ]
  },
  {
   "cell_type": "code",
   "execution_count": 39,
   "metadata": {},
   "outputs": [
    {
     "name": "stderr",
     "output_type": "stream",
     "text": [
      "/Users/luoyiting/anaconda/lib/python3.5/site-packages/sklearn/feature_extraction/text.py:1059: FutureWarning: Conversion of the second argument of issubdtype from `float` to `np.floating` is deprecated. In future, it will be treated as `np.float64 == np.dtype(float).type`.\n",
      "  if hasattr(X, 'dtype') and np.issubdtype(X.dtype, np.float):\n"
     ]
    }
   ],
   "source": [
    "# Use the trained model to transform the test data\n",
    "vectors_test = vectorizer.transform(X_test).toarray()"
   ]
  },
  {
   "cell_type": "code",
   "execution_count": 40,
   "metadata": {},
   "outputs": [
    {
     "name": "stderr",
     "output_type": "stream",
     "text": [
      "/Users/luoyiting/anaconda/lib/python3.5/site-packages/sklearn/feature_extraction/text.py:1059: FutureWarning: Conversion of the second argument of issubdtype from `float` to `np.floating` is deprecated. In future, it will be treated as `np.float64 == np.dtype(float).type`.\n",
      "  if hasattr(X, 'dtype') and np.issubdtype(X.dtype, np.float):\n"
     ]
    }
   ],
   "source": [
    "# Use the trained model to transform all the data\n",
    "vectors_documents_top_restaurant = vectorizer.transform(documents_top_restaurant).toarray()"
   ]
  },
  {
   "cell_type": "markdown",
   "metadata": {},
   "source": [
    "### Cluster reviews with KMeans"
   ]
  },
  {
   "cell_type": "markdown",
   "metadata": {},
   "source": [
    "#### Fit k-means clustering on the training vectors and make predictions on all data"
   ]
  },
  {
   "cell_type": "code",
   "execution_count": 41,
   "metadata": {},
   "outputs": [
    {
     "data": {
      "text/plain": [
       "KMeans(algorithm='auto', copy_x=True, init='k-means++', max_iter=300,\n",
       "    n_clusters=5, n_init=10, n_jobs=1, precompute_distances='auto',\n",
       "    random_state=None, tol=0.0001, verbose=0)"
      ]
     },
     "execution_count": 41,
     "metadata": {},
     "output_type": "execute_result"
    }
   ],
   "source": [
    "kmeans = KMeans(n_clusters = 5)\n",
    "kmeans.fit(vectors_train)"
   ]
  },
  {
   "cell_type": "markdown",
   "metadata": {},
   "source": [
    "#### Make predictions on all your data"
   ]
  },
  {
   "cell_type": "code",
   "execution_count": 42,
   "metadata": {
    "collapsed": true
   },
   "outputs": [],
   "source": [
    "assigned_cluster = kmeans.predict(vectors_documents_top_restaurant)"
   ]
  },
  {
   "cell_type": "markdown",
   "metadata": {},
   "source": [
    "#### Inspect the centroids"
   ]
  },
  {
   "cell_type": "code",
   "execution_count": 43,
   "metadata": {},
   "outputs": [
    {
     "name": "stdout",
     "output_type": "stream",
     "text": [
      "cluster centroids:\n",
      "(5, 1000)\n"
     ]
    }
   ],
   "source": [
    "print (\"cluster centroids:\")\n",
    "print (kmeans.cluster_centers_.shape)"
   ]
  },
  {
   "cell_type": "markdown",
   "metadata": {},
   "source": [
    "#### Find the top 10 features for each cluster."
   ]
  },
  {
   "cell_type": "code",
   "execution_count": 44,
   "metadata": {},
   "outputs": [
    {
     "name": "stdout",
     "output_type": "stream",
     "text": [
      "top features for each cluster:\n",
      "0: line,wait,time,food,long,buffet,hour,got,hours\n",
      "1: crab,legs,buffet,king,good,food,prime,oysters,dinner\n",
      "2: best,buffet,vegas,food,great,las,buffets,quality,worth\n",
      "3: food,good,buffet,place,service,price,great,worth,quality\n",
      "4: buffet,seafood,food,section,station,dessert,asian,good,like\n"
     ]
    }
   ],
   "source": [
    "n_feat = 10\n",
    "top_centroids = kmeans.cluster_centers_.argsort()[:, -1:-n_feat:-1]\n",
    "\n",
    "print (\"top features for each cluster:\")\n",
    "for num, centroid in enumerate(top_centroids):\n",
    "    print (\"%d: %s\" % (num, \",\".join(words[i] for i in centroid)))"
   ]
  },
  {
   "cell_type": "markdown",
   "metadata": {},
   "source": [
    "#### Print out the rating and review of a random sample of the reviews assigned to each cluster to get a sense of the cluster."
   ]
  },
  {
   "cell_type": "code",
   "execution_count": 45,
   "metadata": {
    "scrolled": false
   },
   "outputs": [
    {
     "name": "stdout",
     "output_type": "stream",
     "text": [
      "==========\n",
      "Cluster 0:\n",
      "  4 -  \n",
      "The decor is plain but that's not why you come here. You go to Delmonico for the great steaks, sides and yummy desserts. This place is almost always five stars for me but this last visit I made then mistake and deviated from my normal order of filet mignon and did the surf and turf special instead. The lobster was good (not sure if I would say amazing since it was slathered in bearnaise sauce) but the steak was only so-so; not up to normal Delmonico quality. Covering it in the amazing house steak sauce did help but I wouldn't recommend ordering the surf and turf.\n",
      "  3 -  \n",
      "Used my Vegas Rewards points and scored 2 Dinner MGM Grand Buffets it was great for the price $0...prime rib, crab, shrimp and all the fixins\n",
      "==========\n",
      "Cluster 1:\n",
      "  5 -  \n",
      "Food. Was. Amazing. \n",
      "I tried the Chicken & Waffles with an Apple Compote. It was great! \n",
      "Bring your appetite!\n",
      "  5 -  \n",
      "Great Pho!! Had the classic beef pho (number 5), which did not disappoint with a rich flavorful broth. Would eat here again if I lived in Vegas.\n",
      "==========\n",
      "Cluster 2:\n",
      "  3 -  \n",
      "My sister-n-law introduced me to Smashburger when I first moved here and was raving about the burgers. So we went several times, and I did love the burgers. Then, I had a burger somewhere on Decatur that tasted fishy and that was the last time I ate there a few years ago. I decided to give them another try recently. There still not as great as my first experiences and are just OK. I don't think I'll give them another try.\n",
      "  5 -  \n",
      "What seems like a little hole in the wall holds such delicious Filipino foods. Came here with a group of 10 and we were able to fit comfortably in the restaursnt, but I don't think it can really hold more than 15. \n",
      "\n",
      "I ordered the Longsilog and everything was delicious, the longanisa, fried rice, achara, and egg. I also ordered a melon juice which went very well with my lunch and tasted very refreshing. \n",
      "\n",
      "Tip: \n",
      "\n",
      "Parking is either on the side where the trucks roll in or Park on the street facing the restaurant.\n",
      "==========\n",
      "Cluster 3:\n",
      "  5 -  \n",
      "You can be a sucker and wait two hours for bottomless drink options at some over the top brunch spot on the strip (which I've done), or you can take a short drive to this place and risk exploding from eating so much deliciousness. We hit this place THREE TIMES this weekend, I just couldn't say away.  If you're looking for some down to earth, luscious diner food, make the trip. You won't be disappointed. Short wait times, friendly staff, and the food is just perf.\n",
      "  4 -  \n",
      "Yum! Good old fashioned breakfast at a reasonable price. You get a lot of being for your buck here. I ordered the mini-volcano with the harvest pancakes. The meal was good, but pancakes were literally falling apart. They may need to perfect that recipe a little more. We had good service too, my coffee never got cold and our waiter was very polite. Overall it was a good experience and we will be returning.\n",
      "==========\n",
      "Cluster 4:\n",
      "  3 -  \n",
      "It is about $30 for brunch on Saturday without tip.  I would say it is ok.  I have ate plenty of breakfast buffet in Las Vegas before. I would say go to another place for the bang of the buck.  Its not bad nor good. Only thing I like this past weekend are the apple sausages and Yogurt for brunch. Other than that, save your money and try something else.  Plenty of better buffets in my opinion that are better.  Great customer service but just not that good for that price. Waiters and staff are friendly and helpful. I give it 3 star. Also if you sign up with MGM Grand hotel stay, look for promo code. You will get 2 free buffets per stay.\n",
      "  2 -  \n",
      "Service average. Atmosphere average. Food....needs significant improvement. Well below average.\n"
     ]
    }
   ],
   "source": [
    "for i in range(kmeans.n_clusters):\n",
    "    cluster = np.arange(0, vectors_documents_top_restaurant.shape[0])[assigned_cluster == i]\n",
    "    sample_reviews = np.random.choice(cluster, 2, replace = False)\n",
    "    print (\"=\" * 10)\n",
    "    print (\"Cluster %d:\" % i)\n",
    "    for review_index in sample_reviews:\n",
    "        print(\"  %s -  \" % df.iloc[review_index]['stars']),\n",
    "        print(\"%s\" % df.iloc[review_index]['text'])\n",
    "    print"
   ]
  },
  {
   "cell_type": "markdown",
   "metadata": {},
   "source": [
    "## 3. Use PCA to reduce dimensionality"
   ]
  },
  {
   "cell_type": "markdown",
   "metadata": {},
   "source": [
    "### Stardardize features\n",
    "X_train and X_test\n",
    "\n",
    "standardize features by removing the mean and scaling to the unit varience, to make sure the importance of every feature is equal."
   ]
  },
  {
   "cell_type": "code",
   "execution_count": 46,
   "metadata": {
    "collapsed": true
   },
   "outputs": [],
   "source": [
    "from sklearn.preprocessing import StandardScaler\n",
    "\n",
    "scaler = StandardScaler()\n",
    "X_train_scaled = scaler.fit_transform(vectors_train)\n",
    "X_test_scaled = scaler.transform(vectors_test)"
   ]
  },
  {
   "cell_type": "markdown",
   "metadata": {},
   "source": [
    "### Use PCA to transform data (train and test) and get princial components"
   ]
  },
  {
   "cell_type": "code",
   "execution_count": 47,
   "metadata": {
    "collapsed": true
   },
   "outputs": [],
   "source": [
    "from sklearn.decomposition import PCA\n",
    "\n",
    "n_col = 50\n",
    "pca = PCA(n_components = n_col)\n",
    "\n",
    "\n",
    "X_train_pca = pca.fit_transform(X_train_scaled)\n",
    "X_test_pca = pca.transform(X_test_scaled)\n"
   ]
  },
  {
   "cell_type": "code",
   "execution_count": 48,
   "metadata": {},
   "outputs": [
    {
     "data": {
      "text/plain": [
       "((2435, 50), (1624, 50))"
      ]
     },
     "execution_count": 48,
     "metadata": {},
     "output_type": "execute_result"
    }
   ],
   "source": [
    "X_train_pca.shape, X_test_pca.shape"
   ]
  },
  {
   "cell_type": "markdown",
   "metadata": {},
   "source": [
    "### See how much (and how much percentage of) variance the principal components explain"
   ]
  },
  {
   "cell_type": "code",
   "execution_count": 49,
   "metadata": {},
   "outputs": [
    {
     "name": "stdout",
     "output_type": "stream",
     "text": [
      "[8.42908241 6.55077303 4.37295566 4.12875352 3.77257293 3.50508557\n",
      " 3.40842388 3.25832109 3.22979255 3.09370278]\n"
     ]
    }
   ],
   "source": [
    "print (pca.explained_variance_[:10])"
   ]
  },
  {
   "cell_type": "code",
   "execution_count": 50,
   "metadata": {},
   "outputs": [
    {
     "name": "stdout",
     "output_type": "stream",
     "text": [
      "[0.00842908 0.00655077 0.00437296 0.00412875 0.00377257 0.00350509\n",
      " 0.00340842 0.00325832 0.00322979 0.0030937 ]\n"
     ]
    }
   ],
   "source": [
    "print (pca.explained_variance_ratio_[:10])"
   ]
  },
  {
   "cell_type": "markdown",
   "metadata": {},
   "source": [
    "### Viz: plot proportion of variance explained with top principal components\n",
    "\n",
    "For clear display, start with plotting <=20 principal components"
   ]
  },
  {
   "cell_type": "code",
   "execution_count": 51,
   "metadata": {},
   "outputs": [
    {
     "data": {
      "image/png": "[encoded data removed]",
      "text/plain": [
       "<matplotlib.figure.Figure at 0x1141708d0>"
      ]
     },
     "metadata": {},
     "output_type": "display_data"
    }
   ],
   "source": [
    "n_col_to_display = 20\n",
    "\n",
    "pca_range = np.arange(n_col_to_display) + 1\n",
    "pca_names = [\"PCA%s\" % i for i in pca_range]\n",
    "\n",
    "plt.figure(figsize = (10, 10))\n",
    "plt.bar(pca_range,\n",
    "       pca.explained_variance_[:n_col_to_display],\n",
    "       align = 'center')\n",
    "xticks = plt.xticks(pca_range,\n",
    "                   pca_names,\n",
    "                   rotation = 90)\n",
    "plt.ylabel('Variance Explained')\n",
    "plt.show()"
   ]
  },
  {
   "cell_type": "markdown",
   "metadata": {},
   "source": [
    "## Classifying positive/negative review with PCA preprocessing"
   ]
  },
  {
   "cell_type": "markdown",
   "metadata": {},
   "source": [
    "### Logistic Regression Classifier\n",
    "#### Use standardized tf-idf vectors as features (without PCA)"
   ]
  },
  {
   "cell_type": "code",
   "execution_count": 52,
   "metadata": {},
   "outputs": [
    {
     "data": {
      "text/plain": [
       "LogisticRegression(C=1.0, class_weight=None, dual=False, fit_intercept=True,\n",
       "          intercept_scaling=1, max_iter=100, multi_class='ovr', n_jobs=1,\n",
       "          penalty='l2', random_state=None, solver='liblinear', tol=0.0001,\n",
       "          verbose=0, warm_start=False)"
      ]
     },
     "execution_count": 52,
     "metadata": {},
     "output_type": "execute_result"
    }
   ],
   "source": [
    "# Build a Logistic Regression Classifier, train with standardized tf-idf vectors\n",
    "\n",
    "from sklearn.linear_model import LogisticRegression\n",
    "\n",
    "model_lrc = LogisticRegression()\n",
    "\n",
    "model_lrc.fit(X_train_scaled, y_train)"
   ]
  },
  {
   "cell_type": "code",
   "execution_count": 53,
   "metadata": {},
   "outputs": [
    {
     "data": {
      "text/plain": [
       "0.9971252566735113"
      ]
     },
     "execution_count": 53,
     "metadata": {},
     "output_type": "execute_result"
    }
   ],
   "source": [
    "# Get score for training set\n",
    "model_lrc.score(X_train_scaled, y_train)"
   ]
  },
  {
   "cell_type": "code",
   "execution_count": 54,
   "metadata": {
    "scrolled": true
   },
   "outputs": [
    {
     "data": {
      "text/plain": [
       "0.7112068965517241"
      ]
     },
     "execution_count": 54,
     "metadata": {},
     "output_type": "execute_result"
    }
   ],
   "source": [
    "# Get score for test set\n",
    "model_lrc.score(X_test_scaled, y_test)"
   ]
  },
  {
   "cell_type": "markdown",
   "metadata": {},
   "source": [
    "#### Use (Stardardized + PCA) tf-idf vectors as features"
   ]
  },
  {
   "cell_type": "code",
   "execution_count": 55,
   "metadata": {},
   "outputs": [
    {
     "data": {
      "text/plain": [
       "LogisticRegression(C=1.0, class_weight=None, dual=False, fit_intercept=True,\n",
       "          intercept_scaling=1, max_iter=100, multi_class='ovr', n_jobs=1,\n",
       "          penalty='l2', random_state=None, solver='liblinear', tol=0.0001,\n",
       "          verbose=0, warm_start=False)"
      ]
     },
     "execution_count": 55,
     "metadata": {},
     "output_type": "execute_result"
    }
   ],
   "source": [
    "# Build a Logistic Regression Classifier, train with PCA tranformed X\n",
    "\n",
    "from sklearn.linear_model import LogisticRegression\n",
    "\n",
    "model_lrc = LogisticRegression()\n",
    "\n",
    "model_lrc.fit(X_train_pca, y_train)"
   ]
  },
  {
   "cell_type": "code",
   "execution_count": 56,
   "metadata": {},
   "outputs": [
    {
     "data": {
      "text/plain": [
       "0.7860369609856263"
      ]
     },
     "execution_count": 56,
     "metadata": {},
     "output_type": "execute_result"
    }
   ],
   "source": [
    "# Get score for training set\n",
    "model_lrc.score(X_train_pca, y_train)"
   ]
  },
  {
   "cell_type": "code",
   "execution_count": 57,
   "metadata": {},
   "outputs": [
    {
     "data": {
      "text/plain": [
       "0.7869458128078818"
      ]
     },
     "execution_count": 57,
     "metadata": {},
     "output_type": "execute_result"
    }
   ],
   "source": [
    "# Get score for test set, REMEMBER to use PCA-transformed X!\n",
    "model_lrc.score(X_test_pca, y_test)"
   ]
  },
  {
   "cell_type": "markdown",
   "metadata": {},
   "source": [
    "Thus, in this case, PCA helps us to avoid over-fitting. However, the interpretation of standarization + PCA is worse than standarization only."
   ]
  },
  {
   "cell_type": "markdown",
   "metadata": {},
   "source": [
    "#### Plot the coefficients against principal components\n"
   ]
  },
  {
   "cell_type": "code",
   "execution_count": 58,
   "metadata": {},
   "outputs": [
    {
     "data": {
      "image/png": "[encoded data removed]",
      "text/plain": [
       "<matplotlib.figure.Figure at 0x114160400>"
      ]
     },
     "metadata": {},
     "output_type": "display_data"
    }
   ],
   "source": [
    "pca_range = np.arange(pca.n_components_)\n",
    "pca_names = ['PC_%s' % i for i in pca_range]\n",
    "\n",
    "df_coeffs = pd.DataFrame(list(zip(pca_names, abs(model_lrc.coef_.flatten())))).sort_values(by = [1], ascending = False)\n",
    "df_coeffs.columns = ['PCs', 'coeff']\n",
    "\n",
    "ax = df_coeffs.plot.barh(figsize = (10, 10))\n",
    "t = np.arange(pca.n_components_)\n",
    "ax.set_yticks(t)\n",
    "ax.set_yticklabels(df_coeffs['PCs'])\n",
    "plt.show()"
   ]
  },
  {
   "cell_type": "markdown",
   "metadata": {},
   "source": [
    "### Random Forest Classifier\n",
    "#### Use standardized tf-idf vectors as features"
   ]
  },
  {
   "cell_type": "code",
   "execution_count": 59,
   "metadata": {},
   "outputs": [
    {
     "data": {
      "text/plain": [
       "RandomForestClassifier(bootstrap=True, class_weight=None, criterion='gini',\n",
       "            max_depth=None, max_features='auto', max_leaf_nodes=None,\n",
       "            min_impurity_split=1e-07, min_samples_leaf=3,\n",
       "            min_samples_split=2, min_weight_fraction_leaf=0.0,\n",
       "            n_estimators=40, n_jobs=1, oob_score=False, random_state=42,\n",
       "            verbose=0, warm_start=False)"
      ]
     },
     "execution_count": 59,
     "metadata": {},
     "output_type": "execute_result"
    }
   ],
   "source": [
    "# Build a Random Forest Classifier\n",
    "\n",
    "from sklearn.ensemble import RandomForestClassifier\n",
    "\n",
    "model_rfc = RandomForestClassifier (max_depth = None,\n",
    "                                    n_estimators = 40,\n",
    "                                    min_samples_leaf = 3,\n",
    "                                    random_state = 42)\n",
    "model_rfc.fit(X_train_scaled, y_train)"
   ]
  },
  {
   "cell_type": "code",
   "execution_count": 60,
   "metadata": {},
   "outputs": [
    {
     "data": {
      "text/plain": [
       "0.9535934291581109"
      ]
     },
     "execution_count": 60,
     "metadata": {},
     "output_type": "execute_result"
    }
   ],
   "source": [
    "# Get score for training set\n",
    "model_rfc.score(X_train_scaled, y_train)"
   ]
  },
  {
   "cell_type": "code",
   "execution_count": 61,
   "metadata": {
    "scrolled": true
   },
   "outputs": [
    {
     "data": {
      "text/plain": [
       "0.7450738916256158"
      ]
     },
     "execution_count": 61,
     "metadata": {},
     "output_type": "execute_result"
    }
   ],
   "source": [
    "# Get score for test set\n",
    "model_rfc.score(X_test_scaled, y_test)"
   ]
  },
  {
   "cell_type": "markdown",
   "metadata": {},
   "source": [
    "#### Use (Stardardized + PCA) tf-idf vectors as features"
   ]
  },
  {
   "cell_type": "code",
   "execution_count": 62,
   "metadata": {},
   "outputs": [
    {
     "data": {
      "text/plain": [
       "RandomForestClassifier(bootstrap=True, class_weight=None, criterion='gini',\n",
       "            max_depth=None, max_features='auto', max_leaf_nodes=None,\n",
       "            min_impurity_split=1e-07, min_samples_leaf=3,\n",
       "            min_samples_split=2, min_weight_fraction_leaf=0.0,\n",
       "            n_estimators=40, n_jobs=1, oob_score=False, random_state=42,\n",
       "            verbose=0, warm_start=False)"
      ]
     },
     "execution_count": 62,
     "metadata": {},
     "output_type": "execute_result"
    }
   ],
   "source": [
    "# Build a Random Forest Classifier\n",
    "\n",
    "from sklearn.ensemble import RandomForestClassifier\n",
    "\n",
    "model_rfc = RandomForestClassifier(max_depth = None,\n",
    "                                   n_estimators = 40,\n",
    "                                   min_samples_leaf = 3,\n",
    "                                   random_state = 42)\n",
    "model_rfc.fit(X_train_pca, y_train)"
   ]
  },
  {
   "cell_type": "code",
   "execution_count": 63,
   "metadata": {},
   "outputs": [
    {
     "data": {
      "text/plain": [
       "0.988911704312115"
      ]
     },
     "execution_count": 63,
     "metadata": {},
     "output_type": "execute_result"
    }
   ],
   "source": [
    "# Get score for training set\n",
    "model_rfc.score(X_train_pca, y_train)"
   ]
  },
  {
   "cell_type": "code",
   "execution_count": 64,
   "metadata": {},
   "outputs": [
    {
     "data": {
      "text/plain": [
       "0.7469211822660099"
      ]
     },
     "execution_count": 64,
     "metadata": {},
     "output_type": "execute_result"
    }
   ],
   "source": [
    "# Get score for test set, REMEMBER to use PCA-transformed X!\n",
    "model_rfc.score(X_test_pca, y_test)"
   ]
  },
  {
   "cell_type": "markdown",
   "metadata": {},
   "source": [
    "Generally, random forest model is not easy to be over-fitted because this model decrease variance. In this case, the above result shows that random forest is over-fitted, we can guess it may because of large amount of noise in the data.\n",
    "\n",
    "PCA doesn't have much effect here."
   ]
  },
  {
   "cell_type": "markdown",
   "metadata": {},
   "source": [
    "#### Plot the feature importances against principal components\n"
   ]
  },
  {
   "cell_type": "code",
   "execution_count": 66,
   "metadata": {},
   "outputs": [
    {
     "data": {
      "image/png": "[encoded data removed]",
      "text/plain": [
       "<matplotlib.figure.Figure at 0x11acb5e10>"
      ]
     },
     "metadata": {},
     "output_type": "display_data"
    }
   ],
   "source": [
    "pca_range = np.arange(pca.n_components_)\n",
    "pca_names = ['PC_%s' % i for i in pca_range]\n",
    "\n",
    "df_coeffs = pd.DataFrame(list(zip(pca_names, model_rfc.feature_importances_))).sort_values(by = [1], ascending = False)\n",
    "df_coeffs.columns = ['PCs', 'feature importance']\n",
    "\n",
    "ax = df_coeffs.plot.barh(figsize = (10, 10))\n",
    "t = np.arange(pca.n_components_)\n",
    "ax.set_yticks(t)\n",
    "ax.set_yticklabels(df_coeffs['PCs'])\n",
    "plt.show()"
   ]
  },
  {
   "cell_type": "code",
   "execution_count": null,
   "metadata": {
    "collapsed": true
   },
   "outputs": [],
   "source": []
  }
 ],
 "metadata": {
  "anaconda-cloud": {},
  "kernelspec": {
   "display_name": "Python [conda env:anaconda]",
   "language": "python",
   "name": "conda-env-anaconda-py"
  },
  "language_info": {
   "codemirror_mode": {
    "name": "ipython",
    "version": 3
   },
   "file_extension": ".py",
   "mimetype": "text/x-python",
   "name": "python",
   "nbconvert_exporter": "python",
   "pygments_lexer": "ipython3",
   "version": "3.5.3"
  }
 },
 "nbformat": 4,
 "nbformat_minor": 1
}
